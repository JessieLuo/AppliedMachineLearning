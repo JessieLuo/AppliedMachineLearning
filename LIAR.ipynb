{
 "cells": [
  {
   "cell_type": "code",
   "execution_count": 1,
   "metadata": {},
   "outputs": [],
   "source": [
    "import numpy as np\n",
    "import pandas as pd\n",
    "import matplotlib.pyplot as plt\n",
    "import seaborn as sns"
   ]
  },
  {
   "cell_type": "markdown",
   "metadata": {},
   "source": [
    "## Data Overview"
   ]
  },
  {
   "cell_type": "markdown",
   "metadata": {},
   "source": [
    "### Read the Dataset"
   ]
  },
  {
   "cell_type": "code",
   "execution_count": 2,
   "metadata": {},
   "outputs": [],
   "source": [
    "column_names = [\n",
    "    'ID',                    # Column 1: ID of the statement\n",
    "    'Label',                 # Column 2: Label\n",
    "    'Statement',             # Column 3: Statement\n",
    "    'Subject',               # Column 4: Subject(s)\n",
    "    'Speaker',               # Column 5: Speaker\n",
    "    'Speaker Job Title',     # Column 6: Speaker's Job Title\n",
    "    'State Info',            # Column 7: State Info\n",
    "    'Party Affiliation',     # Column 8: Party Affiliation\n",
    "    'Barely True Count',     # Column 9: Barely True Counts\n",
    "    'False Count',           # Column 10: False Counts\n",
    "    'Half True Count',       # Column 11: Half True Counts\n",
    "    'Mostly True Count',     # Column 12: Mostly True Counts\n",
    "    'Pants on Fire Count',   # Column 13: Pants on Fire Counts\n",
    "    'Context'                # Column 14: Context (venue / location of the speech or statement)\n",
    "]"
   ]
  },
  {
   "cell_type": "code",
   "execution_count": 3,
   "metadata": {},
   "outputs": [],
   "source": [
    "def read_dataframe(tsv_file: str) -> pd.DataFrame : \n",
    "    # creates a \"dataframe\" or \"df\" for short. This is similar to a 2-D python dict.\n",
    "    df = pd.read_csv(tsv_file, delimiter='\\t')\n",
    "    ## Numerical Filled missing values with 0\n",
    "    numeric_columns = df.select_dtypes(include=['number']).columns\n",
    "    df[numeric_columns] = df[numeric_columns].fillna(0)\n",
    "    ## Categorical Filled missing values with an empty string\n",
    "    string_columns = df.select_dtypes(include=['object']).columns\n",
    "    df[string_columns] = df[string_columns].fillna(\"\")\n",
    "    # labels the columns in the dataset using the data dictionary described in the README\n",
    "    df.columns = column_names\n",
    "    return df"
   ]
  },
  {
   "cell_type": "code",
   "execution_count": 4,
   "metadata": {},
   "outputs": [],
   "source": [
    "df_train = read_dataframe('train.tsv')"
   ]
  },
  {
   "cell_type": "code",
   "execution_count": 5,
   "metadata": {},
   "outputs": [
    {
     "data": {
      "text/html": [
       "<div>\n",
       "<style scoped>\n",
       "    .dataframe tbody tr th:only-of-type {\n",
       "        vertical-align: middle;\n",
       "    }\n",
       "\n",
       "    .dataframe tbody tr th {\n",
       "        vertical-align: top;\n",
       "    }\n",
       "\n",
       "    .dataframe thead th {\n",
       "        text-align: right;\n",
       "    }\n",
       "</style>\n",
       "<table border=\"1\" class=\"dataframe\">\n",
       "  <thead>\n",
       "    <tr style=\"text-align: right;\">\n",
       "      <th></th>\n",
       "      <th>ID</th>\n",
       "      <th>Label</th>\n",
       "      <th>Statement</th>\n",
       "      <th>Subject</th>\n",
       "      <th>Speaker</th>\n",
       "      <th>Speaker Job Title</th>\n",
       "      <th>State Info</th>\n",
       "      <th>Party Affiliation</th>\n",
       "      <th>Barely True Count</th>\n",
       "      <th>False Count</th>\n",
       "      <th>Half True Count</th>\n",
       "      <th>Mostly True Count</th>\n",
       "      <th>Pants on Fire Count</th>\n",
       "      <th>Context</th>\n",
       "    </tr>\n",
       "  </thead>\n",
       "  <tbody>\n",
       "    <tr>\n",
       "      <th>0</th>\n",
       "      <td>10540.json</td>\n",
       "      <td>half-true</td>\n",
       "      <td>When did the decline of coal start? It started...</td>\n",
       "      <td>energy,history,job-accomplishments</td>\n",
       "      <td>scott-surovell</td>\n",
       "      <td>State delegate</td>\n",
       "      <td>Virginia</td>\n",
       "      <td>democrat</td>\n",
       "      <td>0.0</td>\n",
       "      <td>0.0</td>\n",
       "      <td>1.0</td>\n",
       "      <td>1.0</td>\n",
       "      <td>0.0</td>\n",
       "      <td>a floor speech.</td>\n",
       "    </tr>\n",
       "    <tr>\n",
       "      <th>1</th>\n",
       "      <td>324.json</td>\n",
       "      <td>mostly-true</td>\n",
       "      <td>Hillary Clinton agrees with John McCain \"by vo...</td>\n",
       "      <td>foreign-policy</td>\n",
       "      <td>barack-obama</td>\n",
       "      <td>President</td>\n",
       "      <td>Illinois</td>\n",
       "      <td>democrat</td>\n",
       "      <td>70.0</td>\n",
       "      <td>71.0</td>\n",
       "      <td>160.0</td>\n",
       "      <td>163.0</td>\n",
       "      <td>9.0</td>\n",
       "      <td>Denver</td>\n",
       "    </tr>\n",
       "    <tr>\n",
       "      <th>2</th>\n",
       "      <td>1123.json</td>\n",
       "      <td>false</td>\n",
       "      <td>Health care reform legislation is likely to ma...</td>\n",
       "      <td>health-care</td>\n",
       "      <td>blog-posting</td>\n",
       "      <td></td>\n",
       "      <td></td>\n",
       "      <td>none</td>\n",
       "      <td>7.0</td>\n",
       "      <td>19.0</td>\n",
       "      <td>3.0</td>\n",
       "      <td>5.0</td>\n",
       "      <td>44.0</td>\n",
       "      <td>a news release</td>\n",
       "    </tr>\n",
       "    <tr>\n",
       "      <th>3</th>\n",
       "      <td>9028.json</td>\n",
       "      <td>half-true</td>\n",
       "      <td>The economic turnaround started at the end of ...</td>\n",
       "      <td>economy,jobs</td>\n",
       "      <td>charlie-crist</td>\n",
       "      <td></td>\n",
       "      <td>Florida</td>\n",
       "      <td>democrat</td>\n",
       "      <td>15.0</td>\n",
       "      <td>9.0</td>\n",
       "      <td>20.0</td>\n",
       "      <td>19.0</td>\n",
       "      <td>2.0</td>\n",
       "      <td>an interview on CNN</td>\n",
       "    </tr>\n",
       "    <tr>\n",
       "      <th>4</th>\n",
       "      <td>12465.json</td>\n",
       "      <td>true</td>\n",
       "      <td>The Chicago Bears have had more starting quart...</td>\n",
       "      <td>education</td>\n",
       "      <td>robin-vos</td>\n",
       "      <td>Wisconsin Assembly speaker</td>\n",
       "      <td>Wisconsin</td>\n",
       "      <td>republican</td>\n",
       "      <td>0.0</td>\n",
       "      <td>3.0</td>\n",
       "      <td>2.0</td>\n",
       "      <td>5.0</td>\n",
       "      <td>1.0</td>\n",
       "      <td>a an online opinion-piece</td>\n",
       "    </tr>\n",
       "  </tbody>\n",
       "</table>\n",
       "</div>"
      ],
      "text/plain": [
       "           ID        Label                                          Statement  \\\n",
       "0  10540.json    half-true  When did the decline of coal start? It started...   \n",
       "1    324.json  mostly-true  Hillary Clinton agrees with John McCain \"by vo...   \n",
       "2   1123.json        false  Health care reform legislation is likely to ma...   \n",
       "3   9028.json    half-true  The economic turnaround started at the end of ...   \n",
       "4  12465.json         true  The Chicago Bears have had more starting quart...   \n",
       "\n",
       "                              Subject         Speaker  \\\n",
       "0  energy,history,job-accomplishments  scott-surovell   \n",
       "1                      foreign-policy    barack-obama   \n",
       "2                         health-care    blog-posting   \n",
       "3                        economy,jobs   charlie-crist   \n",
       "4                           education       robin-vos   \n",
       "\n",
       "            Speaker Job Title State Info Party Affiliation  Barely True Count  \\\n",
       "0              State delegate   Virginia          democrat                0.0   \n",
       "1                   President   Illinois          democrat               70.0   \n",
       "2                                                     none                7.0   \n",
       "3                                Florida          democrat               15.0   \n",
       "4  Wisconsin Assembly speaker  Wisconsin        republican                0.0   \n",
       "\n",
       "   False Count  Half True Count  Mostly True Count  Pants on Fire Count  \\\n",
       "0          0.0              1.0                1.0                  0.0   \n",
       "1         71.0            160.0              163.0                  9.0   \n",
       "2         19.0              3.0                5.0                 44.0   \n",
       "3          9.0             20.0               19.0                  2.0   \n",
       "4          3.0              2.0                5.0                  1.0   \n",
       "\n",
       "                     Context  \n",
       "0            a floor speech.  \n",
       "1                     Denver  \n",
       "2             a news release  \n",
       "3        an interview on CNN  \n",
       "4  a an online opinion-piece  "
      ]
     },
     "execution_count": 5,
     "metadata": {},
     "output_type": "execute_result"
    }
   ],
   "source": [
    "df_train.head()"
   ]
  },
  {
   "cell_type": "code",
   "execution_count": 6,
   "metadata": {},
   "outputs": [
    {
     "name": "stdout",
     "output_type": "stream",
     "text": [
      "<class 'pandas.core.frame.DataFrame'>\n",
      "RangeIndex: 10239 entries, 0 to 10238\n",
      "Data columns (total 14 columns):\n",
      " #   Column               Non-Null Count  Dtype  \n",
      "---  ------               --------------  -----  \n",
      " 0   ID                   10239 non-null  object \n",
      " 1   Label                10239 non-null  object \n",
      " 2   Statement            10239 non-null  object \n",
      " 3   Subject              10239 non-null  object \n",
      " 4   Speaker              10239 non-null  object \n",
      " 5   Speaker Job Title    10239 non-null  object \n",
      " 6   State Info           10239 non-null  object \n",
      " 7   Party Affiliation    10239 non-null  object \n",
      " 8   Barely True Count    10239 non-null  float64\n",
      " 9   False Count          10239 non-null  float64\n",
      " 10  Half True Count      10239 non-null  float64\n",
      " 11  Mostly True Count    10239 non-null  float64\n",
      " 12  Pants on Fire Count  10239 non-null  float64\n",
      " 13  Context              10239 non-null  object \n",
      "dtypes: float64(5), object(9)\n",
      "memory usage: 1.1+ MB\n"
     ]
    }
   ],
   "source": [
    "df_train.info()"
   ]
  },
  {
   "cell_type": "code",
   "execution_count": 8,
   "metadata": {},
   "outputs": [],
   "source": [
    "def show_news_article(input_df: pd.DataFrame, index: int) -> None:\n",
    "    \"\"\"\n",
    "    Most relevant columns analysis\n",
    "    \n",
    "    Parameter\n",
    "    ---------\n",
    "    `index`: the row in original dataset\n",
    "    \"\"\"\n",
    "    print(f\"speaker: {input_df.iat[index, 4]}\")\n",
    "    print(f\"subject(s): {input_df.iat[index, 3]}\")\n",
    "    print(f\"statement: {input_df.iat[index, 2]}\")\n",
    "    print(f\"label: {input_df.iat[index, 1]}\")"
   ]
  },
  {
   "cell_type": "code",
   "execution_count": 9,
   "metadata": {},
   "outputs": [
    {
     "name": "stdout",
     "output_type": "stream",
     "text": [
      "speaker: barack-obama\n",
      "subject(s): foreign-policy\n",
      "statement: Hillary Clinton agrees with John McCain \"by voting to give George Bush the benefit of the doubt on Iran.\"\n",
      "label: mostly-true\n"
     ]
    }
   ],
   "source": [
    "show_news_article(df_train, 1)"
   ]
  },
  {
   "cell_type": "markdown",
   "metadata": {},
   "source": [
    "### Explore the Dataset and Analysis"
   ]
  },
  {
   "cell_type": "code",
   "execution_count": 10,
   "metadata": {},
   "outputs": [],
   "source": [
    "def plotbh(df, col):\n",
    "    '''Draw boxplot and histogram for numerical variables'''\n",
    "    fig, axs = plt.subplots(1, 2, figsize=(18, 6))\n",
    "\n",
    "    # Boxplot\n",
    "    sns.boxplot(x=df[col], ax=axs[0])\n",
    "    axs[0].set_title('Box chart of ' + col)\n",
    "\n",
    "    # Histogram\n",
    "    sns.histplot(data=df, x=col, kde=True, ax=axs[1])\n",
    "    axs[1].set_title('Histogram of ' + col)\n",
    "\n",
    "    plt.tight_layout()\n",
    "    plt.show()"
   ]
  },
  {
   "cell_type": "code",
   "execution_count": 11,
   "metadata": {},
   "outputs": [
    {
     "data": {
      "text/plain": [
       "count    10239.000000\n",
       "mean        18.010743\n",
       "std          9.658795\n",
       "min          2.000000\n",
       "25%         12.000000\n",
       "50%         17.000000\n",
       "75%         22.000000\n",
       "max        467.000000\n",
       "Name: statement_words, dtype: float64"
      ]
     },
     "execution_count": 11,
     "metadata": {},
     "output_type": "execute_result"
    }
   ],
   "source": [
    "df_train['statement_words'] = df_train['Statement'].apply(lambda x : len(x.split()))\n",
    "df_train['statement_words'].describe()"
   ]
  },
  {
   "cell_type": "code",
   "execution_count": 12,
   "metadata": {},
   "outputs": [
    {
     "data": {
      "image/png": "[encoded data removed]",
      "text/plain": [
       "<Figure size 1800x600 with 2 Axes>"
      ]
     },
     "metadata": {},
     "output_type": "display_data"
    }
   ],
   "source": [
    "plotbh(df_train, 'statement_words')"
   ]
  },
  {
   "cell_type": "markdown",
   "metadata": {},
   "source": [
    "#### Label Analysis"
   ]
  },
  {
   "cell_type": "markdown",
   "metadata": {},
   "source": [
    "Code idea comes from [Kaggle](https://www.kaggle.com/code/hendrixwilsonj/liar-data-analysis#Exporting-our-model)"
   ]
  },
  {
   "cell_type": "code",
   "execution_count": 13,
   "metadata": {},
   "outputs": [],
   "source": [
    "def label_bar_chart(input_df: pd.DataFrame, title: str = \"LIAR Dataset\") -> None:\n",
    "    # computes frequencies of labels and converts to percentages\n",
    "    label_frequencies = input_df['Label'].value_counts(normalize=True)\n",
    "    \n",
    "    def multiply_100(x):\n",
    "        return x * 100\n",
    "    \n",
    "    # \"apply\" is a handy way to call a function on every row of data.\n",
    "    label_frequencies = label_frequencies.apply(multiply_100)\n",
    "    \n",
    "    # bar chart ordering and  colors for readability.\n",
    "    labels = ['pants-fire', 'false', 'barely-true', 'half-true', 'mostly-true', 'true']\n",
    "    colors = [\n",
    "        'orangered', # pants-fire\n",
    "        'coral', # false\n",
    "        'salmon', # barely-true\n",
    "        'peachpuff', # half-true\n",
    "        'skyblue', # mostly-true\n",
    "        'deepskyblue' # true\n",
    "    ]\n",
    "    label_frequencies = label_frequencies.reindex(index = labels)\n",
    "    \n",
    "    # creates a horizontal bar chart with a descriptive title\n",
    "    axis = label_frequencies.plot(kind='barh', figsize=(8, 4), color=colors)\n",
    "    axis.set_xlabel('Percentage')\n",
    "    axis.set_title(f\"Distribution of label values [{title}, sample_size={len(input_df)}]\", size=10)"
   ]
  },
  {
   "cell_type": "code",
   "execution_count": 14,
   "metadata": {},
   "outputs": [
    {
     "data": {
      "image/png": "[encoded data removed]",
      "text/plain": [
       "<Figure size 800x400 with 1 Axes>"
      ]
     },
     "metadata": {},
     "output_type": "display_data"
    }
   ],
   "source": [
    "label_bar_chart(df_train)"
   ]
  },
  {
   "cell_type": "markdown",
   "metadata": {},
   "source": [
    "#### Speaker Analysis"
   ]
  },
  {
   "cell_type": "code",
   "execution_count": 15,
   "metadata": {},
   "outputs": [
    {
     "name": "stdout",
     "output_type": "stream",
     "text": [
      "Unique speakers in dataset: 2910\n",
      "Average statements made per speaker: 3.5185567010309278\n"
     ]
    }
   ],
   "source": [
    "num_speakers = df_train['Speaker'].nunique()\n",
    "avg_statments = len(df_train) / num_speakers\n",
    "\n",
    "print(f\"Unique speakers in dataset: {num_speakers}\")\n",
    "print(f\"Average statements made per speaker: {avg_statments}\")"
   ]
  },
  {
   "cell_type": "code",
   "execution_count": 16,
   "metadata": {},
   "outputs": [
    {
     "data": {
      "text/plain": [
       "array(['scott-surovell', 'barack-obama', 'blog-posting', ...,\n",
       "       'john-rafferty', 'richard-tomlins', 'alan-powell'], dtype=object)"
      ]
     },
     "execution_count": 16,
     "metadata": {},
     "output_type": "execute_result"
    }
   ],
   "source": [
    "df_train['Speaker'].unique()"
   ]
  },
  {
   "cell_type": "code",
   "execution_count": 17,
   "metadata": {},
   "outputs": [
    {
     "data": {
      "image/png": "[encoded data removed]",
      "text/plain": [
       "<Figure size 800x400 with 1 Axes>"
      ]
     },
     "metadata": {},
     "output_type": "display_data"
    }
   ],
   "source": [
    "def speaker_bar_chart(input_df: pd.DataFrame, speaker: str) -> pd.DataFrame:\n",
    "    \n",
    "    # filters the input_df\n",
    "    speaker_df = input_df[ input_df['Speaker'] == speaker ]\n",
    "    speaker_df.reset_index(inplace=True)\n",
    "    \n",
    "    # calls the bar chart function we created earlier\n",
    "    label_bar_chart(speaker_df, title=speaker)\n",
    "    \n",
    "    return speaker_df\n",
    "    \n",
    "\n",
    "# create a bar chart over labels for a single speaker. Store the returned dataframe to a variable.\n",
    "ret_df = speaker_bar_chart(df_train, 'barack-obama')"
   ]
  },
  {
   "cell_type": "markdown",
   "metadata": {},
   "source": [
    "#### Subject Analysis"
   ]
  },
  {
   "cell_type": "code",
   "execution_count": 18,
   "metadata": {},
   "outputs": [
    {
     "data": {
      "text/html": [
       "<div>\n",
       "<style scoped>\n",
       "    .dataframe tbody tr th:only-of-type {\n",
       "        vertical-align: middle;\n",
       "    }\n",
       "\n",
       "    .dataframe tbody tr th {\n",
       "        vertical-align: top;\n",
       "    }\n",
       "\n",
       "    .dataframe thead th {\n",
       "        text-align: right;\n",
       "    }\n",
       "</style>\n",
       "<table border=\"1\" class=\"dataframe\">\n",
       "  <thead>\n",
       "    <tr style=\"text-align: right;\">\n",
       "      <th></th>\n",
       "      <th>Label</th>\n",
       "      <th>Subject</th>\n",
       "    </tr>\n",
       "  </thead>\n",
       "  <tbody>\n",
       "    <tr>\n",
       "      <th>0</th>\n",
       "      <td>half-true</td>\n",
       "      <td>energy</td>\n",
       "    </tr>\n",
       "    <tr>\n",
       "      <th>0</th>\n",
       "      <td>half-true</td>\n",
       "      <td>history</td>\n",
       "    </tr>\n",
       "    <tr>\n",
       "      <th>0</th>\n",
       "      <td>half-true</td>\n",
       "      <td>job-accomplishments</td>\n",
       "    </tr>\n",
       "    <tr>\n",
       "      <th>1</th>\n",
       "      <td>mostly-true</td>\n",
       "      <td>foreign-policy</td>\n",
       "    </tr>\n",
       "    <tr>\n",
       "      <th>2</th>\n",
       "      <td>false</td>\n",
       "      <td>health-care</td>\n",
       "    </tr>\n",
       "  </tbody>\n",
       "</table>\n",
       "</div>"
      ],
      "text/plain": [
       "         Label              Subject\n",
       "0    half-true               energy\n",
       "0    half-true              history\n",
       "0    half-true  job-accomplishments\n",
       "1  mostly-true       foreign-policy\n",
       "2        false          health-care"
      ]
     },
     "execution_count": 18,
     "metadata": {},
     "output_type": "execute_result"
    }
   ],
   "source": [
    "# creates a new dataframe that only contains the label and subjects columns.\n",
    "subject_df = df_train[['Label', 'Subject']].copy()\n",
    "\n",
    "\n",
    "def csv_to_list(x):\n",
    "    # start by turning the comma-separated values into a list of values\n",
    "    return x.split(\",\")\n",
    "\n",
    "\n",
    "subject_df['Subject'] = subject_df['Subject'].apply(csv_to_list)\n",
    "\n",
    "subject_df = subject_df.explode('Subject')\n",
    "\n",
    "subject_df.head()"
   ]
  },
  {
   "cell_type": "code",
   "execution_count": 19,
   "metadata": {},
   "outputs": [
    {
     "name": "stdout",
     "output_type": "stream",
     "text": [
      "Unique subjects in dataset: 143\n"
     ]
    }
   ],
   "source": [
    "num_unique_subjects = subject_df['Subject'].nunique()\n",
    "\n",
    "print(f\"Unique subjects in dataset: {num_unique_subjects}\")"
   ]
  },
  {
   "cell_type": "code",
   "execution_count": 20,
   "metadata": {},
   "outputs": [
    {
     "data": {
      "text/plain": [
       "array(['energy', 'history', 'job-accomplishments', 'foreign-policy',\n",
       "       'health-care', 'economy', 'jobs', 'education',\n",
       "       'candidates-biography', 'ethics', 'message-machine-2014',\n",
       "       'voting-record', 'elections', 'new-hampshire-2012', 'poverty',\n",
       "       'state-budget', 'federal-budget', 'financial-regulation', 'water',\n",
       "       'bankruptcy', 'population', 'income', 'corporations', 'taxes',\n",
       "       'message-machine', 'abortion', 'crime', 'diversity',\n",
       "       'homeland-security', 'terrorism', 'technology',\n",
       "       'campaign-advertising', 'labor', 'states', 'unions', 'workers',\n",
       "       'climate-change', 'environment', 'government-regulation',\n",
       "       'small-business', 'bipartisanship', 'consumer-safety',\n",
       "       'corrections-and-updates', 'market-regulation', 'supreme-court',\n",
       "       'city-government', 'military', 'pop-culture', 'debt',\n",
       "       'legal-issues', 'stimulus', 'pundits', 'women', 'immigration',\n",
       "       'deficit', 'iraq', 'patriotism', 'campaign-finance',\n",
       "       'gays-and-lesbians', 'kagan-nomination', 'criminal-justice',\n",
       "       'sexuality', 'civil-rights', 'housing', 'message-machine-2012',\n",
       "       'abc-news-week', 'veterans', 'medicare', 'transportation',\n",
       "       'public-health', 'city-budget', 'polls', 'social-security', 'guns',\n",
       "       'pensions', 'retirement', 'state-finances', 'wealth', 'welfare',\n",
       "       'israel', 'congress', 'medicaid', 'public-safety',\n",
       "       'public-service', 'families', 'islam', 'disability', 'nuclear',\n",
       "       'debates', 'government-efficiency', 'drugs', 'marijuana', 'sports',\n",
       "       'agriculture', 'ebola', 'afghanistan', 'gas-prices', 'marriage',\n",
       "       'gambling', 'children', 'infrastructure', 'religion',\n",
       "       'cap-and-trade', 'trade', 'urban', 'privacy',\n",
       "       'obama-birth-certificate', 'census', 'animals', 'autism',\n",
       "       'florida', 'county-budget', 'county-government', 'food-safety',\n",
       "       'florida-amendments', 'oil-spill', 'transparency',\n",
       "       'congressional-rules', 'tourism', 'occupy-wall-street', 'hunger',\n",
       "       'human-rights', 'bush-administration', 'science', 'weather',\n",
       "       'Alcohol', 'redistricting', 'recreation', 'baseball', 'china',\n",
       "       'space', 'after-the-fact', 'natural-disasters', 'fake-news',\n",
       "       'colbert-report', 'lottery', '', 'food', 'sotomayor-nomination',\n",
       "       '10-news-tampa-bay', 'homeless', 'death-penalty', 'fires'],\n",
       "      dtype=object)"
      ]
     },
     "execution_count": 20,
     "metadata": {},
     "output_type": "execute_result"
    }
   ],
   "source": [
    "subject_df['Subject'].unique()"
   ]
  },
  {
   "cell_type": "code",
   "execution_count": 21,
   "metadata": {},
   "outputs": [],
   "source": [
    "def subject_bar_chart(input_df: pd.DataFrame, subject: str) -> pd.DataFrame:\n",
    "    \n",
    "    # filters the input_df\n",
    "    ret_df = input_df[ input_df['Subject'] == subject ]\n",
    "    ret_df.reset_index(inplace=True)\n",
    "    \n",
    "    # calls the bar chart function we created earlier\n",
    "    label_bar_chart(ret_df, title=subject)\n",
    "    \n",
    "    return ret_df\n"
   ]
  },
  {
   "cell_type": "code",
   "execution_count": 22,
   "metadata": {},
   "outputs": [
    {
     "data": {
      "image/png": "[encoded data removed]",
      "text/plain": [
       "<Figure size 800x400 with 1 Axes>"
      ]
     },
     "metadata": {},
     "output_type": "display_data"
    }
   ],
   "source": [
    "# create a bar chart over labels for a single subject. Store the returned dataframe to a variable.\n",
    "ret_df = subject_bar_chart(subject_df, 'economy')"
   ]
  },
  {
   "cell_type": "markdown",
   "metadata": {},
   "source": [
    "Current Conclusion:\n",
    "\n",
    "The dataset covered multiple topics and labeled manually by professional and identified people. All the statements not include long content which may exceed most LLM models ability, but focus on the claims based on given context. I believe that is strategic idea for constructing more powerful models."
   ]
  },
  {
   "cell_type": "code",
   "execution_count": null,
   "metadata": {},
   "outputs": [],
   "source": []
  }
 ],
 "metadata": {
  "kernelspec": {
   "display_name": "ml",
   "language": "python",
   "name": "python3"
  },
  "language_info": {
   "codemirror_mode": {
    "name": "ipython",
    "version": 3
   },
   "file_extension": ".py",
   "mimetype": "text/x-python",
   "name": "python",
   "nbconvert_exporter": "python",
   "pygments_lexer": "ipython3",
   "version": "3.10.14"
  }
 },
 "nbformat": 4,
 "nbformat_minor": 2
}
