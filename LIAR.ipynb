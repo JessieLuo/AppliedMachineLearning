{
 "cells": [
  {
   "cell_type": "code",
   "execution_count": 1,
   "metadata": {
    "ExecuteTime": {
     "end_time": "2024-08-29T14:36:51.145366Z",
     "start_time": "2024-08-29T14:36:51.140455Z"
    },
    "id": "uJKuGa_seWdX",
    "outputId": "da9e131b-4d28-4c5c-b89f-8e6db0356011",
    "colab": {
     "base_uri": "https://localhost:8080/"
    }
   },
   "outputs": [
    {
     "output_type": "stream",
     "name": "stderr",
     "text": [
      "[nltk_data] Downloading package punkt to /root/nltk_data...\n",
      "[nltk_data]   Package punkt is already up-to-date!\n",
      "[nltk_data] Downloading package stopwords to /root/nltk_data...\n",
      "[nltk_data]   Package stopwords is already up-to-date!\n"
     ]
    },
    {
     "output_type": "execute_result",
     "data": {
      "text/plain": [
       "True"
      ]
     },
     "metadata": {},
     "execution_count": 1
    }
   ],
   "source": [
    "import numpy as np\n",
    "import pandas as pd\n",
    "import matplotlib.pyplot as plt\n",
    "import seaborn as sns\n",
    "import re\n",
    "\n",
    "import nltk\n",
    "from collections import Counter\n",
    "\n",
    "nltk.download('punkt')\n",
    "nltk.download('stopwords')"
   ]
  },
  {
   "cell_type": "markdown",
   "metadata": {
    "id": "iti-sXPOeWdY"
   },
   "source": [
    "# Data Overview"
   ]
  },
  {
   "cell_type": "markdown",
   "metadata": {
    "id": "Gq7se9aSeWdZ"
   },
   "source": [
    "## Read the Dataset"
   ]
  },
  {
   "cell_type": "code",
   "execution_count": 2,
   "metadata": {
    "ExecuteTime": {
     "end_time": "2024-08-29T14:36:51.178457Z",
     "start_time": "2024-08-29T14:36:51.176335Z"
    },
    "id": "1ah5uzaDeWda"
   },
   "outputs": [],
   "source": [
    "column_names = [\n",
    "    'ID',                    # Column 1: ID of the statement\n",
    "    'Label',                 # Column 2: Label\n",
    "    'Statement',             # Column 3: Statement\n",
    "    'Subject',               # Column 4: Subject(s)\n",
    "    'Speaker',               # Column 5: Speaker\n",
    "    'Speaker Job Title',     # Column 6: Speaker's Job Title\n",
    "    'State Info',            # Column 7: State Info\n",
    "    'Party Affiliation',     # Column 8: Party Affiliation\n",
    "    'Barely True Counts',    # Column 9: Barely True Counts\n",
    "    'False Counts',          # Column 10: False Counts\n",
    "    'Half True Counts',      # Column 11: Half True Counts\n",
    "    'Mostly True Counts',    # Column 12: Mostly True Counts\n",
    "    'Pants on Fire Counts',  # Column 13: Pants on Fire Counts\n",
    "    'Context'                # Column 14: Context (venue / location of the speech or statement)\n",
    "]"
   ]
  },
  {
   "cell_type": "code",
   "execution_count": 3,
   "metadata": {
    "ExecuteTime": {
     "end_time": "2024-08-29T14:36:51.186772Z",
     "start_time": "2024-08-29T14:36:51.184468Z"
    },
    "id": "QRGKcrGxeWda"
   },
   "outputs": [],
   "source": [
    "def read_dataframe(tsv_file: str) -> pd.DataFrame :\n",
    "    \"\"\"\n",
    "    Read data from table\n",
    "    Pre-process missing value\n",
    "    \"\"\"\n",
    "    # creates a \"dataframe\" or \"df\" for short. This is similar to a 2-D python dict.\n",
    "    df = pd.read_csv(tsv_file, delimiter='\\t')\n",
    "    ## Numerical Filled missing values with 0\n",
    "    numeric_columns = df.select_dtypes(include=['number']).columns\n",
    "    df[numeric_columns] = df[numeric_columns].fillna(0)\n",
    "    ## Categorical Filled missing values with an empty string\n",
    "    string_columns = df.select_dtypes(include=['object']).columns\n",
    "    df[string_columns] = df[string_columns].fillna(\"\")\n",
    "    # labels the columns in the dataset using the data dictionary described in the README\n",
    "    df.columns = column_names\n",
    "    return df"
   ]
  },
  {
   "cell_type": "code",
   "execution_count": 4,
   "metadata": {
    "id": "q_rrOQ9CeWda"
   },
   "outputs": [],
   "source": [
    "df_train = read_dataframe('https://raw.githubusercontent.com/JessieLuo/AppliedMachineLearning/dev/data/train.tsv')\n",
    "df_test = read_dataframe('https://raw.githubusercontent.com/JessieLuo/AppliedMachineLearning/dev/data/test.tsv')\n",
    "df_valid = read_dataframe('https://raw.githubusercontent.com/JessieLuo/AppliedMachineLearning/dev/data/valid.tsv')"
   ]
  },
  {
   "cell_type": "code",
   "execution_count": 5,
   "metadata": {
    "ExecuteTime": {
     "end_time": "2024-08-29T14:36:51.237823Z",
     "start_time": "2024-08-29T14:36:51.195581Z"
    },
    "id": "Su77oB_1eWdb"
   },
   "outputs": [],
   "source": [
    "# df_train = read_dataframe('./data/train.tsv')\n",
    "# df_test = read_dataframe('./data/test.tsv')\n",
    "# df_valid = read_dataframe('./data/valid.tsv')"
   ]
  },
  {
   "cell_type": "code",
   "execution_count": 6,
   "metadata": {
    "ExecuteTime": {
     "end_time": "2024-08-29T14:36:51.252600Z",
     "start_time": "2024-08-29T14:36:51.246296Z"
    },
    "id": "CWN4ybFreWdb",
    "outputId": "bd689f9c-2f53-435c-9e38-bc47ac577b09",
    "colab": {
     "base_uri": "https://localhost:8080/",
     "height": 678
    }
   },
   "outputs": [
    {
     "output_type": "execute_result",
     "data": {
      "text/plain": [
       "           ID        Label                                          Statement  \\\n",
       "0  10540.json    half-true  When did the decline of coal start? It started...   \n",
       "1    324.json  mostly-true  Hillary Clinton agrees with John McCain \"by vo...   \n",
       "2   1123.json        false  Health care reform legislation is likely to ma...   \n",
       "3   9028.json    half-true  The economic turnaround started at the end of ...   \n",
       "4  12465.json         true  The Chicago Bears have had more starting quart...   \n",
       "\n",
       "                              Subject         Speaker  \\\n",
       "0  energy,history,job-accomplishments  scott-surovell   \n",
       "1                      foreign-policy    barack-obama   \n",
       "2                         health-care    blog-posting   \n",
       "3                        economy,jobs   charlie-crist   \n",
       "4                           education       robin-vos   \n",
       "\n",
       "            Speaker Job Title State Info Party Affiliation  \\\n",
       "0              State delegate   Virginia          democrat   \n",
       "1                   President   Illinois          democrat   \n",
       "2                                                     none   \n",
       "3                                Florida          democrat   \n",
       "4  Wisconsin Assembly speaker  Wisconsin        republican   \n",
       "\n",
       "   Barely True Counts  False Counts  Half True Counts  Mostly True Counts  \\\n",
       "0                 0.0           0.0               1.0                 1.0   \n",
       "1                70.0          71.0             160.0               163.0   \n",
       "2                 7.0          19.0               3.0                 5.0   \n",
       "3                15.0           9.0              20.0                19.0   \n",
       "4                 0.0           3.0               2.0                 5.0   \n",
       "\n",
       "   Pants on Fire Counts                    Context  \n",
       "0                   0.0            a floor speech.  \n",
       "1                   9.0                     Denver  \n",
       "2                  44.0             a news release  \n",
       "3                   2.0        an interview on CNN  \n",
       "4                   1.0  a an online opinion-piece  "
      ],
      "text/html": [
       "\n",
       "  <div id=\"df-97606bf3-be36-49e8-9bdd-d19a1f7c9fb0\" class=\"colab-df-container\">\n",
       "    <div>\n",
       "<style scoped>\n",
       "    .dataframe tbody tr th:only-of-type {\n",
       "        vertical-align: middle;\n",
       "    }\n",
       "\n",
       "    .dataframe tbody tr th {\n",
       "        vertical-align: top;\n",
       "    }\n",
       "\n",
       "    .dataframe thead th {\n",
       "        text-align: right;\n",
       "    }\n",
       "</style>\n",
       "<table border=\"1\" class=\"dataframe\">\n",
       "  <thead>\n",
       "    <tr style=\"text-align: right;\">\n",
       "      <th></th>\n",
       "      <th>ID</th>\n",
       "      <th>Label</th>\n",
       "      <th>Statement</th>\n",
       "      <th>Subject</th>\n",
       "      <th>Speaker</th>\n",
       "      <th>Speaker Job Title</th>\n",
       "      <th>State Info</th>\n",
       "      <th>Party Affiliation</th>\n",
       "      <th>Barely True Counts</th>\n",
       "      <th>False Counts</th>\n",
       "      <th>Half True Counts</th>\n",
       "      <th>Mostly True Counts</th>\n",
       "      <th>Pants on Fire Counts</th>\n",
       "      <th>Context</th>\n",
       "    </tr>\n",
       "  </thead>\n",
       "  <tbody>\n",
       "    <tr>\n",
       "      <th>0</th>\n",
       "      <td>10540.json</td>\n",
       "      <td>half-true</td>\n",
       "      <td>When did the decline of coal start? It started...</td>\n",
       "      <td>energy,history,job-accomplishments</td>\n",
       "      <td>scott-surovell</td>\n",
       "      <td>State delegate</td>\n",
       "      <td>Virginia</td>\n",
       "      <td>democrat</td>\n",
       "      <td>0.0</td>\n",
       "      <td>0.0</td>\n",
       "      <td>1.0</td>\n",
       "      <td>1.0</td>\n",
       "      <td>0.0</td>\n",
       "      <td>a floor speech.</td>\n",
       "    </tr>\n",
       "    <tr>\n",
       "      <th>1</th>\n",
       "      <td>324.json</td>\n",
       "      <td>mostly-true</td>\n",
       "      <td>Hillary Clinton agrees with John McCain \"by vo...</td>\n",
       "      <td>foreign-policy</td>\n",
       "      <td>barack-obama</td>\n",
       "      <td>President</td>\n",
       "      <td>Illinois</td>\n",
       "      <td>democrat</td>\n",
       "      <td>70.0</td>\n",
       "      <td>71.0</td>\n",
       "      <td>160.0</td>\n",
       "      <td>163.0</td>\n",
       "      <td>9.0</td>\n",
       "      <td>Denver</td>\n",
       "    </tr>\n",
       "    <tr>\n",
       "      <th>2</th>\n",
       "      <td>1123.json</td>\n",
       "      <td>false</td>\n",
       "      <td>Health care reform legislation is likely to ma...</td>\n",
       "      <td>health-care</td>\n",
       "      <td>blog-posting</td>\n",
       "      <td></td>\n",
       "      <td></td>\n",
       "      <td>none</td>\n",
       "      <td>7.0</td>\n",
       "      <td>19.0</td>\n",
       "      <td>3.0</td>\n",
       "      <td>5.0</td>\n",
       "      <td>44.0</td>\n",
       "      <td>a news release</td>\n",
       "    </tr>\n",
       "    <tr>\n",
       "      <th>3</th>\n",
       "      <td>9028.json</td>\n",
       "      <td>half-true</td>\n",
       "      <td>The economic turnaround started at the end of ...</td>\n",
       "      <td>economy,jobs</td>\n",
       "      <td>charlie-crist</td>\n",
       "      <td></td>\n",
       "      <td>Florida</td>\n",
       "      <td>democrat</td>\n",
       "      <td>15.0</td>\n",
       "      <td>9.0</td>\n",
       "      <td>20.0</td>\n",
       "      <td>19.0</td>\n",
       "      <td>2.0</td>\n",
       "      <td>an interview on CNN</td>\n",
       "    </tr>\n",
       "    <tr>\n",
       "      <th>4</th>\n",
       "      <td>12465.json</td>\n",
       "      <td>true</td>\n",
       "      <td>The Chicago Bears have had more starting quart...</td>\n",
       "      <td>education</td>\n",
       "      <td>robin-vos</td>\n",
       "      <td>Wisconsin Assembly speaker</td>\n",
       "      <td>Wisconsin</td>\n",
       "      <td>republican</td>\n",
       "      <td>0.0</td>\n",
       "      <td>3.0</td>\n",
       "      <td>2.0</td>\n",
       "      <td>5.0</td>\n",
       "      <td>1.0</td>\n",
       "      <td>a an online opinion-piece</td>\n",
       "    </tr>\n",
       "  </tbody>\n",
       "</table>\n",
       "</div>\n",
       "    <div class=\"colab-df-buttons\">\n",
       "\n",
       "  <div class=\"colab-df-container\">\n",
       "    <button class=\"colab-df-convert\" onclick=\"convertToInteractive('df-97606bf3-be36-49e8-9bdd-d19a1f7c9fb0')\"\n",
       "            title=\"Convert this dataframe to an interactive table.\"\n",
       "            style=\"display:none;\">\n",
       "\n",
       "  <svg xmlns=\"http://www.w3.org/2000/svg\" height=\"24px\" viewBox=\"0 -960 960 960\">\n",
       "    <path d=\"M120-120v-720h720v720H120Zm60-500h600v-160H180v160Zm220 220h160v-160H400v160Zm0 220h160v-160H400v160ZM180-400h160v-160H180v160Zm440 0h160v-160H620v160ZM180-180h160v-160H180v160Zm440 0h160v-160H620v160Z\"/>\n",
       "  </svg>\n",
       "    </button>\n",
       "\n",
       "  <style>\n",
       "    .colab-df-container {\n",
       "      display:flex;\n",
       "      gap: 12px;\n",
       "    }\n",
       "\n",
       "    .colab-df-convert {\n",
       "      background-color: #E8F0FE;\n",
       "      border: none;\n",
       "      border-radius: 50%;\n",
       "      cursor: pointer;\n",
       "      display: none;\n",
       "      fill: #1967D2;\n",
       "      height: 32px;\n",
       "      padding: 0 0 0 0;\n",
       "      width: 32px;\n",
       "    }\n",
       "\n",
       "    .colab-df-convert:hover {\n",
       "      background-color: #E2EBFA;\n",
       "      box-shadow: 0px 1px 2px rgba(60, 64, 67, 0.3), 0px 1px 3px 1px rgba(60, 64, 67, 0.15);\n",
       "      fill: #174EA6;\n",
       "    }\n",
       "\n",
       "    .colab-df-buttons div {\n",
       "      margin-bottom: 4px;\n",
       "    }\n",
       "\n",
       "    [theme=dark] .colab-df-convert {\n",
       "      background-color: #3B4455;\n",
       "      fill: #D2E3FC;\n",
       "    }\n",
       "\n",
       "    [theme=dark] .colab-df-convert:hover {\n",
       "      background-color: #434B5C;\n",
       "      box-shadow: 0px 1px 3px 1px rgba(0, 0, 0, 0.15);\n",
       "      filter: drop-shadow(0px 1px 2px rgba(0, 0, 0, 0.3));\n",
       "      fill: #FFFFFF;\n",
       "    }\n",
       "  </style>\n",
       "\n",
       "    <script>\n",
       "      const buttonEl =\n",
       "        document.querySelector('#df-97606bf3-be36-49e8-9bdd-d19a1f7c9fb0 button.colab-df-convert');\n",
       "      buttonEl.style.display =\n",
       "        google.colab.kernel.accessAllowed ? 'block' : 'none';\n",
       "\n",
       "      async function convertToInteractive(key) {\n",
       "        const element = document.querySelector('#df-97606bf3-be36-49e8-9bdd-d19a1f7c9fb0');\n",
       "        const dataTable =\n",
       "          await google.colab.kernel.invokeFunction('convertToInteractive',\n",
       "                                                    [key], {});\n",
       "        if (!dataTable) return;\n",
       "\n",
       "        const docLinkHtml = 'Like what you see? Visit the ' +\n",
       "          '<a target=\"_blank\" href=https://colab.research.google.com/notebooks/data_table.ipynb>data table notebook</a>'\n",
       "          + ' to learn more about interactive tables.';\n",
       "        element.innerHTML = '';\n",
       "        dataTable['output_type'] = 'display_data';\n",
       "        await google.colab.output.renderOutput(dataTable, element);\n",
       "        const docLink = document.createElement('div');\n",
       "        docLink.innerHTML = docLinkHtml;\n",
       "        element.appendChild(docLink);\n",
       "      }\n",
       "    </script>\n",
       "  </div>\n",
       "\n",
       "\n",
       "<div id=\"df-f566a22f-afdd-487b-8e05-3a002b17afd9\">\n",
       "  <button class=\"colab-df-quickchart\" onclick=\"quickchart('df-f566a22f-afdd-487b-8e05-3a002b17afd9')\"\n",
       "            title=\"Suggest charts\"\n",
       "            style=\"display:none;\">\n",
       "\n",
       "<svg xmlns=\"http://www.w3.org/2000/svg\" height=\"24px\"viewBox=\"0 0 24 24\"\n",
       "     width=\"24px\">\n",
       "    <g>\n",
       "        <path d=\"M19 3H5c-1.1 0-2 .9-2 2v14c0 1.1.9 2 2 2h14c1.1 0 2-.9 2-2V5c0-1.1-.9-2-2-2zM9 17H7v-7h2v7zm4 0h-2V7h2v10zm4 0h-2v-4h2v4z\"/>\n",
       "    </g>\n",
       "</svg>\n",
       "  </button>\n",
       "\n",
       "<style>\n",
       "  .colab-df-quickchart {\n",
       "      --bg-color: #E8F0FE;\n",
       "      --fill-color: #1967D2;\n",
       "      --hover-bg-color: #E2EBFA;\n",
       "      --hover-fill-color: #174EA6;\n",
       "      --disabled-fill-color: #AAA;\n",
       "      --disabled-bg-color: #DDD;\n",
       "  }\n",
       "\n",
       "  [theme=dark] .colab-df-quickchart {\n",
       "      --bg-color: #3B4455;\n",
       "      --fill-color: #D2E3FC;\n",
       "      --hover-bg-color: #434B5C;\n",
       "      --hover-fill-color: #FFFFFF;\n",
       "      --disabled-bg-color: #3B4455;\n",
       "      --disabled-fill-color: #666;\n",
       "  }\n",
       "\n",
       "  .colab-df-quickchart {\n",
       "    background-color: var(--bg-color);\n",
       "    border: none;\n",
       "    border-radius: 50%;\n",
       "    cursor: pointer;\n",
       "    display: none;\n",
       "    fill: var(--fill-color);\n",
       "    height: 32px;\n",
       "    padding: 0;\n",
       "    width: 32px;\n",
       "  }\n",
       "\n",
       "  .colab-df-quickchart:hover {\n",
       "    background-color: var(--hover-bg-color);\n",
       "    box-shadow: 0 1px 2px rgba(60, 64, 67, 0.3), 0 1px 3px 1px rgba(60, 64, 67, 0.15);\n",
       "    fill: var(--button-hover-fill-color);\n",
       "  }\n",
       "\n",
       "  .colab-df-quickchart-complete:disabled,\n",
       "  .colab-df-quickchart-complete:disabled:hover {\n",
       "    background-color: var(--disabled-bg-color);\n",
       "    fill: var(--disabled-fill-color);\n",
       "    box-shadow: none;\n",
       "  }\n",
       "\n",
       "  .colab-df-spinner {\n",
       "    border: 2px solid var(--fill-color);\n",
       "    border-color: transparent;\n",
       "    border-bottom-color: var(--fill-color);\n",
       "    animation:\n",
       "      spin 1s steps(1) infinite;\n",
       "  }\n",
       "\n",
       "  @keyframes spin {\n",
       "    0% {\n",
       "      border-color: transparent;\n",
       "      border-bottom-color: var(--fill-color);\n",
       "      border-left-color: var(--fill-color);\n",
       "    }\n",
       "    20% {\n",
       "      border-color: transparent;\n",
       "      border-left-color: var(--fill-color);\n",
       "      border-top-color: var(--fill-color);\n",
       "    }\n",
       "    30% {\n",
       "      border-color: transparent;\n",
       "      border-left-color: var(--fill-color);\n",
       "      border-top-color: var(--fill-color);\n",
       "      border-right-color: var(--fill-color);\n",
       "    }\n",
       "    40% {\n",
       "      border-color: transparent;\n",
       "      border-right-color: var(--fill-color);\n",
       "      border-top-color: var(--fill-color);\n",
       "    }\n",
       "    60% {\n",
       "      border-color: transparent;\n",
       "      border-right-color: var(--fill-color);\n",
       "    }\n",
       "    80% {\n",
       "      border-color: transparent;\n",
       "      border-right-color: var(--fill-color);\n",
       "      border-bottom-color: var(--fill-color);\n",
       "    }\n",
       "    90% {\n",
       "      border-color: transparent;\n",
       "      border-bottom-color: var(--fill-color);\n",
       "    }\n",
       "  }\n",
       "</style>\n",
       "\n",
       "  <script>\n",
       "    async function quickchart(key) {\n",
       "      const quickchartButtonEl =\n",
       "        document.querySelector('#' + key + ' button');\n",
       "      quickchartButtonEl.disabled = true;  // To prevent multiple clicks.\n",
       "      quickchartButtonEl.classList.add('colab-df-spinner');\n",
       "      try {\n",
       "        const charts = await google.colab.kernel.invokeFunction(\n",
       "            'suggestCharts', [key], {});\n",
       "      } catch (error) {\n",
       "        console.error('Error during call to suggestCharts:', error);\n",
       "      }\n",
       "      quickchartButtonEl.classList.remove('colab-df-spinner');\n",
       "      quickchartButtonEl.classList.add('colab-df-quickchart-complete');\n",
       "    }\n",
       "    (() => {\n",
       "      let quickchartButtonEl =\n",
       "        document.querySelector('#df-f566a22f-afdd-487b-8e05-3a002b17afd9 button');\n",
       "      quickchartButtonEl.style.display =\n",
       "        google.colab.kernel.accessAllowed ? 'block' : 'none';\n",
       "    })();\n",
       "  </script>\n",
       "</div>\n",
       "\n",
       "    </div>\n",
       "  </div>\n"
      ],
      "application/vnd.google.colaboratory.intrinsic+json": {
       "type": "dataframe",
       "variable_name": "df_train",
       "summary": "{\n  \"name\": \"df_train\",\n  \"rows\": 10239,\n  \"fields\": [\n    {\n      \"column\": \"ID\",\n      \"properties\": {\n        \"dtype\": \"string\",\n        \"num_unique_values\": 10239,\n        \"samples\": [\n          \"13345.json\",\n          \"4296.json\",\n          \"12099.json\"\n        ],\n        \"semantic_type\": \"\",\n        \"description\": \"\"\n      }\n    },\n    {\n      \"column\": \"Label\",\n      \"properties\": {\n        \"dtype\": \"category\",\n        \"num_unique_values\": 6,\n        \"samples\": [\n          \"half-true\",\n          \"mostly-true\",\n          \"pants-fire\"\n        ],\n        \"semantic_type\": \"\",\n        \"description\": \"\"\n      }\n    },\n    {\n      \"column\": \"Statement\",\n      \"properties\": {\n        \"dtype\": \"string\",\n        \"num_unique_values\": 10222,\n        \"samples\": [\n          \"U.S. Rep. Debbie Wasserman Schultz has blamed the Republicans for the creation of Hamas.\",\n          \"Senate Democrats have never held up a Supreme Court nomination.\",\n          \"In the past decade, K-12 funding has grown six times faster than the rate of enrollment.\"\n        ],\n        \"semantic_type\": \"\",\n        \"description\": \"\"\n      }\n    },\n    {\n      \"column\": \"Subject\",\n      \"properties\": {\n        \"dtype\": \"category\",\n        \"num_unique_values\": 3828,\n        \"samples\": [\n          \"homeland-security,military,patriotism,states\",\n          \"city-budget,city-government,county-budget,county-government,taxes\",\n          \"corrections-and-updates,homeland-security,immigration,transportation\"\n        ],\n        \"semantic_type\": \"\",\n        \"description\": \"\"\n      }\n    },\n    {\n      \"column\": \"Speaker\",\n      \"properties\": {\n        \"dtype\": \"category\",\n        \"num_unique_values\": 2910,\n        \"samples\": [\n          \"clay-aiken\",\n          \"mike-adams\",\n          \"mark-butler\"\n        ],\n        \"semantic_type\": \"\",\n        \"description\": \"\"\n      }\n    },\n    {\n      \"column\": \"Speaker Job Title\",\n      \"properties\": {\n        \"dtype\": \"category\",\n        \"num_unique_values\": 1184,\n        \"samples\": [\n          \"Editorial director, Huffington Post\",\n          \"El Paso County Commissioner \",\n          \"NFL Network analyst\"\n        ],\n        \"semantic_type\": \"\",\n        \"description\": \"\"\n      }\n    },\n    {\n      \"column\": \"State Info\",\n      \"properties\": {\n        \"dtype\": \"category\",\n        \"num_unique_values\": 84,\n        \"samples\": [\n          \"Virginia director, Coalition to Stop Gun Violence\",\n          \"Virginia\",\n          \"Unknown\"\n        ],\n        \"semantic_type\": \"\",\n        \"description\": \"\"\n      }\n    },\n    {\n      \"column\": \"Party Affiliation\",\n      \"properties\": {\n        \"dtype\": \"category\",\n        \"num_unique_values\": 24,\n        \"samples\": [\n          \"libertarian\",\n          \"\",\n          \"democrat\"\n        ],\n        \"semantic_type\": \"\",\n        \"description\": \"\"\n      }\n    },\n    {\n      \"column\": \"Barely True Counts\",\n      \"properties\": {\n        \"dtype\": \"number\",\n        \"std\": 18.97318001653755,\n        \"min\": 0.0,\n        \"max\": 70.0,\n        \"num_unique_values\": 30,\n        \"samples\": [\n          8.0,\n          13.0,\n          26.0\n        ],\n        \"semantic_type\": \"\",\n        \"description\": \"\"\n      }\n    },\n    {\n      \"column\": \"False Counts\",\n      \"properties\": {\n        \"dtype\": \"number\",\n        \"std\": 24.112167948207833,\n        \"min\": 0.0,\n        \"max\": 114.0,\n        \"num_unique_values\": 30,\n        \"samples\": [\n          18.0,\n          43.0,\n          11.0\n        ],\n        \"semantic_type\": \"\",\n        \"description\": \"\"\n      }\n    },\n    {\n      \"column\": \"Half True Counts\",\n      \"properties\": {\n        \"dtype\": \"number\",\n        \"std\": 35.845160210021795,\n        \"min\": 0.0,\n        \"max\": 160.0,\n        \"num_unique_values\": 29,\n        \"samples\": [\n          12.0,\n          7.0,\n          38.0\n        ],\n        \"semantic_type\": \"\",\n        \"description\": \"\"\n      }\n    },\n    {\n      \"column\": \"Mostly True Counts\",\n      \"properties\": {\n        \"dtype\": \"number\",\n        \"std\": 36.15028716659573,\n        \"min\": 0.0,\n        \"max\": 163.0,\n        \"num_unique_values\": 27,\n        \"samples\": [\n          4.0,\n          6.0,\n          2.0\n        ],\n        \"semantic_type\": \"\",\n        \"description\": \"\"\n      }\n    },\n    {\n      \"column\": \"Pants on Fire Counts\",\n      \"properties\": {\n        \"dtype\": \"number\",\n        \"std\": 16.12825607484334,\n        \"min\": 0.0,\n        \"max\": 105.0,\n        \"num_unique_values\": 20,\n        \"samples\": [\n          0.0,\n          6.0,\n          10.0\n        ],\n        \"semantic_type\": \"\",\n        \"description\": \"\"\n      }\n    },\n    {\n      \"column\": \"Context\",\n      \"properties\": {\n        \"dtype\": \"category\",\n        \"num_unique_values\": 4346,\n        \"samples\": [\n          \"a series of campaign TV ads\",\n          \"remarks at a campaign fundraiser\",\n          \"an appearance on ABC's \\\"This Week.\\\"\"\n        ],\n        \"semantic_type\": \"\",\n        \"description\": \"\"\n      }\n    }\n  ]\n}"
      }
     },
     "metadata": {},
     "execution_count": 6
    }
   ],
   "source": [
    "df_train.head()"
   ]
  },
  {
   "cell_type": "code",
   "execution_count": 7,
   "metadata": {
    "ExecuteTime": {
     "end_time": "2024-08-29T14:36:51.301775Z",
     "start_time": "2024-08-29T14:36:51.282612Z"
    },
    "id": "-TCdIg38eWdb",
    "outputId": "6077020e-b49f-4fa1-863c-a4a8ecc48b65",
    "colab": {
     "base_uri": "https://localhost:8080/"
    }
   },
   "outputs": [
    {
     "output_type": "stream",
     "name": "stdout",
     "text": [
      "<class 'pandas.core.frame.DataFrame'>\n",
      "RangeIndex: 10239 entries, 0 to 10238\n",
      "Data columns (total 14 columns):\n",
      " #   Column                Non-Null Count  Dtype  \n",
      "---  ------                --------------  -----  \n",
      " 0   ID                    10239 non-null  object \n",
      " 1   Label                 10239 non-null  object \n",
      " 2   Statement             10239 non-null  object \n",
      " 3   Subject               10239 non-null  object \n",
      " 4   Speaker               10239 non-null  object \n",
      " 5   Speaker Job Title     10239 non-null  object \n",
      " 6   State Info            10239 non-null  object \n",
      " 7   Party Affiliation     10239 non-null  object \n",
      " 8   Barely True Counts    10239 non-null  float64\n",
      " 9   False Counts          10239 non-null  float64\n",
      " 10  Half True Counts      10239 non-null  float64\n",
      " 11  Mostly True Counts    10239 non-null  float64\n",
      " 12  Pants on Fire Counts  10239 non-null  float64\n",
      " 13  Context               10239 non-null  object \n",
      "dtypes: float64(5), object(9)\n",
      "memory usage: 1.1+ MB\n"
     ]
    }
   ],
   "source": [
    "df_train.info()"
   ]
  },
  {
   "cell_type": "code",
   "execution_count": 8,
   "metadata": {
    "ExecuteTime": {
     "end_time": "2024-08-29T14:36:51.341884Z",
     "start_time": "2024-08-29T14:36:51.339197Z"
    },
    "id": "wXj-BdF6eWdb"
   },
   "outputs": [],
   "source": [
    "def show_news_article(input_df: pd.DataFrame, index: int) -> None:\n",
    "    \"\"\"\n",
    "    Most relevant columns analysis\n",
    "\n",
    "    Parameter\n",
    "    ---------\n",
    "    `index`: the row in original dataset\n",
    "    \"\"\"\n",
    "    print(f\"speaker: {input_df.iat[index, 4]}\")\n",
    "    print(f\"subject(s): {input_df.iat[index, 3]}\")\n",
    "    print(f\"statement: {input_df.iat[index, 2]}\")\n",
    "    print(f\"label: {input_df.iat[index, 1]}\")"
   ]
  },
  {
   "cell_type": "code",
   "execution_count": 9,
   "metadata": {
    "ExecuteTime": {
     "end_time": "2024-08-29T14:36:51.364170Z",
     "start_time": "2024-08-29T14:36:51.362007Z"
    },
    "id": "nPw5T0sIeWdb",
    "outputId": "2bd4451f-04a6-48c0-bf9f-e1827720124b",
    "colab": {
     "base_uri": "https://localhost:8080/"
    }
   },
   "outputs": [
    {
     "output_type": "stream",
     "name": "stdout",
     "text": [
      "speaker: barack-obama\n",
      "subject(s): foreign-policy\n",
      "statement: Hillary Clinton agrees with John McCain \"by voting to give George Bush the benefit of the doubt on Iran.\"\n",
      "label: mostly-true\n"
     ]
    }
   ],
   "source": [
    "show_news_article(df_train, 1)"
   ]
  },
  {
   "cell_type": "markdown",
   "metadata": {
    "id": "MsI23xGieWdb"
   },
   "source": [
    "## EDA"
   ]
  },
  {
   "cell_type": "markdown",
   "metadata": {
    "id": "j0JM6IgjeWdb"
   },
   "source": [
    "#### Statement Analysis"
   ]
  },
  {
   "cell_type": "code",
   "execution_count": 10,
   "metadata": {
    "ExecuteTime": {
     "end_time": "2024-08-29T14:36:51.382268Z",
     "start_time": "2024-08-29T14:36:51.375471Z"
    },
    "id": "2VKrLu38eWdb"
   },
   "outputs": [],
   "source": [
    "def plotbh(df, col):\n",
    "    \"\"\"Draw boxplot and histogram for numerical variables\"\"\"\n",
    "    fig, axs = plt.subplots(1, 2, figsize=(18, 6))\n",
    "\n",
    "    # Boxplot\n",
    "    sns.boxplot(x=df[col], ax=axs[0])\n",
    "    axs[0].set_title('Box chart of ' + col)\n",
    "\n",
    "    # Histogram\n",
    "    sns.histplot(data=df, x=col, kde=True, ax=axs[1])\n",
    "    axs[1].set_title('Histogram of ' + col)\n",
    "\n",
    "    plt.tight_layout()\n",
    "    plt.show()"
   ]
  },
  {
   "cell_type": "code",
   "execution_count": 11,
   "metadata": {
    "ExecuteTime": {
     "end_time": "2024-08-29T14:36:51.410867Z",
     "start_time": "2024-08-29T14:36:51.399606Z"
    },
    "id": "k6T2Cc96eWdc",
    "outputId": "700d0bd3-3da0-441a-cc8e-09b7c8d66202",
    "colab": {
     "base_uri": "https://localhost:8080/",
     "height": 335
    }
   },
   "outputs": [
    {
     "output_type": "execute_result",
     "data": {
      "text/plain": [
       "count    10239.000000\n",
       "mean        18.010743\n",
       "std          9.658795\n",
       "min          2.000000\n",
       "25%         12.000000\n",
       "50%         17.000000\n",
       "75%         22.000000\n",
       "max        467.000000\n",
       "Name: statement_words, dtype: float64"
      ],
      "text/html": [
       "<div>\n",
       "<style scoped>\n",
       "    .dataframe tbody tr th:only-of-type {\n",
       "        vertical-align: middle;\n",
       "    }\n",
       "\n",
       "    .dataframe tbody tr th {\n",
       "        vertical-align: top;\n",
       "    }\n",
       "\n",
       "    .dataframe thead th {\n",
       "        text-align: right;\n",
       "    }\n",
       "</style>\n",
       "<table border=\"1\" class=\"dataframe\">\n",
       "  <thead>\n",
       "    <tr style=\"text-align: right;\">\n",
       "      <th></th>\n",
       "      <th>statement_words</th>\n",
       "    </tr>\n",
       "  </thead>\n",
       "  <tbody>\n",
       "    <tr>\n",
       "      <th>count</th>\n",
       "      <td>10239.000000</td>\n",
       "    </tr>\n",
       "    <tr>\n",
       "      <th>mean</th>\n",
       "      <td>18.010743</td>\n",
       "    </tr>\n",
       "    <tr>\n",
       "      <th>std</th>\n",
       "      <td>9.658795</td>\n",
       "    </tr>\n",
       "    <tr>\n",
       "      <th>min</th>\n",
       "      <td>2.000000</td>\n",
       "    </tr>\n",
       "    <tr>\n",
       "      <th>25%</th>\n",
       "      <td>12.000000</td>\n",
       "    </tr>\n",
       "    <tr>\n",
       "      <th>50%</th>\n",
       "      <td>17.000000</td>\n",
       "    </tr>\n",
       "    <tr>\n",
       "      <th>75%</th>\n",
       "      <td>22.000000</td>\n",
       "    </tr>\n",
       "    <tr>\n",
       "      <th>max</th>\n",
       "      <td>467.000000</td>\n",
       "    </tr>\n",
       "  </tbody>\n",
       "</table>\n",
       "</div><br><label><b>dtype:</b> float64</label>"
      ]
     },
     "metadata": {},
     "execution_count": 11
    }
   ],
   "source": [
    "df_train['statement_words'] = df_train['Statement'].apply(lambda x : len(x.split()))\n",
    "df_train['statement_words'].describe()"
   ]
  },
  {
   "cell_type": "code",
   "execution_count": 12,
   "metadata": {
    "ExecuteTime": {
     "end_time": "2024-08-29T14:36:52.163547Z",
     "start_time": "2024-08-29T14:36:51.437509Z"
    },
    "id": "dClkZELJeWdc",
    "outputId": "61ab8182-0efd-4a4e-9af2-dbed0e8434e8",
    "colab": {
     "base_uri": "https://localhost:8080/",
     "height": 351
    }
   },
   "outputs": [
    {
     "output_type": "display_data",
     "data": {
      "text/plain": [
       "<Figure size 1800x600 with 2 Axes>"
      ],
      "image/png": "[encoded data removed]"
     },
     "metadata": {}
    }
   ],
   "source": [
    "plotbh(df_train, 'statement_words')"
   ]
  },
  {
   "cell_type": "code",
   "execution_count": 13,
   "metadata": {
    "ExecuteTime": {
     "end_time": "2024-08-29T14:36:52.794829Z",
     "start_time": "2024-08-29T14:36:52.182889Z"
    },
    "id": "3jhmKBBGeWdc"
   },
   "outputs": [],
   "source": [
    "# Get the list of English stopwords\n",
    "stop_words = set(nltk.corpus.stopwords.words('english'))\n",
    "\n",
    "# Define a function to clean and tokenize the statements\n",
    "def statement_text_clean_and_tokenize(statement):\n",
    "    \"\"\"\n",
    "    Only applied on `Statement` and only used for word frequency visualize\n",
    "    \"\"\"\n",
    "    # Tokenize the statement\n",
    "    statement_tokens = nltk.word_tokenize(statement)\n",
    "    # Convert tokens to lowercase, remove stopwords, non-alphabetic characters, and punctuation\n",
    "    cleaned_tokens = [\n",
    "        statement_token.lower() for statement_token in statement_tokens\n",
    "            if statement_token.lower() not in stop_words and statement_token.isalpha()\n",
    "    ]\n",
    "    return cleaned_tokens\n",
    "\n",
    "# Apply the cleaning and tokenization function to the 'Statement' column\n",
    "df_train['word_token'] = df_train['Statement'].apply(statement_text_clean_and_tokenize)\n",
    "\n",
    "# Combine all cleaned tokens into one list of words\n",
    "all_cleaned_words = df_train['word_token'].explode().tolist()"
   ]
  },
  {
   "cell_type": "code",
   "execution_count": 14,
   "metadata": {
    "ExecuteTime": {
     "end_time": "2024-08-29T14:36:52.809965Z",
     "start_time": "2024-08-29T14:36:52.797663Z"
    },
    "id": "SJgSVu5ZeWdc"
   },
   "outputs": [],
   "source": [
    "# Use Counter to count the frequency of each cleaned word\n",
    "word_freq = Counter(all_cleaned_words)\n",
    "\n",
    "# Convert to a DataFrame for easier analysis\n",
    "word_freq_df = pd.DataFrame(word_freq.items(), columns=['Word', 'Frequency']).sort_values(by='Frequency', ascending=False)"
   ]
  },
  {
   "cell_type": "code",
   "execution_count": 15,
   "metadata": {
    "ExecuteTime": {
     "end_time": "2024-08-29T14:36:52.934943Z",
     "start_time": "2024-08-29T14:36:52.822108Z"
    },
    "id": "H6l0V2AzeWdc",
    "outputId": "bc12c81b-b077-4fc1-d3ea-5a37bede3da0",
    "colab": {
     "base_uri": "https://localhost:8080/",
     "height": 564
    }
   },
   "outputs": [
    {
     "output_type": "display_data",
     "data": {
      "text/plain": [
       "<Figure size 800x600 with 1 Axes>"
      ],
      "image/png": "[encoded data removed]"
     },
     "metadata": {}
    }
   ],
   "source": [
    "# Plot the most common words using Seaborn\n",
    "plt.figure(figsize=(8, 6))\n",
    "sns.barplot(x='Frequency', y='Word', data=word_freq_df.head(20))\n",
    "plt.title('Top 20 Most Common Words in Statements')\n",
    "plt.xlabel('Frequency')\n",
    "plt.ylabel('Words')\n",
    "plt.show()"
   ]
  },
  {
   "cell_type": "markdown",
   "metadata": {
    "id": "YxyTqLxEeWdc"
   },
   "source": [
    "#### Label Analysis\n",
    "\n",
    "Categorical label: ['half-true', 'mostly-true', 'false', 'true', 'barely-true', 'pants-fire']. They are in same column\n",
    "\n",
    "Numerical label has separated columns, they are ['Barely True Counts', 'False Counts', 'Half True Counts', 'Mostly True Counts', 'Pants on Fire Counts']"
   ]
  },
  {
   "cell_type": "code",
   "execution_count": 16,
   "metadata": {
    "ExecuteTime": {
     "end_time": "2024-08-29T14:36:53.072171Z",
     "start_time": "2024-08-29T14:36:52.947153Z"
    },
    "id": "_6aQrjQPeWdc",
    "outputId": "2fc95ee0-29eb-4bc0-9db9-60f601b95725",
    "colab": {
     "base_uri": "https://localhost:8080/",
     "height": 640
    }
   },
   "outputs": [
    {
     "output_type": "display_data",
     "data": {
      "text/plain": [
       "<Figure size 1000x600 with 2 Axes>"
      ],
      "image/png": "[encoded data removed]"
     },
     "metadata": {}
    }
   ],
   "source": [
    "labels_count = ['Barely True Counts', 'False Counts', 'Half True Counts', 'Mostly True Counts', 'Pants on Fire Counts']\n",
    "\n",
    "# Calculate the correlation matrix\n",
    "correlation_matrix = df_train[labels_count].corr()\n",
    "\n",
    "# Create a heatmap using Seaborn\n",
    "plt.figure(figsize=(10, 6))\n",
    "sns.heatmap(correlation_matrix, annot=True, cmap='coolwarm', fmt='.2f', linewidths=0.5)\n",
    "plt.xticks(rotation=45)\n",
    "plt.yticks(rotation=45)\n",
    "plt.title('Labels counts Correlation Heatmap')\n",
    "\n",
    "plt.show()"
   ]
  },
  {
   "cell_type": "markdown",
   "metadata": {
    "id": "5igZ8vXseWdc"
   },
   "source": [
    "This the numerical label of LIAR\n",
    "\n",
    "The labels \"Barely True,\" \"False,\" \"Half True,\" and \"Mostly True\" are highly correlated, suggesting that they often overlap or represent similar levels of truthfulness in statements.\n",
    "\n",
    "\"Pants on Fire\" shows a weaker correlation with the other labels, indicating that it might capture a more extreme or different kind of falseness compared to the other categories.\n"
   ]
  },
  {
   "cell_type": "markdown",
   "metadata": {
    "id": "fwohoGO9eWdc"
   },
   "source": [
    "Code idea comes from [Kaggle](https://www.kaggle.com/code/hendrixwilsonj/liar-data-analysis#Exporting-our-model)\n",
    "\n",
    "The following analysis are based on the categorical label"
   ]
  },
  {
   "cell_type": "code",
   "execution_count": 17,
   "metadata": {
    "ExecuteTime": {
     "end_time": "2024-08-29T14:36:53.088349Z",
     "start_time": "2024-08-29T14:36:53.085083Z"
    },
    "id": "IiJLKhfQeWdc"
   },
   "outputs": [],
   "source": [
    "def label_bar_chart(input_df: pd.DataFrame, title: str = \"LIAR Dataset\") -> None:\n",
    "    \"\"\"\n",
    "    Label distribution\n",
    "    \"\"\"\n",
    "    # computes frequencies of labels and converts to percentages\n",
    "    label_frequencies = input_df['Label'].value_counts(normalize=True)\n",
    "\n",
    "    def multiply_100(x):\n",
    "        return x * 100\n",
    "\n",
    "    # \"apply\" is a handy way to call a function on every row of data.\n",
    "    label_frequencies = label_frequencies.apply(multiply_100)\n",
    "\n",
    "    # bar chart ordering and  colors for readability.\n",
    "    labels = ['pants-fire', 'false', 'barely-true', 'half-true', 'mostly-true', 'true']\n",
    "    colors = [\n",
    "        'orangered', # pants-fire\n",
    "        'coral', # false\n",
    "        'salmon', # barely-true\n",
    "        'peachpuff', # half-true\n",
    "        'skyblue', # mostly-true\n",
    "        'deepskyblue', # true\n",
    "    ]\n",
    "    label_frequencies = label_frequencies.reindex(index = labels)\n",
    "\n",
    "    # creates a horizontal bar chart with a descriptive title\n",
    "    axis = label_frequencies.plot(kind='barh', figsize=(8, 4), color=colors)\n",
    "    axis.set_xlabel('Percentage')\n",
    "    axis.set_title(f\"Distribution of label values [{title}, sample_size={len(input_df)}]\", size=10)"
   ]
  },
  {
   "cell_type": "code",
   "execution_count": 18,
   "metadata": {
    "ExecuteTime": {
     "end_time": "2024-08-29T14:36:53.199882Z",
     "start_time": "2024-08-29T14:36:53.101386Z"
    },
    "id": "xwGAd2sOeWdc",
    "outputId": "fd091b3a-bdd6-460b-cbe4-64424ab1a1f8",
    "colab": {
     "base_uri": "https://localhost:8080/",
     "height": 407
    }
   },
   "outputs": [
    {
     "output_type": "display_data",
     "data": {
      "text/plain": [
       "<Figure size 800x400 with 1 Axes>"
      ],
      "image/png": "[encoded data removed]"
     },
     "metadata": {}
    }
   ],
   "source": [
    "label_bar_chart(df_train)"
   ]
  },
  {
   "cell_type": "markdown",
   "metadata": {
    "id": "w2X9xYXKeWdd"
   },
   "source": [
    "#### Speaker Analysis"
   ]
  },
  {
   "cell_type": "code",
   "execution_count": 19,
   "metadata": {
    "ExecuteTime": {
     "end_time": "2024-08-29T14:36:53.217877Z",
     "start_time": "2024-08-29T14:36:53.214455Z"
    },
    "id": "9FWbZoGoeWdd",
    "outputId": "6f683f52-95a9-46ed-d1b6-c9ca3142e8c8",
    "colab": {
     "base_uri": "https://localhost:8080/"
    }
   },
   "outputs": [
    {
     "output_type": "stream",
     "name": "stdout",
     "text": [
      "Unique speakers in dataset: 2910\n",
      "Average statements made per speaker: 3.5185567010309278\n"
     ]
    }
   ],
   "source": [
    "num_speakers = df_train['Speaker'].nunique()\n",
    "avg_statments = len(df_train) / num_speakers\n",
    "\n",
    "print(f\"Unique speakers in dataset: {num_speakers}\")\n",
    "print(f\"Average statements made per speaker: {avg_statments}\")"
   ]
  },
  {
   "cell_type": "code",
   "execution_count": 20,
   "metadata": {
    "ExecuteTime": {
     "end_time": "2024-08-29T14:36:53.236043Z",
     "start_time": "2024-08-29T14:36:53.231828Z"
    },
    "id": "kVtbmzRkeWdd",
    "outputId": "a069ad79-741a-4507-dab8-a85292674c3d",
    "colab": {
     "base_uri": "https://localhost:8080/"
    }
   },
   "outputs": [
    {
     "output_type": "execute_result",
     "data": {
      "text/plain": [
       "['scott-surovell',\n",
       " 'barack-obama',\n",
       " 'blog-posting',\n",
       " 'charlie-crist',\n",
       " 'robin-vos']"
      ]
     },
     "metadata": {},
     "execution_count": 20
    }
   ],
   "source": [
    "speaker_lists = df_train['Speaker'].unique().tolist()\n",
    "speaker_lists[:5]"
   ]
  },
  {
   "cell_type": "code",
   "execution_count": 21,
   "metadata": {
    "ExecuteTime": {
     "end_time": "2024-08-29T14:36:53.337594Z",
     "start_time": "2024-08-29T14:36:53.250571Z"
    },
    "id": "YrcKDHqKeWdd",
    "outputId": "c7d9abef-7072-4eb2-8e42-90116387b734",
    "colab": {
     "base_uri": "https://localhost:8080/",
     "height": 407
    }
   },
   "outputs": [
    {
     "output_type": "display_data",
     "data": {
      "text/plain": [
       "<Figure size 800x400 with 1 Axes>"
      ],
      "image/png": "[encoded data removed]"
     },
     "metadata": {}
    }
   ],
   "source": [
    "def speaker_bar_chart(input_df: pd.DataFrame, speaker: str) -> pd.DataFrame:\n",
    "    \"\"\"\n",
    "    Label distribution by Speaker\n",
    "    \"\"\"\n",
    "    # filters the input_df\n",
    "    speaker_df = input_df[ input_df['Speaker'] == speaker ]\n",
    "    speaker_df.reset_index(inplace=True)\n",
    "\n",
    "    # calls the bar chart function we created earlier\n",
    "    label_bar_chart(speaker_df, title=speaker)\n",
    "\n",
    "    return speaker_df\n",
    "\n",
    "\n",
    "# create a bar chart over labels for a single speaker. Store the returned dataframe to a variable.\n",
    "speak_ret_df = speaker_bar_chart(df_train, 'barack-obama')"
   ]
  },
  {
   "cell_type": "markdown",
   "metadata": {
    "id": "Ton7EooBeWdd"
   },
   "source": [
    "#### Subject Analysis"
   ]
  },
  {
   "cell_type": "code",
   "execution_count": 22,
   "metadata": {
    "ExecuteTime": {
     "end_time": "2024-08-29T14:36:53.367116Z",
     "start_time": "2024-08-29T14:36:53.355237Z"
    },
    "id": "m2aqLvOieWdd",
    "outputId": "74018967-4db8-4a66-fe8b-790ddb924a45",
    "colab": {
     "base_uri": "https://localhost:8080/",
     "height": 206
    }
   },
   "outputs": [
    {
     "output_type": "execute_result",
     "data": {
      "text/plain": [
       "         Label              Subject\n",
       "0    half-true               energy\n",
       "0    half-true              history\n",
       "0    half-true  job-accomplishments\n",
       "1  mostly-true       foreign-policy\n",
       "2        false          health-care"
      ],
      "text/html": [
       "\n",
       "  <div id=\"df-fec56fb1-5cac-4c3d-a3e2-cbb42d8ce1a1\" class=\"colab-df-container\">\n",
       "    <div>\n",
       "<style scoped>\n",
       "    .dataframe tbody tr th:only-of-type {\n",
       "        vertical-align: middle;\n",
       "    }\n",
       "\n",
       "    .dataframe tbody tr th {\n",
       "        vertical-align: top;\n",
       "    }\n",
       "\n",
       "    .dataframe thead th {\n",
       "        text-align: right;\n",
       "    }\n",
       "</style>\n",
       "<table border=\"1\" class=\"dataframe\">\n",
       "  <thead>\n",
       "    <tr style=\"text-align: right;\">\n",
       "      <th></th>\n",
       "      <th>Label</th>\n",
       "      <th>Subject</th>\n",
       "    </tr>\n",
       "  </thead>\n",
       "  <tbody>\n",
       "    <tr>\n",
       "      <th>0</th>\n",
       "      <td>half-true</td>\n",
       "      <td>energy</td>\n",
       "    </tr>\n",
       "    <tr>\n",
       "      <th>0</th>\n",
       "      <td>half-true</td>\n",
       "      <td>history</td>\n",
       "    </tr>\n",
       "    <tr>\n",
       "      <th>0</th>\n",
       "      <td>half-true</td>\n",
       "      <td>job-accomplishments</td>\n",
       "    </tr>\n",
       "    <tr>\n",
       "      <th>1</th>\n",
       "      <td>mostly-true</td>\n",
       "      <td>foreign-policy</td>\n",
       "    </tr>\n",
       "    <tr>\n",
       "      <th>2</th>\n",
       "      <td>false</td>\n",
       "      <td>health-care</td>\n",
       "    </tr>\n",
       "  </tbody>\n",
       "</table>\n",
       "</div>\n",
       "    <div class=\"colab-df-buttons\">\n",
       "\n",
       "  <div class=\"colab-df-container\">\n",
       "    <button class=\"colab-df-convert\" onclick=\"convertToInteractive('df-fec56fb1-5cac-4c3d-a3e2-cbb42d8ce1a1')\"\n",
       "            title=\"Convert this dataframe to an interactive table.\"\n",
       "            style=\"display:none;\">\n",
       "\n",
       "  <svg xmlns=\"http://www.w3.org/2000/svg\" height=\"24px\" viewBox=\"0 -960 960 960\">\n",
       "    <path d=\"M120-120v-720h720v720H120Zm60-500h600v-160H180v160Zm220 220h160v-160H400v160Zm0 220h160v-160H400v160ZM180-400h160v-160H180v160Zm440 0h160v-160H620v160ZM180-180h160v-160H180v160Zm440 0h160v-160H620v160Z\"/>\n",
       "  </svg>\n",
       "    </button>\n",
       "\n",
       "  <style>\n",
       "    .colab-df-container {\n",
       "      display:flex;\n",
       "      gap: 12px;\n",
       "    }\n",
       "\n",
       "    .colab-df-convert {\n",
       "      background-color: #E8F0FE;\n",
       "      border: none;\n",
       "      border-radius: 50%;\n",
       "      cursor: pointer;\n",
       "      display: none;\n",
       "      fill: #1967D2;\n",
       "      height: 32px;\n",
       "      padding: 0 0 0 0;\n",
       "      width: 32px;\n",
       "    }\n",
       "\n",
       "    .colab-df-convert:hover {\n",
       "      background-color: #E2EBFA;\n",
       "      box-shadow: 0px 1px 2px rgba(60, 64, 67, 0.3), 0px 1px 3px 1px rgba(60, 64, 67, 0.15);\n",
       "      fill: #174EA6;\n",
       "    }\n",
       "\n",
       "    .colab-df-buttons div {\n",
       "      margin-bottom: 4px;\n",
       "    }\n",
       "\n",
       "    [theme=dark] .colab-df-convert {\n",
       "      background-color: #3B4455;\n",
       "      fill: #D2E3FC;\n",
       "    }\n",
       "\n",
       "    [theme=dark] .colab-df-convert:hover {\n",
       "      background-color: #434B5C;\n",
       "      box-shadow: 0px 1px 3px 1px rgba(0, 0, 0, 0.15);\n",
       "      filter: drop-shadow(0px 1px 2px rgba(0, 0, 0, 0.3));\n",
       "      fill: #FFFFFF;\n",
       "    }\n",
       "  </style>\n",
       "\n",
       "    <script>\n",
       "      const buttonEl =\n",
       "        document.querySelector('#df-fec56fb1-5cac-4c3d-a3e2-cbb42d8ce1a1 button.colab-df-convert');\n",
       "      buttonEl.style.display =\n",
       "        google.colab.kernel.accessAllowed ? 'block' : 'none';\n",
       "\n",
       "      async function convertToInteractive(key) {\n",
       "        const element = document.querySelector('#df-fec56fb1-5cac-4c3d-a3e2-cbb42d8ce1a1');\n",
       "        const dataTable =\n",
       "          await google.colab.kernel.invokeFunction('convertToInteractive',\n",
       "                                                    [key], {});\n",
       "        if (!dataTable) return;\n",
       "\n",
       "        const docLinkHtml = 'Like what you see? Visit the ' +\n",
       "          '<a target=\"_blank\" href=https://colab.research.google.com/notebooks/data_table.ipynb>data table notebook</a>'\n",
       "          + ' to learn more about interactive tables.';\n",
       "        element.innerHTML = '';\n",
       "        dataTable['output_type'] = 'display_data';\n",
       "        await google.colab.output.renderOutput(dataTable, element);\n",
       "        const docLink = document.createElement('div');\n",
       "        docLink.innerHTML = docLinkHtml;\n",
       "        element.appendChild(docLink);\n",
       "      }\n",
       "    </script>\n",
       "  </div>\n",
       "\n",
       "\n",
       "<div id=\"df-aa826bd2-9b85-4fc4-b0d4-b7ad803d3ac6\">\n",
       "  <button class=\"colab-df-quickchart\" onclick=\"quickchart('df-aa826bd2-9b85-4fc4-b0d4-b7ad803d3ac6')\"\n",
       "            title=\"Suggest charts\"\n",
       "            style=\"display:none;\">\n",
       "\n",
       "<svg xmlns=\"http://www.w3.org/2000/svg\" height=\"24px\"viewBox=\"0 0 24 24\"\n",
       "     width=\"24px\">\n",
       "    <g>\n",
       "        <path d=\"M19 3H5c-1.1 0-2 .9-2 2v14c0 1.1.9 2 2 2h14c1.1 0 2-.9 2-2V5c0-1.1-.9-2-2-2zM9 17H7v-7h2v7zm4 0h-2V7h2v10zm4 0h-2v-4h2v4z\"/>\n",
       "    </g>\n",
       "</svg>\n",
       "  </button>\n",
       "\n",
       "<style>\n",
       "  .colab-df-quickchart {\n",
       "      --bg-color: #E8F0FE;\n",
       "      --fill-color: #1967D2;\n",
       "      --hover-bg-color: #E2EBFA;\n",
       "      --hover-fill-color: #174EA6;\n",
       "      --disabled-fill-color: #AAA;\n",
       "      --disabled-bg-color: #DDD;\n",
       "  }\n",
       "\n",
       "  [theme=dark] .colab-df-quickchart {\n",
       "      --bg-color: #3B4455;\n",
       "      --fill-color: #D2E3FC;\n",
       "      --hover-bg-color: #434B5C;\n",
       "      --hover-fill-color: #FFFFFF;\n",
       "      --disabled-bg-color: #3B4455;\n",
       "      --disabled-fill-color: #666;\n",
       "  }\n",
       "\n",
       "  .colab-df-quickchart {\n",
       "    background-color: var(--bg-color);\n",
       "    border: none;\n",
       "    border-radius: 50%;\n",
       "    cursor: pointer;\n",
       "    display: none;\n",
       "    fill: var(--fill-color);\n",
       "    height: 32px;\n",
       "    padding: 0;\n",
       "    width: 32px;\n",
       "  }\n",
       "\n",
       "  .colab-df-quickchart:hover {\n",
       "    background-color: var(--hover-bg-color);\n",
       "    box-shadow: 0 1px 2px rgba(60, 64, 67, 0.3), 0 1px 3px 1px rgba(60, 64, 67, 0.15);\n",
       "    fill: var(--button-hover-fill-color);\n",
       "  }\n",
       "\n",
       "  .colab-df-quickchart-complete:disabled,\n",
       "  .colab-df-quickchart-complete:disabled:hover {\n",
       "    background-color: var(--disabled-bg-color);\n",
       "    fill: var(--disabled-fill-color);\n",
       "    box-shadow: none;\n",
       "  }\n",
       "\n",
       "  .colab-df-spinner {\n",
       "    border: 2px solid var(--fill-color);\n",
       "    border-color: transparent;\n",
       "    border-bottom-color: var(--fill-color);\n",
       "    animation:\n",
       "      spin 1s steps(1) infinite;\n",
       "  }\n",
       "\n",
       "  @keyframes spin {\n",
       "    0% {\n",
       "      border-color: transparent;\n",
       "      border-bottom-color: var(--fill-color);\n",
       "      border-left-color: var(--fill-color);\n",
       "    }\n",
       "    20% {\n",
       "      border-color: transparent;\n",
       "      border-left-color: var(--fill-color);\n",
       "      border-top-color: var(--fill-color);\n",
       "    }\n",
       "    30% {\n",
       "      border-color: transparent;\n",
       "      border-left-color: var(--fill-color);\n",
       "      border-top-color: var(--fill-color);\n",
       "      border-right-color: var(--fill-color);\n",
       "    }\n",
       "    40% {\n",
       "      border-color: transparent;\n",
       "      border-right-color: var(--fill-color);\n",
       "      border-top-color: var(--fill-color);\n",
       "    }\n",
       "    60% {\n",
       "      border-color: transparent;\n",
       "      border-right-color: var(--fill-color);\n",
       "    }\n",
       "    80% {\n",
       "      border-color: transparent;\n",
       "      border-right-color: var(--fill-color);\n",
       "      border-bottom-color: var(--fill-color);\n",
       "    }\n",
       "    90% {\n",
       "      border-color: transparent;\n",
       "      border-bottom-color: var(--fill-color);\n",
       "    }\n",
       "  }\n",
       "</style>\n",
       "\n",
       "  <script>\n",
       "    async function quickchart(key) {\n",
       "      const quickchartButtonEl =\n",
       "        document.querySelector('#' + key + ' button');\n",
       "      quickchartButtonEl.disabled = true;  // To prevent multiple clicks.\n",
       "      quickchartButtonEl.classList.add('colab-df-spinner');\n",
       "      try {\n",
       "        const charts = await google.colab.kernel.invokeFunction(\n",
       "            'suggestCharts', [key], {});\n",
       "      } catch (error) {\n",
       "        console.error('Error during call to suggestCharts:', error);\n",
       "      }\n",
       "      quickchartButtonEl.classList.remove('colab-df-spinner');\n",
       "      quickchartButtonEl.classList.add('colab-df-quickchart-complete');\n",
       "    }\n",
       "    (() => {\n",
       "      let quickchartButtonEl =\n",
       "        document.querySelector('#df-aa826bd2-9b85-4fc4-b0d4-b7ad803d3ac6 button');\n",
       "      quickchartButtonEl.style.display =\n",
       "        google.colab.kernel.accessAllowed ? 'block' : 'none';\n",
       "    })();\n",
       "  </script>\n",
       "</div>\n",
       "\n",
       "    </div>\n",
       "  </div>\n"
      ],
      "application/vnd.google.colaboratory.intrinsic+json": {
       "type": "dataframe",
       "variable_name": "subject_df",
       "summary": "{\n  \"name\": \"subject_df\",\n  \"rows\": 22204,\n  \"fields\": [\n    {\n      \"column\": \"Label\",\n      \"properties\": {\n        \"dtype\": \"category\",\n        \"num_unique_values\": 6,\n        \"samples\": [\n          \"half-true\",\n          \"mostly-true\",\n          \"pants-fire\"\n        ],\n        \"semantic_type\": \"\",\n        \"description\": \"\"\n      }\n    },\n    {\n      \"column\": \"Subject\",\n      \"properties\": {\n        \"dtype\": \"category\",\n        \"num_unique_values\": 143,\n        \"samples\": [\n          \"congressional-rules\",\n          \"bankruptcy\",\n          \"public-safety\"\n        ],\n        \"semantic_type\": \"\",\n        \"description\": \"\"\n      }\n    }\n  ]\n}"
      }
     },
     "metadata": {},
     "execution_count": 22
    }
   ],
   "source": [
    "# creates a new dataframe that only contains the label and subjects columns.\n",
    "subject_df = df_train[['Label', 'Subject']].copy()\n",
    "\n",
    "\n",
    "def csv_to_list(x):\n",
    "    # start by turning the comma-separated values into a list of values\n",
    "    return x.split(\",\")\n",
    "\n",
    "\n",
    "subject_df['Subject'] = subject_df['Subject'].apply(csv_to_list)\n",
    "\n",
    "subject_df = subject_df.explode('Subject')\n",
    "\n",
    "subject_df.head()"
   ]
  },
  {
   "cell_type": "code",
   "execution_count": 23,
   "metadata": {
    "ExecuteTime": {
     "end_time": "2024-08-29T14:36:53.404160Z",
     "start_time": "2024-08-29T14:36:53.401223Z"
    },
    "id": "-aY2xZhgeWdd",
    "outputId": "723385ed-df84-46d5-f895-a96bdf0f8dc1",
    "colab": {
     "base_uri": "https://localhost:8080/"
    }
   },
   "outputs": [
    {
     "output_type": "stream",
     "name": "stdout",
     "text": [
      "Unique subjects in dataset: 143\n"
     ]
    }
   ],
   "source": [
    "num_unique_subjects = subject_df['Subject'].nunique()\n",
    "\n",
    "print(f\"Unique subjects in dataset: {num_unique_subjects}\")"
   ]
  },
  {
   "cell_type": "code",
   "execution_count": 24,
   "metadata": {
    "ExecuteTime": {
     "end_time": "2024-08-29T14:36:53.432806Z",
     "start_time": "2024-08-29T14:36:53.428642Z"
    },
    "id": "T3CQc_rSeWdd",
    "outputId": "826efb97-7d5c-438f-ad38-f345ad77c125",
    "colab": {
     "base_uri": "https://localhost:8080/"
    }
   },
   "outputs": [
    {
     "output_type": "stream",
     "name": "stdout",
     "text": [
      "5 example subjects:\n"
     ]
    },
    {
     "output_type": "execute_result",
     "data": {
      "text/plain": [
       "['energy', 'history', 'job-accomplishments', 'foreign-policy', 'health-care']"
      ]
     },
     "metadata": {},
     "execution_count": 24
    }
   ],
   "source": [
    "subject_lists = subject_df['Subject'].unique().tolist()\n",
    "num = 5\n",
    "print(f\"{num} example subjects:\")\n",
    "subject_lists[:num]"
   ]
  },
  {
   "cell_type": "code",
   "execution_count": 25,
   "metadata": {
    "ExecuteTime": {
     "end_time": "2024-08-29T14:36:53.465329Z",
     "start_time": "2024-08-29T14:36:53.462702Z"
    },
    "id": "wWF_OcZleWdd"
   },
   "outputs": [],
   "source": [
    "def subject_bar_chart(input_df: pd.DataFrame, subject: str) -> pd.DataFrame:\n",
    "\n",
    "    # filters the input_df\n",
    "    ret_df = input_df[ input_df['Subject'] == subject ]\n",
    "    ret_df.reset_index(inplace=True)\n",
    "\n",
    "    # calls the bar chart function we created earlier\n",
    "    label_bar_chart(ret_df, title=subject)\n",
    "\n",
    "    return ret_df\n"
   ]
  },
  {
   "cell_type": "code",
   "execution_count": 26,
   "metadata": {
    "ExecuteTime": {
     "end_time": "2024-08-29T14:36:53.571086Z",
     "start_time": "2024-08-29T14:36:53.487604Z"
    },
    "id": "aEBbVEINeWde",
    "outputId": "5a2f337b-3e64-4b2f-afb6-b1ca54b0d76d",
    "colab": {
     "base_uri": "https://localhost:8080/",
     "height": 407
    }
   },
   "outputs": [
    {
     "output_type": "display_data",
     "data": {
      "text/plain": [
       "<Figure size 800x400 with 1 Axes>"
      ],
      "image/png": "[encoded data removed]"
     },
     "metadata": {}
    }
   ],
   "source": [
    "# create a bar chart over labels for a single subject. Store the returned dataframe to a variable.\n",
    "sub_ret_df = subject_bar_chart(subject_df, 'history')"
   ]
  },
  {
   "cell_type": "markdown",
   "metadata": {
    "id": "r4zlM9yJeWde"
   },
   "source": [
    "# Feature Engineering"
   ]
  },
  {
   "cell_type": "markdown",
   "metadata": {
    "id": "zPNhiXDweWde"
   },
   "source": [
    "## Traditional Model & Deep Learning Pre-processing"
   ]
  },
  {
   "cell_type": "code",
   "execution_count": 27,
   "metadata": {
    "id": "IPDUN8X7eWde"
   },
   "outputs": [],
   "source": [
    "# Prepare dataFrame\n",
    "text_columns = ['Statement', 'Subject', 'Speaker', 'Context']\n",
    "label_columns = ['Label']\n",
    "ml_model_data = df_train[label_columns + text_columns].copy()\n",
    "ml_valid_data = df_valid[label_columns + text_columns].copy()\n",
    "ml_test_data = df_test[label_columns + text_columns].copy()"
   ]
  },
  {
   "cell_type": "markdown",
   "metadata": {
    "id": "fy1w2P8reWde"
   },
   "source": [
    "### Traditional NLP text cleaning"
   ]
  },
  {
   "cell_type": "code",
   "execution_count": 28,
   "metadata": {
    "id": "ZVRMRxkLeWde"
   },
   "outputs": [],
   "source": [
    "from nltk.corpus import stopwords\n",
    "from nltk.tokenize import RegexpTokenizer\n",
    "from nltk.stem import PorterStemmer\n",
    "\n",
    "def clean_text_ml(text):\n",
    "    \"\"\"\n",
    "    The traditional NLP text preprocessing applied for traditional ML model\n",
    "\n",
    "    For instance, SVM, or Linear Regression for classification\n",
    "    \"\"\"\n",
    "    # Initialize NLTK components\n",
    "    stop_words = set(stopwords.words('english'))\n",
    "    stemmer = PorterStemmer()\n",
    "\n",
    "    # Lowercase the text\n",
    "    text = text.lower()\n",
    "\n",
    "    # Tokenize and remove punctuation using RegexpTokenizer\n",
    "    tokenizer = RegexpTokenizer(r'\\w+')\n",
    "    words = tokenizer.tokenize(text)\n",
    "\n",
    "    # Remove stopwords and apply stemming\n",
    "    words = [stemmer.stem(word) for word in words if word not in stop_words]\n",
    "\n",
    "    # Rejoin words into a single string\n",
    "    return ' '.join(words)"
   ]
  },
  {
   "cell_type": "code",
   "execution_count": 29,
   "metadata": {
    "id": "6Ra8QPfBeWde"
   },
   "outputs": [],
   "source": [
    "# Prepare cleaned statement\n",
    "def generate_clean_text(df):\n",
    "    df['cleaned_statement_text'] = df['Statement'].apply(clean_text_ml)\n",
    "\n",
    "for data in [ml_model_data, ml_test_data, ml_valid_data]:\n",
    "    generate_clean_text(data)"
   ]
  },
  {
   "cell_type": "markdown",
   "metadata": {
    "id": "1TUzozL3eWde"
   },
   "source": [
    "### Word Embedding for represent text"
   ]
  },
  {
   "cell_type": "markdown",
   "metadata": {
    "id": "zdDGfQtVeWde"
   },
   "source": [
    "Due to the `word2vec-google-news-300` the paper used is too old so that difficult to import it. Training an embedding based on the LIAR itself to replace original idea."
   ]
  },
  {
   "cell_type": "code",
   "execution_count": 30,
   "metadata": {
    "id": "NNpflP7reWde"
   },
   "outputs": [],
   "source": [
    "from gensim.models import Word2Vec\n",
    "from nltk import word_tokenize"
   ]
  },
  {
   "cell_type": "code",
   "execution_count": 31,
   "metadata": {
    "id": "nkdSF3yweWde"
   },
   "outputs": [],
   "source": [
    "def clean_text_dl(text):\n",
    "    # Tokenize the text\n",
    "    tokens = word_tokenize(text.lower())  # Convert to lowercase and tokenize\n",
    "    return tokens\n",
    "\n",
    "# DL Prepare cleaned statement\n",
    "def generate_clean_text_dl(df):\n",
    "    df['tokenized_statement'] = df['Statement'].apply(clean_text_dl)\n",
    "\n",
    "for data in [ml_model_data, ml_test_data, ml_valid_data]:\n",
    "    generate_clean_text_dl(data)"
   ]
  },
  {
   "cell_type": "code",
   "execution_count": 32,
   "metadata": {
    "id": "iUrk1qk0eWdf"
   },
   "outputs": [],
   "source": [
    "# Prepare the sentences for Word2Vec (list of token lists)\n",
    "sentences = ml_model_data['tokenized_statement'].tolist()\n",
    "\n",
    "# Train the Word2Vec model\n",
    "word2vec_model = Word2Vec(sentences, vector_size=100, window=5, min_count=1, workers=4)\n",
    "\n",
    "# Save the model\n",
    "word2vec_model.save(\"./models/word2vec_embedding.model\")"
   ]
  },
  {
   "cell_type": "markdown",
   "metadata": {
    "id": "8-IfQ0QneWdf"
   },
   "source": [
    "## LLM pre-processing"
   ]
  },
  {
   "cell_type": "markdown",
   "metadata": {
    "id": "Mm0fBSqUeWdf"
   },
   "source": [
    "#### Data Preprocessing"
   ]
  },
  {
   "cell_type": "code",
   "execution_count": 33,
   "metadata": {
    "ExecuteTime": {
     "end_time": "2024-08-29T14:36:53.634693Z",
     "start_time": "2024-08-29T14:36:53.589798Z"
    },
    "id": "CY9H98pveWdf"
   },
   "outputs": [],
   "source": [
    "def preprocess_text(text):\n",
    "    \"\"\"\n",
    "    Applied on the text which be used on Transformer model\n",
    "    \"\"\"\n",
    "    text = text.lower()  # Convert to lowercase\n",
    "    text = re.sub(r'\\s+', ' ', text)  # Remove extra spaces\n",
    "    text = re.sub(r'\\[.*?\\]', '', text)  # Remove text inside brackets\n",
    "    text = re.sub(r'https?://\\S+|www\\.\\S+', '', text)  # Remove URLs\n",
    "    return text.strip()\n",
    "\n",
    "df_train['Processed_Statement'] = df_train['Statement'].apply(preprocess_text)"
   ]
  },
  {
   "cell_type": "code",
   "execution_count": 34,
   "metadata": {
    "ExecuteTime": {
     "end_time": "2024-08-29T14:36:53.653183Z",
     "start_time": "2024-08-29T14:36:53.651389Z"
    },
    "id": "3Si_lT3aeWdf",
    "outputId": "b077bd24-412a-4286-dfe2-ca45c9652f74",
    "colab": {
     "base_uri": "https://localhost:8080/"
    }
   },
   "outputs": [
    {
     "output_type": "stream",
     "name": "stdout",
     "text": [
      "['when did the decline of coal start? it started when natural gas took off that started to begin in (president george w.) bushs administration.']\n"
     ]
    }
   ],
   "source": [
    "print(df_train['Processed_Statement'].iloc[:1].tolist())"
   ]
  },
  {
   "cell_type": "code",
   "execution_count": 35,
   "metadata": {
    "ExecuteTime": {
     "end_time": "2024-08-29T14:36:53.674849Z",
     "start_time": "2024-08-29T14:36:53.670264Z"
    },
    "id": "lOVUt2uzeWdf"
   },
   "outputs": [],
   "source": [
    "# Concatenating Text Features\n",
    "df_train['text'] = df_train['Speaker'] + \", \" + df_train['Subject'] + \", \" + df_train['Processed_Statement']"
   ]
  },
  {
   "cell_type": "code",
   "execution_count": 36,
   "metadata": {
    "ExecuteTime": {
     "end_time": "2024-08-29T14:36:53.694493Z",
     "start_time": "2024-08-29T14:36:53.692279Z"
    },
    "id": "vyf71kiqeWdf",
    "outputId": "d5b92724-7b59-4826-8bfb-58b6f76a8b26",
    "colab": {
     "base_uri": "https://localhost:8080/"
    }
   },
   "outputs": [
    {
     "output_type": "stream",
     "name": "stdout",
     "text": [
      "['scott-surovell, energy,history,job-accomplishments, when did the decline of coal start? it started when natural gas took off that started to begin in (president george w.) bushs administration.']\n"
     ]
    }
   ],
   "source": [
    "print(df_train['text'].iloc[:1].tolist())"
   ]
  },
  {
   "cell_type": "markdown",
   "metadata": {
    "id": "lWwh-gEXeWdf"
   },
   "source": [
    "#### Tokenization"
   ]
  },
  {
   "cell_type": "code",
   "execution_count": 37,
   "metadata": {
    "ExecuteTime": {
     "end_time": "2024-08-29T14:36:55.872358Z",
     "start_time": "2024-08-29T14:36:53.713498Z"
    },
    "id": "7oLpNh19eWdf",
    "outputId": "d5092e8a-f39c-4674-a55b-f02fc859bd3b",
    "colab": {
     "base_uri": "https://localhost:8080/",
     "height": 272,
     "referenced_widgets": [
      "e18d03717b354620946cd5d6742bf976",
      "6b8d482e378c4a448a029297e04ee79a",
      "74f8d057ec83486e81b85a1cd65b187c",
      "b979af53113344f394314fcc276644a0",
      "081bf948c62a4708a6ad1d7de8c21276",
      "d196fc3acefc4811a74d1aa985c22310",
      "51b59138588346f6a28adba21fbd9dea",
      "caa476d29f754824aec3405b6b0f3cdb",
      "6d34bc05958b4241b7efd4b7fbdcd56e",
      "391b5d01d46e4c17a215ccc9587196a6",
      "205be89b75574241bf2361d2f3649eff",
      "94c965ba3214400cb005b9a48cc259eb",
      "79e8269c490245388f1c3ceba0de8327",
      "6596861d3f1b4e7a9d5de2fdbd04b701",
      "9d6b279d37314f82ba894dede7845a87",
      "a8145ff746ac4339bf17535fbe8b9b1a",
      "572c6cbbb1224c7da1c27aca4c06ff94",
      "2c3afbfa023543c198b67eeb7406d386",
      "0007a1053cdb48319641cba91648d84f",
      "fb9ea4e3395b4deab25fb9b83e4cadac",
      "d71a8ba05b854dd68f75e12753b748e4",
      "379d1211b6e74ce3bf1db0a9fe1ef917",
      "d03c95daf73e413886e326a31231bc1a",
      "e8cd67caeb4c4939bd47567a3e0df8e0",
      "ee7235fe3e584617939bc68c5869c603",
      "69f204c1acfc45838a6f1354429cb25c",
      "f8dc8959c22841d0a9472563328ec47d",
      "ac562277df744fe0baed9b00b4b18e2e",
      "706510e4b24b4fcba42c2296b5aacb06",
      "2a5632ac5ed1400498335fe0d47b8b00",
      "2976bde61d2e462087379efa23c59f95",
      "a245d4f60fa5437d8c15c07176d6203b",
      "1ab55a2fda9a49909b0870826720c339",
      "edc376a33a304fbd9eb4b80b6d1bfcb1",
      "5b0c4c23ce2f4dccb7aa5f0d490f42d0",
      "c906f28585f34ec3b0476ff747ebccf6",
      "b6336f44312443888e246fd020b612a8",
      "211d169d98d94b9cb518994b426b812f",
      "40cf847e0311422eba0ad07abde81e3c",
      "c27b5606001149a481c632f7b35f5c3a",
      "f8eba3bfe61b40bb91618b273eb60317",
      "e17492ddcb084710b2a4db0209cb84e9",
      "945bc6f7c2b14faaa292fb51f0c4f361",
      "3b971fdc9a7742aeb5aac892ee0ad11e"
     ]
    }
   },
   "outputs": [
    {
     "output_type": "stream",
     "name": "stderr",
     "text": [
      "/usr/local/lib/python3.10/dist-packages/huggingface_hub/utils/_token.py:89: UserWarning: \n",
      "The secret `HF_TOKEN` does not exist in your Colab secrets.\n",
      "To authenticate with the Hugging Face Hub, create a token in your settings tab (https://huggingface.co/settings/tokens), set it as secret in your Google Colab and restart your session.\n",
      "You will be able to reuse this secret in all of your notebooks.\n",
      "Please note that authentication is recommended but still optional to access public models or datasets.\n",
      "  warnings.warn(\n"
     ]
    },
    {
     "output_type": "display_data",
     "data": {
      "text/plain": [
       "tokenizer_config.json:   0%|          | 0.00/48.0 [00:00<?, ?B/s]"
      ],
      "application/vnd.jupyter.widget-view+json": {
       "version_major": 2,
       "version_minor": 0,
       "model_id": "e18d03717b354620946cd5d6742bf976"
      }
     },
     "metadata": {}
    },
    {
     "output_type": "display_data",
     "data": {
      "text/plain": [
       "vocab.txt:   0%|          | 0.00/232k [00:00<?, ?B/s]"
      ],
      "application/vnd.jupyter.widget-view+json": {
       "version_major": 2,
       "version_minor": 0,
       "model_id": "94c965ba3214400cb005b9a48cc259eb"
      }
     },
     "metadata": {}
    },
    {
     "output_type": "display_data",
     "data": {
      "text/plain": [
       "tokenizer.json:   0%|          | 0.00/466k [00:00<?, ?B/s]"
      ],
      "application/vnd.jupyter.widget-view+json": {
       "version_major": 2,
       "version_minor": 0,
       "model_id": "d03c95daf73e413886e326a31231bc1a"
      }
     },
     "metadata": {}
    },
    {
     "output_type": "display_data",
     "data": {
      "text/plain": [
       "config.json:   0%|          | 0.00/570 [00:00<?, ?B/s]"
      ],
      "application/vnd.jupyter.widget-view+json": {
       "version_major": 2,
       "version_minor": 0,
       "model_id": "edc376a33a304fbd9eb4b80b6d1bfcb1"
      }
     },
     "metadata": {}
    }
   ],
   "source": [
    "from transformers import BertTokenizer\n",
    "\n",
    "# Initialize the BERT tokenizer\n",
    "tokenizer = BertTokenizer.from_pretrained('bert-base-uncased')"
   ]
  },
  {
   "cell_type": "code",
   "execution_count": 38,
   "metadata": {
    "ExecuteTime": {
     "end_time": "2024-08-29T14:36:58.577974Z",
     "start_time": "2024-08-29T14:36:55.899533Z"
    },
    "id": "CfNS4VnjeWdf"
   },
   "outputs": [],
   "source": [
    "# Tokenize the combined text\n",
    "encoded_inputs = tokenizer(\n",
    "    df_train['text'].tolist(),\n",
    "    max_length=128,\n",
    "    padding=True,\n",
    "    truncation=True,\n",
    "    return_tensors='pt'\n",
    ")\n",
    "\n",
    "# These tensors will model inputs\n",
    "input_ids = encoded_inputs['input_ids']\n",
    "attention_masks = encoded_inputs['attention_mask']"
   ]
  },
  {
   "cell_type": "code",
   "execution_count": 39,
   "metadata": {
    "ExecuteTime": {
     "end_time": "2024-08-29T14:36:58.614115Z",
     "start_time": "2024-08-29T14:36:58.610947Z"
    },
    "id": "8Xsvogm5eWdf",
    "outputId": "16f6175f-e55b-42d4-a51a-053c764f65e4",
    "colab": {
     "base_uri": "https://localhost:8080/"
    }
   },
   "outputs": [
    {
     "output_type": "stream",
     "name": "stdout",
     "text": [
      "Example 1:\n",
      "Tokens: ['[CLS]', 'scott', '-', 'sur', '##ove', '##ll', ',', 'energy', ',', 'history', ',', 'job', '-', 'accomplishments', ',', 'when', 'did', 'the', 'decline', 'of', 'coal', 'start', '?', 'it', 'started', 'when', 'natural', 'gas', 'took', 'off', 'that', 'started', 'to', 'begin', 'in', '(', 'president', 'george', 'w', '.', ')', 'bush', '##s', 'administration', '.', '[SEP]', '[PAD]', '[PAD]', '[PAD]', '[PAD]', '[PAD]', '[PAD]', '[PAD]', '[PAD]', '[PAD]', '[PAD]', '[PAD]', '[PAD]', '[PAD]', '[PAD]', '[PAD]', '[PAD]', '[PAD]', '[PAD]', '[PAD]', '[PAD]', '[PAD]', '[PAD]', '[PAD]', '[PAD]', '[PAD]', '[PAD]', '[PAD]', '[PAD]', '[PAD]', '[PAD]', '[PAD]', '[PAD]', '[PAD]', '[PAD]', '[PAD]', '[PAD]', '[PAD]', '[PAD]', '[PAD]', '[PAD]', '[PAD]', '[PAD]', '[PAD]', '[PAD]', '[PAD]', '[PAD]', '[PAD]', '[PAD]', '[PAD]', '[PAD]', '[PAD]', '[PAD]', '[PAD]', '[PAD]', '[PAD]', '[PAD]', '[PAD]', '[PAD]', '[PAD]', '[PAD]', '[PAD]', '[PAD]', '[PAD]', '[PAD]', '[PAD]', '[PAD]', '[PAD]', '[PAD]', '[PAD]', '[PAD]', '[PAD]', '[PAD]', '[PAD]', '[PAD]', '[PAD]', '[PAD]', '[PAD]', '[PAD]', '[PAD]', '[PAD]', '[PAD]', '[PAD]']\n",
      "Input IDs: [101, 3660, 1011, 7505, 21818, 3363, 1010, 2943, 1010, 2381, 1010, 3105, 1011, 17571, 1010, 2043, 2106, 1996, 6689, 1997, 5317, 2707, 1029, 2009, 2318, 2043, 3019, 3806, 2165, 2125, 2008, 2318, 2000, 4088, 1999, 1006, 2343, 2577, 1059, 1012, 1007, 5747, 2015, 3447, 1012, 102, 0, 0, 0, 0, 0, 0, 0, 0, 0, 0, 0, 0, 0, 0, 0, 0, 0, 0, 0, 0, 0, 0, 0, 0, 0, 0, 0, 0, 0, 0, 0, 0, 0, 0, 0, 0, 0, 0, 0, 0, 0, 0, 0, 0, 0, 0, 0, 0, 0, 0, 0, 0, 0, 0, 0, 0, 0, 0, 0, 0, 0, 0, 0, 0, 0, 0, 0, 0, 0, 0, 0, 0, 0, 0, 0, 0, 0, 0, 0, 0, 0, 0]\n",
      "Attention Mask: [1, 1, 1, 1, 1, 1, 1, 1, 1, 1, 1, 1, 1, 1, 1, 1, 1, 1, 1, 1, 1, 1, 1, 1, 1, 1, 1, 1, 1, 1, 1, 1, 1, 1, 1, 1, 1, 1, 1, 1, 1, 1, 1, 1, 1, 1, 0, 0, 0, 0, 0, 0, 0, 0, 0, 0, 0, 0, 0, 0, 0, 0, 0, 0, 0, 0, 0, 0, 0, 0, 0, 0, 0, 0, 0, 0, 0, 0, 0, 0, 0, 0, 0, 0, 0, 0, 0, 0, 0, 0, 0, 0, 0, 0, 0, 0, 0, 0, 0, 0, 0, 0, 0, 0, 0, 0, 0, 0, 0, 0, 0, 0, 0, 0, 0, 0, 0, 0, 0, 0, 0, 0, 0, 0, 0, 0, 0, 0]\n",
      "\n",
      "\n",
      "Example 2:\n",
      "Tokens: ['[CLS]', 'barack', '-', 'obama', ',', 'foreign', '-', 'policy', ',', 'hillary', 'clinton', 'agrees', 'with', 'john', 'mccain', '\"', 'by', 'voting', 'to', 'give', 'george', 'bush', 'the', 'benefit', 'of', 'the', 'doubt', 'on', 'iran', '.', '\"', '[SEP]', '[PAD]', '[PAD]', '[PAD]', '[PAD]', '[PAD]', '[PAD]', '[PAD]', '[PAD]', '[PAD]', '[PAD]', '[PAD]', '[PAD]', '[PAD]', '[PAD]', '[PAD]', '[PAD]', '[PAD]', '[PAD]', '[PAD]', '[PAD]', '[PAD]', '[PAD]', '[PAD]', '[PAD]', '[PAD]', '[PAD]', '[PAD]', '[PAD]', '[PAD]', '[PAD]', '[PAD]', '[PAD]', '[PAD]', '[PAD]', '[PAD]', '[PAD]', '[PAD]', '[PAD]', '[PAD]', '[PAD]', '[PAD]', '[PAD]', '[PAD]', '[PAD]', '[PAD]', '[PAD]', '[PAD]', '[PAD]', '[PAD]', '[PAD]', '[PAD]', '[PAD]', '[PAD]', '[PAD]', '[PAD]', '[PAD]', '[PAD]', '[PAD]', '[PAD]', '[PAD]', '[PAD]', '[PAD]', '[PAD]', '[PAD]', '[PAD]', '[PAD]', '[PAD]', '[PAD]', '[PAD]', '[PAD]', '[PAD]', '[PAD]', '[PAD]', '[PAD]', '[PAD]', '[PAD]', '[PAD]', '[PAD]', '[PAD]', '[PAD]', '[PAD]', '[PAD]', '[PAD]', '[PAD]', '[PAD]', '[PAD]', '[PAD]', '[PAD]', '[PAD]', '[PAD]', '[PAD]', '[PAD]', '[PAD]', '[PAD]', '[PAD]', '[PAD]']\n",
      "Input IDs: [101, 13857, 1011, 8112, 1010, 3097, 1011, 3343, 1010, 18520, 7207, 10217, 2007, 2198, 19186, 1000, 2011, 6830, 2000, 2507, 2577, 5747, 1996, 5770, 1997, 1996, 4797, 2006, 4238, 1012, 1000, 102, 0, 0, 0, 0, 0, 0, 0, 0, 0, 0, 0, 0, 0, 0, 0, 0, 0, 0, 0, 0, 0, 0, 0, 0, 0, 0, 0, 0, 0, 0, 0, 0, 0, 0, 0, 0, 0, 0, 0, 0, 0, 0, 0, 0, 0, 0, 0, 0, 0, 0, 0, 0, 0, 0, 0, 0, 0, 0, 0, 0, 0, 0, 0, 0, 0, 0, 0, 0, 0, 0, 0, 0, 0, 0, 0, 0, 0, 0, 0, 0, 0, 0, 0, 0, 0, 0, 0, 0, 0, 0, 0, 0, 0, 0, 0, 0]\n",
      "Attention Mask: [1, 1, 1, 1, 1, 1, 1, 1, 1, 1, 1, 1, 1, 1, 1, 1, 1, 1, 1, 1, 1, 1, 1, 1, 1, 1, 1, 1, 1, 1, 1, 1, 0, 0, 0, 0, 0, 0, 0, 0, 0, 0, 0, 0, 0, 0, 0, 0, 0, 0, 0, 0, 0, 0, 0, 0, 0, 0, 0, 0, 0, 0, 0, 0, 0, 0, 0, 0, 0, 0, 0, 0, 0, 0, 0, 0, 0, 0, 0, 0, 0, 0, 0, 0, 0, 0, 0, 0, 0, 0, 0, 0, 0, 0, 0, 0, 0, 0, 0, 0, 0, 0, 0, 0, 0, 0, 0, 0, 0, 0, 0, 0, 0, 0, 0, 0, 0, 0, 0, 0, 0, 0, 0, 0, 0, 0, 0, 0]\n",
      "\n",
      "\n"
     ]
    }
   ],
   "source": [
    "for i in range(2):\n",
    "    # Decode the input_ids back to tokens\n",
    "    tokens = tokenizer.convert_ids_to_tokens(input_ids[i])\n",
    "\n",
    "    print(f\"Example {i+1}:\")\n",
    "    print(f\"Tokens: {tokens}\")\n",
    "    print(f\"Input IDs: {input_ids[i].tolist()}\")\n",
    "    print(f\"Attention Mask: {attention_masks[i].tolist()}\")\n",
    "    print(\"\\n\")"
   ]
  },
  {
   "cell_type": "markdown",
   "metadata": {
    "id": "NQyHmm64eWdf"
   },
   "source": [
    "So much number of [PAD] to make the input align the BERT pre-defined token length 512. All input sequences in a batch to have the same length."
   ]
  },
  {
   "cell_type": "markdown",
   "metadata": {
    "id": "uLT9jaLZeWdf"
   },
   "source": [
    "# Model Construction"
   ]
  },
  {
   "cell_type": "markdown",
   "metadata": {
    "id": "EXKCP0pgeWdf"
   },
   "source": []
  },
  {
   "cell_type": "markdown",
   "metadata": {
    "id": "pl3tAsUfeWdf"
   },
   "source": [
    "## Original Paper Work"
   ]
  },
  {
   "cell_type": "markdown",
   "metadata": {
    "id": "lrWi06lteWdf"
   },
   "source": [
    "### Pre-processing for ML"
   ]
  },
  {
   "cell_type": "code",
   "execution_count": 40,
   "metadata": {
    "id": "JKmGGx79eWdf"
   },
   "outputs": [],
   "source": [
    "from sklearn.feature_extraction.text import TfidfVectorizer\n",
    "from sklearn.model_selection import train_test_split\n",
    "from sklearn.metrics import classification_report, accuracy_score\n",
    "from sklearn.preprocessing import LabelEncoder\n"
   ]
  },
  {
   "cell_type": "code",
   "execution_count": 41,
   "metadata": {
    "id": "sWflo-vWeWdg"
   },
   "outputs": [],
   "source": [
    "# Convert text to numerical features using TF-IDF\n",
    "vectorizer = TfidfVectorizer(max_features=5000)  # max_features need adjust\n",
    "\n",
    "train_X = vectorizer.fit_transform(ml_model_data['cleaned_statement_text'])\n",
    "\n",
    "# Encode label\n",
    "def encode_label(df):\n",
    "    le = LabelEncoder()\n",
    "    df['encoded_label'] = le.fit_transform(df['Label'])\n",
    "    return le  # convince for report show target name\n",
    "\n",
    "\n",
    "for data in [ml_model_data, ml_valid_data, ml_test_data]:\n",
    "    label_encoder = encode_label(data)\n",
    "\n",
    "# Split the data into training and testing sets\n",
    "X_train, X_test, y_train, y_test = train_test_split(\n",
    "    train_X, ml_model_data['encoded_label'], test_size=0.2, random_state=42\n",
    ")"
   ]
  },
  {
   "cell_type": "markdown",
   "metadata": {
    "id": "aUBRIkGYeWdg"
   },
   "source": [
    "### SVM"
   ]
  },
  {
   "cell_type": "code",
   "execution_count": 42,
   "metadata": {
    "id": "_1v7EG8GeWdg"
   },
   "outputs": [],
   "source": [
    "from sklearn.model_selection import GridSearchCV\n",
    "from sklearn.svm import SVC\n",
    "\n",
    "import pickle"
   ]
  },
  {
   "cell_type": "code",
   "execution_count": 43,
   "metadata": {
    "id": "hFlki5MReWdg"
   },
   "outputs": [],
   "source": [
    "# # Define the parameter grid for tuning\n",
    "# param_grid = {\n",
    "#     'C': [0.1, 1, 10, 100],  # Regularization parameter for SVM\n",
    "#     'kernel': ['linear', 'rbf'],  # SVM kernel\n",
    "#     'gamma': ['scale', 'auto'],  # Kernel coefficient\n",
    "# }\n",
    "\n",
    "# # Initialize the SVM model\n",
    "# svm = SVC()\n",
    "\n",
    "# # Use GridSearchCV to tune hyperparameters\n",
    "# grid_search = GridSearchCV(svm, param_grid, cv=5, scoring='accuracy', n_jobs=-1)\n",
    "# grid_search.fit(X_train, y_train)\n",
    "\n",
    "# # Best hyperparameters found\n",
    "# print(\"Best Hyperparameters:\", grid_search.best_params_)\n",
    "\n",
    "# # Save the best parameters found by GridSearchCV\n",
    "# best_params = grid_search.best_params_\n",
    "\n",
    "# # Save to a file using pickle\n",
    "# with open('./models/best_svm_params.pkl', 'wb') as f:\n",
    "#     pickle.dump(best_params, f)"
   ]
  },
  {
   "cell_type": "code",
   "execution_count": 44,
   "metadata": {
    "id": "IK03Ym6BeWdg",
    "outputId": "200b098c-bdb9-425e-ee11-58e39d9761c1",
    "colab": {
     "base_uri": "https://localhost:8080/",
     "height": 75
    }
   },
   "outputs": [
    {
     "output_type": "execute_result",
     "data": {
      "text/plain": [
       "SVC(C=1)"
      ],
      "text/html": [
       "<style>#sk-container-id-1 {color: black;}#sk-container-id-1 pre{padding: 0;}#sk-container-id-1 div.sk-toggleable {background-color: white;}#sk-container-id-1 label.sk-toggleable__label {cursor: pointer;display: block;width: 100%;margin-bottom: 0;padding: 0.3em;box-sizing: border-box;text-align: center;}#sk-container-id-1 label.sk-toggleable__label-arrow:before {content: \"▸\";float: left;margin-right: 0.25em;color: #696969;}#sk-container-id-1 label.sk-toggleable__label-arrow:hover:before {color: black;}#sk-container-id-1 div.sk-estimator:hover label.sk-toggleable__label-arrow:before {color: black;}#sk-container-id-1 div.sk-toggleable__content {max-height: 0;max-width: 0;overflow: hidden;text-align: left;background-color: #f0f8ff;}#sk-container-id-1 div.sk-toggleable__content pre {margin: 0.2em;color: black;border-radius: 0.25em;background-color: #f0f8ff;}#sk-container-id-1 input.sk-toggleable__control:checked~div.sk-toggleable__content {max-height: 200px;max-width: 100%;overflow: auto;}#sk-container-id-1 input.sk-toggleable__control:checked~label.sk-toggleable__label-arrow:before {content: \"▾\";}#sk-container-id-1 div.sk-estimator input.sk-toggleable__control:checked~label.sk-toggleable__label {background-color: #d4ebff;}#sk-container-id-1 div.sk-label input.sk-toggleable__control:checked~label.sk-toggleable__label {background-color: #d4ebff;}#sk-container-id-1 input.sk-hidden--visually {border: 0;clip: rect(1px 1px 1px 1px);clip: rect(1px, 1px, 1px, 1px);height: 1px;margin: -1px;overflow: hidden;padding: 0;position: absolute;width: 1px;}#sk-container-id-1 div.sk-estimator {font-family: monospace;background-color: #f0f8ff;border: 1px dotted black;border-radius: 0.25em;box-sizing: border-box;margin-bottom: 0.5em;}#sk-container-id-1 div.sk-estimator:hover {background-color: #d4ebff;}#sk-container-id-1 div.sk-parallel-item::after {content: \"\";width: 100%;border-bottom: 1px solid gray;flex-grow: 1;}#sk-container-id-1 div.sk-label:hover label.sk-toggleable__label {background-color: #d4ebff;}#sk-container-id-1 div.sk-serial::before {content: \"\";position: absolute;border-left: 1px solid gray;box-sizing: border-box;top: 0;bottom: 0;left: 50%;z-index: 0;}#sk-container-id-1 div.sk-serial {display: flex;flex-direction: column;align-items: center;background-color: white;padding-right: 0.2em;padding-left: 0.2em;position: relative;}#sk-container-id-1 div.sk-item {position: relative;z-index: 1;}#sk-container-id-1 div.sk-parallel {display: flex;align-items: stretch;justify-content: center;background-color: white;position: relative;}#sk-container-id-1 div.sk-item::before, #sk-container-id-1 div.sk-parallel-item::before {content: \"\";position: absolute;border-left: 1px solid gray;box-sizing: border-box;top: 0;bottom: 0;left: 50%;z-index: -1;}#sk-container-id-1 div.sk-parallel-item {display: flex;flex-direction: column;z-index: 1;position: relative;background-color: white;}#sk-container-id-1 div.sk-parallel-item:first-child::after {align-self: flex-end;width: 50%;}#sk-container-id-1 div.sk-parallel-item:last-child::after {align-self: flex-start;width: 50%;}#sk-container-id-1 div.sk-parallel-item:only-child::after {width: 0;}#sk-container-id-1 div.sk-dashed-wrapped {border: 1px dashed gray;margin: 0 0.4em 0.5em 0.4em;box-sizing: border-box;padding-bottom: 0.4em;background-color: white;}#sk-container-id-1 div.sk-label label {font-family: monospace;font-weight: bold;display: inline-block;line-height: 1.2em;}#sk-container-id-1 div.sk-label-container {text-align: center;}#sk-container-id-1 div.sk-container {/* jupyter's `normalize.less` sets `[hidden] { display: none; }` but bootstrap.min.css set `[hidden] { display: none !important; }` so we also need the `!important` here to be able to override the default hidden behavior on the sphinx rendered scikit-learn.org. See: https://github.com/scikit-learn/scikit-learn/issues/21755 */display: inline-block !important;position: relative;}#sk-container-id-1 div.sk-text-repr-fallback {display: none;}</style><div id=\"sk-container-id-1\" class=\"sk-top-container\"><div class=\"sk-text-repr-fallback\"><pre>SVC(C=1)</pre><b>In a Jupyter environment, please rerun this cell to show the HTML representation or trust the notebook. <br />On GitHub, the HTML representation is unable to render, please try loading this page with nbviewer.org.</b></div><div class=\"sk-container\" hidden><div class=\"sk-item\"><div class=\"sk-estimator sk-toggleable\"><input class=\"sk-toggleable__control sk-hidden--visually\" id=\"sk-estimator-id-1\" type=\"checkbox\" checked><label for=\"sk-estimator-id-1\" class=\"sk-toggleable__label sk-toggleable__label-arrow\">SVC</label><div class=\"sk-toggleable__content\"><pre>SVC(C=1)</pre></div></div></div></div></div>"
      ]
     },
     "metadata": {},
     "execution_count": 44
    }
   ],
   "source": [
    "# Load the best parameters from the file\n",
    "# URL: https://github.com/JessieLuo/AppliedMachineLearning/blob/dev/models/best_svm_params.pkl\n",
    "with open('./models/best_svm_params.pkl', 'rb') as f:\n",
    "    loaded_params = pickle.load(f)\n",
    "\n",
    "svm_loaded = SVC(**loaded_params)\n",
    "svm_loaded.fit(X_train, y_train)"
   ]
  },
  {
   "cell_type": "code",
   "execution_count": 45,
   "metadata": {
    "id": "aiz2qvT0eWdg",
    "outputId": "9a2e7067-07b8-45b8-9b58-6be827f561da",
    "colab": {
     "base_uri": "https://localhost:8080/"
    }
   },
   "outputs": [
    {
     "output_type": "stream",
     "name": "stdout",
     "text": [
      "Validation Set Accuracy: 0.23460639127045985\n",
      "Validation Set Classification Report:\n",
      "               precision    recall  f1-score   support\n",
      "\n",
      " barely-true       0.26      0.12      0.17       236\n",
      "       false       0.25      0.38      0.30       263\n",
      "   half-true       0.21      0.33      0.25       248\n",
      " mostly-true       0.24      0.24      0.24       251\n",
      "  pants-fire       0.75      0.03      0.05       116\n",
      "        true       0.23      0.16      0.19       169\n",
      "\n",
      "    accuracy                           0.23      1283\n",
      "   macro avg       0.32      0.21      0.20      1283\n",
      "weighted avg       0.28      0.23      0.22      1283\n",
      "\n"
     ]
    }
   ],
   "source": [
    "# Evaluate on the validation set\n",
    "Valid_X = vectorizer.transform(ml_valid_data['cleaned_statement_text']) # Carefully use transform() not fit_transform() to avoid re-fit the words\n",
    "Valid_y = ml_valid_data['encoded_label']\n",
    "\n",
    "Valid_y_pred = svm_loaded.predict(Valid_X)\n",
    "print(\"Validation Set Accuracy:\", accuracy_score(Valid_y, Valid_y_pred))\n",
    "print(\"Validation Set Classification Report:\\n\", classification_report(Valid_y, Valid_y_pred, target_names=label_encoder.classes_))\n"
   ]
  },
  {
   "cell_type": "code",
   "execution_count": 46,
   "metadata": {
    "id": "6nbu9UqZeWdg",
    "outputId": "ebe2df09-835e-45de-df7a-d31e13ca1aa7",
    "colab": {
     "base_uri": "https://localhost:8080/"
    }
   },
   "outputs": [
    {
     "output_type": "stream",
     "name": "stdout",
     "text": [
      "Test Set Accuracy: 0.23064770932069512\n",
      "Test Set Classification Report:\n",
      "               precision    recall  f1-score   support\n",
      "\n",
      " barely-true       0.26      0.13      0.17       212\n",
      "       false       0.23      0.32      0.27       249\n",
      "   half-true       0.24      0.36      0.29       265\n",
      " mostly-true       0.20      0.23      0.21       241\n",
      "  pants-fire       0.50      0.03      0.06        92\n",
      "        true       0.23      0.15      0.18       207\n",
      "\n",
      "    accuracy                           0.23      1266\n",
      "   macro avg       0.28      0.20      0.20      1266\n",
      "weighted avg       0.25      0.23      0.22      1266\n",
      "\n"
     ]
    }
   ],
   "source": [
    "# Evaluate on the test set\n",
    "Test_X = vectorizer.transform(ml_test_data['cleaned_statement_text'])\n",
    "Test_y = ml_test_data['encoded_label']\n",
    "Test_y_pred = svm_loaded.predict(Test_X)\n",
    "print(\"Test Set Accuracy:\", accuracy_score(Test_y, Test_y_pred))\n",
    "print(\"Test Set Classification Report:\\n\", classification_report(Test_y, Test_y_pred, target_names=label_encoder.classes_))\n"
   ]
  },
  {
   "cell_type": "markdown",
   "metadata": {
    "id": "lzzZAGyyeWdg"
   },
   "source": [
    "### Linear Regression"
   ]
  },
  {
   "cell_type": "code",
   "execution_count": 47,
   "metadata": {
    "id": "JZqngH6ueWdg"
   },
   "outputs": [],
   "source": [
    "from sklearn.linear_model import LogisticRegression\n",
    "\n",
    "log_reg = LogisticRegression(max_iter=1000, random_state=42)"
   ]
  },
  {
   "cell_type": "code",
   "execution_count": 48,
   "metadata": {
    "id": "PaoKJbgdeWdg",
    "outputId": "2eac014b-4196-4080-b7bc-9dd16841a99f",
    "colab": {
     "base_uri": "https://localhost:8080/",
     "height": 75
    }
   },
   "outputs": [
    {
     "output_type": "execute_result",
     "data": {
      "text/plain": [
       "LogisticRegression(max_iter=1000, random_state=42)"
      ],
      "text/html": [
       "<style>#sk-container-id-2 {color: black;}#sk-container-id-2 pre{padding: 0;}#sk-container-id-2 div.sk-toggleable {background-color: white;}#sk-container-id-2 label.sk-toggleable__label {cursor: pointer;display: block;width: 100%;margin-bottom: 0;padding: 0.3em;box-sizing: border-box;text-align: center;}#sk-container-id-2 label.sk-toggleable__label-arrow:before {content: \"▸\";float: left;margin-right: 0.25em;color: #696969;}#sk-container-id-2 label.sk-toggleable__label-arrow:hover:before {color: black;}#sk-container-id-2 div.sk-estimator:hover label.sk-toggleable__label-arrow:before {color: black;}#sk-container-id-2 div.sk-toggleable__content {max-height: 0;max-width: 0;overflow: hidden;text-align: left;background-color: #f0f8ff;}#sk-container-id-2 div.sk-toggleable__content pre {margin: 0.2em;color: black;border-radius: 0.25em;background-color: #f0f8ff;}#sk-container-id-2 input.sk-toggleable__control:checked~div.sk-toggleable__content {max-height: 200px;max-width: 100%;overflow: auto;}#sk-container-id-2 input.sk-toggleable__control:checked~label.sk-toggleable__label-arrow:before {content: \"▾\";}#sk-container-id-2 div.sk-estimator input.sk-toggleable__control:checked~label.sk-toggleable__label {background-color: #d4ebff;}#sk-container-id-2 div.sk-label input.sk-toggleable__control:checked~label.sk-toggleable__label {background-color: #d4ebff;}#sk-container-id-2 input.sk-hidden--visually {border: 0;clip: rect(1px 1px 1px 1px);clip: rect(1px, 1px, 1px, 1px);height: 1px;margin: -1px;overflow: hidden;padding: 0;position: absolute;width: 1px;}#sk-container-id-2 div.sk-estimator {font-family: monospace;background-color: #f0f8ff;border: 1px dotted black;border-radius: 0.25em;box-sizing: border-box;margin-bottom: 0.5em;}#sk-container-id-2 div.sk-estimator:hover {background-color: #d4ebff;}#sk-container-id-2 div.sk-parallel-item::after {content: \"\";width: 100%;border-bottom: 1px solid gray;flex-grow: 1;}#sk-container-id-2 div.sk-label:hover label.sk-toggleable__label {background-color: #d4ebff;}#sk-container-id-2 div.sk-serial::before {content: \"\";position: absolute;border-left: 1px solid gray;box-sizing: border-box;top: 0;bottom: 0;left: 50%;z-index: 0;}#sk-container-id-2 div.sk-serial {display: flex;flex-direction: column;align-items: center;background-color: white;padding-right: 0.2em;padding-left: 0.2em;position: relative;}#sk-container-id-2 div.sk-item {position: relative;z-index: 1;}#sk-container-id-2 div.sk-parallel {display: flex;align-items: stretch;justify-content: center;background-color: white;position: relative;}#sk-container-id-2 div.sk-item::before, #sk-container-id-2 div.sk-parallel-item::before {content: \"\";position: absolute;border-left: 1px solid gray;box-sizing: border-box;top: 0;bottom: 0;left: 50%;z-index: -1;}#sk-container-id-2 div.sk-parallel-item {display: flex;flex-direction: column;z-index: 1;position: relative;background-color: white;}#sk-container-id-2 div.sk-parallel-item:first-child::after {align-self: flex-end;width: 50%;}#sk-container-id-2 div.sk-parallel-item:last-child::after {align-self: flex-start;width: 50%;}#sk-container-id-2 div.sk-parallel-item:only-child::after {width: 0;}#sk-container-id-2 div.sk-dashed-wrapped {border: 1px dashed gray;margin: 0 0.4em 0.5em 0.4em;box-sizing: border-box;padding-bottom: 0.4em;background-color: white;}#sk-container-id-2 div.sk-label label {font-family: monospace;font-weight: bold;display: inline-block;line-height: 1.2em;}#sk-container-id-2 div.sk-label-container {text-align: center;}#sk-container-id-2 div.sk-container {/* jupyter's `normalize.less` sets `[hidden] { display: none; }` but bootstrap.min.css set `[hidden] { display: none !important; }` so we also need the `!important` here to be able to override the default hidden behavior on the sphinx rendered scikit-learn.org. See: https://github.com/scikit-learn/scikit-learn/issues/21755 */display: inline-block !important;position: relative;}#sk-container-id-2 div.sk-text-repr-fallback {display: none;}</style><div id=\"sk-container-id-2\" class=\"sk-top-container\"><div class=\"sk-text-repr-fallback\"><pre>LogisticRegression(max_iter=1000, random_state=42)</pre><b>In a Jupyter environment, please rerun this cell to show the HTML representation or trust the notebook. <br />On GitHub, the HTML representation is unable to render, please try loading this page with nbviewer.org.</b></div><div class=\"sk-container\" hidden><div class=\"sk-item\"><div class=\"sk-estimator sk-toggleable\"><input class=\"sk-toggleable__control sk-hidden--visually\" id=\"sk-estimator-id-2\" type=\"checkbox\" checked><label for=\"sk-estimator-id-2\" class=\"sk-toggleable__label sk-toggleable__label-arrow\">LogisticRegression</label><div class=\"sk-toggleable__content\"><pre>LogisticRegression(max_iter=1000, random_state=42)</pre></div></div></div></div></div>"
      ]
     },
     "metadata": {},
     "execution_count": 48
    }
   ],
   "source": [
    "log_reg.fit(X_train, y_train)"
   ]
  },
  {
   "cell_type": "code",
   "execution_count": 49,
   "metadata": {
    "id": "AOL-Y-ppeWdg",
    "outputId": "9af92545-02ee-4b32-fb22-1a5d7275abe7",
    "colab": {
     "base_uri": "https://localhost:8080/"
    }
   },
   "outputs": [
    {
     "output_type": "stream",
     "name": "stdout",
     "text": [
      "Validation Set Accuracy (LR): 0.22759158222915044\n",
      "Validation Set Classification Report (LR):\n",
      "               precision    recall  f1-score   support\n",
      "\n",
      " barely-true       0.19      0.14      0.16       236\n",
      "       false       0.27      0.35      0.30       263\n",
      "   half-true       0.21      0.26      0.23       248\n",
      " mostly-true       0.23      0.24      0.24       251\n",
      "  pants-fire       0.45      0.08      0.13       116\n",
      "        true       0.19      0.20      0.19       169\n",
      "\n",
      "    accuracy                           0.23      1283\n",
      "   macro avg       0.26      0.21      0.21      1283\n",
      "weighted avg       0.24      0.23      0.22      1283\n",
      "\n"
     ]
    }
   ],
   "source": [
    "# Evaluate on the validation set\n",
    "Valid_X = vectorizer.transform(ml_valid_data['cleaned_statement_text']) # Carefully use transform() not fit_transform() to avoid re-fit the words\n",
    "Valid_y = ml_valid_data['encoded_label']\n",
    "Valid_y_pred = log_reg.predict(Valid_X)\n",
    "print(\"Validation Set Accuracy (LR):\", accuracy_score(Valid_y, Valid_y_pred))\n",
    "print(\"Validation Set Classification Report (LR):\\n\", classification_report(Valid_y, Valid_y_pred, target_names=label_encoder.classes_))\n"
   ]
  },
  {
   "cell_type": "code",
   "execution_count": 50,
   "metadata": {
    "id": "D5Zrk48IeWdg",
    "outputId": "329a678b-609e-4f62-fe23-dfe1b74e2bea",
    "colab": {
     "base_uri": "https://localhost:8080/"
    }
   },
   "outputs": [
    {
     "output_type": "stream",
     "name": "stdout",
     "text": [
      "Test Set Accuracy (LR): 0.21958925750394945\n",
      "Test Set Classification Report (LR):\n",
      "               precision    recall  f1-score   support\n",
      "\n",
      " barely-true       0.22      0.16      0.18       212\n",
      "       false       0.26      0.29      0.27       249\n",
      "   half-true       0.22      0.29      0.25       265\n",
      " mostly-true       0.20      0.24      0.22       241\n",
      "  pants-fire       0.12      0.02      0.04        92\n",
      "        true       0.19      0.18      0.19       207\n",
      "\n",
      "    accuracy                           0.22      1266\n",
      "   macro avg       0.20      0.20      0.19      1266\n",
      "weighted avg       0.21      0.22      0.21      1266\n",
      "\n"
     ]
    }
   ],
   "source": [
    "Test_X = vectorizer.transform(ml_test_data['cleaned_statement_text'])\n",
    "Test_y = ml_test_data['encoded_label']\n",
    "Test_y_pred = log_reg.predict(Test_X)\n",
    "print(\"Test Set Accuracy (LR):\", accuracy_score(Test_y, Test_y_pred))\n",
    "print(\"Test Set Classification Report (LR):\\n\", classification_report(Test_y, Test_y_pred, target_names=label_encoder.classes_))"
   ]
  },
  {
   "cell_type": "markdown",
   "metadata": {
    "id": "j1RRL6KCeWdg"
   },
   "source": [
    "### Pre-Processing for DL"
   ]
  },
  {
   "cell_type": "code",
   "execution_count": 51,
   "metadata": {
    "id": "X-20DdqEeWdg"
   },
   "outputs": [],
   "source": [
    "import tensorflow as tf\n",
    "from tensorflow.keras.preprocessing.text import Tokenizer\n",
    "from tensorflow.keras.preprocessing.sequence import pad_sequences"
   ]
  },
  {
   "cell_type": "code",
   "execution_count": 52,
   "metadata": {
    "id": "GIhpLbeweWdg",
    "outputId": "444b5f66-4e2b-4a6e-c960-da6919dcba03",
    "colab": {
     "base_uri": "https://localhost:8080/"
    }
   },
   "outputs": [
    {
     "output_type": "stream",
     "name": "stdout",
     "text": [
      "Num GPUs Available:  1\n",
      "TensorFlow version: 2.17.0\n",
      "GPU is available\n",
      "1 Physical GPUs, 1 Logical GPUs\n"
     ]
    }
   ],
   "source": [
    "# !important run this on colab to enable GPU\n",
    "# Check if GPU is available\n",
    "print(\"Num GPUs Available: \", len(tf.config.experimental.list_physical_devices('GPU')))\n",
    "\n",
    "print(\"TensorFlow version:\", tf.__version__)\n",
    "print(\"GPU is\", \"available\" if tf.config.list_physical_devices('GPU') else \"NOT AVAILABLE\")\n",
    "\n",
    "gpus = tf.config.experimental.list_physical_devices('GPU')\n",
    "if gpus:\n",
    "    try:\n",
    "        for gpu in gpus:\n",
    "            tf.config.experimental.set_memory_growth(gpu, True)\n",
    "        logical_gpus = tf.config.experimental.list_logical_devices('GPU')\n",
    "        print(len(gpus), \"Physical GPUs,\", len(logical_gpus), \"Logical GPUs\")\n",
    "    except RuntimeError as e:\n",
    "        # Memory growth must be set before GPUs have been initialized\n",
    "        print(e)"
   ]
  },
  {
   "cell_type": "code",
   "execution_count": 53,
   "metadata": {
    "id": "Vm7-Xw8veWdh",
    "outputId": "c80ca297-c00b-4295-8e4a-2e0192dd1435",
    "colab": {
     "base_uri": "https://localhost:8080/"
    }
   },
   "outputs": [
    {
     "output_type": "stream",
     "name": "stdout",
     "text": [
      "12407 100\n"
     ]
    }
   ],
   "source": [
    "# Prepare tokenizer\n",
    "tokenizer = Tokenizer()\n",
    "tokenizer.fit_on_texts(ml_model_data['Statement'])\n",
    "\n",
    "# Use the Tokenizer's vocab size, which might differ from the Word2Vec vocab size\n",
    "tokenizer_vocab_size = len(tokenizer.word_index)\n",
    "embedding_dim = word2vec_model.vector_size\n",
    "\n",
    "print(tokenizer_vocab_size, embedding_dim)"
   ]
  },
  {
   "cell_type": "code",
   "execution_count": 54,
   "metadata": {
    "id": "_xtkQ8SheWdh",
    "outputId": "2906f19f-1a16-4182-b9ce-e72be1f03111",
    "colab": {
     "base_uri": "https://localhost:8080/"
    }
   },
   "outputs": [
    {
     "output_type": "stream",
     "name": "stdout",
     "text": [
      "12407 (12408, 100)\n"
     ]
    }
   ],
   "source": [
    "# Prepare the embedding matrix based on the tokenizer's vocab size\n",
    "embedding_matrix = np.zeros((tokenizer_vocab_size + 1, embedding_dim))\n",
    "\n",
    "print(tokenizer_vocab_size, embedding_matrix.shape)"
   ]
  },
  {
   "cell_type": "code",
   "execution_count": 55,
   "metadata": {
    "id": "Z0IVqyRjeWdh"
   },
   "outputs": [],
   "source": [
    "for word, i in tokenizer.word_index.items():\n",
    "    if i > tokenizer_vocab_size:\n",
    "        continue\n",
    "    if word in word2vec_model.wv:\n",
    "        embedding_matrix[i] = word2vec_model.wv[word]\n",
    "    else:\n",
    "        # Words not found in the Word2Vec model will remain as zero vectors\n",
    "        pass\n"
   ]
  },
  {
   "cell_type": "code",
   "execution_count": 56,
   "metadata": {
    "id": "zKw4t3KheWdh"
   },
   "outputs": [],
   "source": [
    "# Convert text to sequences of integers\n",
    "train_sequences = tokenizer.texts_to_sequences(ml_model_data['Statement'])\n",
    "valid_sequences = tokenizer.texts_to_sequences(ml_valid_data['Statement'])\n",
    "test_sequences = tokenizer.texts_to_sequences(ml_test_data['Statement'])"
   ]
  },
  {
   "cell_type": "code",
   "execution_count": 57,
   "metadata": {
    "id": "ABGMBXBEeWdh"
   },
   "outputs": [],
   "source": [
    "# Pad sequences to ensure they are all the same length\n",
    "max_length = max(len(seq) for seq in train_sequences)\n",
    "X_train = pad_sequences(train_sequences, maxlen=max_length, padding='post')\n",
    "X_valid = pad_sequences(valid_sequences, maxlen=max_length, padding='post')\n",
    "X_test = pad_sequences(test_sequences, maxlen=max_length, padding='post')\n",
    "\n",
    "# Encode labels (assuming label_encoder is already fitted)\n",
    "y_train = ml_model_data['encoded_label']\n",
    "y_valid = ml_valid_data['encoded_label']\n",
    "y_test = ml_test_data['encoded_label']"
   ]
  },
  {
   "cell_type": "markdown",
   "metadata": {
    "id": "yJOfTCTueWdh"
   },
   "source": [
    "### Bi-LSTMs"
   ]
  },
  {
   "cell_type": "code",
   "source": [
    "import numpy as np\n",
    "from tensorflow.keras.layers import Embedding, Bidirectional, LSTM, Dense, Dropout\n",
    "from tensorflow.keras.models import Sequential\n",
    "from tensorflow.keras.initializers import Constant\n",
    "import pickle\n"
   ],
   "metadata": {
    "id": "ahVk_A-_hTQY"
   },
   "execution_count": 58,
   "outputs": []
  },
  {
   "cell_type": "code",
   "source": [
    "class BiLSTMModel:\n",
    "    def __init__(self, vocab_size, embedding_dim, embedding_matrix, max_length, num_classes):\n",
    "        \"\"\"\n",
    "        Initializes the Bi-LSTM model.\n",
    "\n",
    "        Parameters:\n",
    "        \n",
    "        - vocab_size: Size of the vocabulary.\n",
    "        - embedding_dim: Dimension of the word embeddings.\n",
    "        - embedding_matrix: Pre-trained word embeddings.\n",
    "        - max_length: Maximum length of input sequences.\n",
    "        - num_classes: Number of classes for classification.\n",
    "            - len(label_encoder.classes_)\n",
    "        \n",
    "        \"\"\"\n",
    "        self.vocab_size = vocab_size\n",
    "        self.embedding_dim = embedding_dim\n",
    "        self.embedding_matrix = embedding_matrix\n",
    "        self.max_length = max_length\n",
    "        self.num_classes = num_classes\n",
    "        self.model = None\n",
    "        self.history = None\n",
    "\n",
    "    def build_model(self):\n",
    "        \"\"\"Builds the Bi-LSTM model architecture.\"\"\"\n",
    "        model = Sequential()\n",
    "        model.add(tf.keras.layers.Input(shape=(self.max_length,)))\n",
    "        model.add(Embedding(input_dim=self.vocab_size + 1,\n",
    "                            output_dim=self.embedding_dim,\n",
    "                            embeddings_initializer=Constant(self.embedding_matrix),\n",
    "                            trainable=False))\n",
    "        model.add(Bidirectional(LSTM(128, return_sequences=True)))\n",
    "        model.add(Dropout(0.5))\n",
    "        model.add(Bidirectional(LSTM(128)))\n",
    "        model.add(Dense(128, activation='relu'))\n",
    "        model.add(Dropout(0.5))\n",
    "        model.add(Dense(self.num_classes, activation='softmax'))\n",
    "\n",
    "        self.model = model\n",
    "        return self.model\n",
    "\n",
    "    def compile_model(self):\n",
    "        \"\"\"Compiles the Bi-LSTM model.\"\"\"\n",
    "        self.model.compile(optimizer='adam', loss='sparse_categorical_crossentropy', metrics=['accuracy'])\n",
    "        return self.model\n",
    "\n",
    "    def train_model(self, X_train, y_train, X_valid, y_valid, epochs=5, batch_size=64):\n",
    "        \"\"\"Trains the Bi-LSTM model.\"\"\"\n",
    "        self.history = self.model.fit(X_train, y_train,\n",
    "                                      epochs=epochs,\n",
    "                                      batch_size=batch_size,\n",
    "                                      validation_data=(X_valid, y_valid),\n",
    "                                      verbose=1)\n",
    "        return self.history\n",
    "\n",
    "    def save_model(self, model_path='./models/biLSTM_model.keras', history_path='./models/biLSTM_model_history.pkl'):\n",
    "        \"\"\"Saves the model and training history.\"\"\"\n",
    "        self.model.save(model_path)\n",
    "        with open(history_path, 'wb') as file_pi:\n",
    "            pickle.dump(self.history.history, file_pi)\n",
    "\n",
    "    def load_model(self, model_path='./models/biLSTM_model.keras', history_path='./models/biLSTM_model_history.pkl'):\n",
    "        \"\"\"Loads the model and training history.\"\"\"\n",
    "        self.model = tf.keras.models.load_model(model_path)\n",
    "        with open(history_path, 'rb') as file_pi:\n",
    "            self.history = pickle.load(file_pi)\n",
    "        return self.model, self.history\n",
    "\n",
    "    def evaluate_model(self, X_test, y_test):\n",
    "        \"\"\"Evaluates the model on the test data.\"\"\"\n",
    "        loss, accuracy = self.model.evaluate(X_test, y_test, verbose=0)\n",
    "        return loss, accuracy\n",
    "\n",
    "    def predict(self, X):\n",
    "        \"\"\"Makes predictions on the given input data.\"\"\"\n",
    "        return np.argmax(self.model.predict(X), axis=-1)\n",
    "\n",
    "    def summary(self):\n",
    "        \"\"\"Prints the model summary.\"\"\"\n",
    "        return self.model.summary()\n"
   ],
   "metadata": {
    "id": "xyLACQGchXTn"
   },
   "execution_count": 59,
   "outputs": []
  },
  {
   "cell_type": "code",
   "source": [
    "# Example usage:\n",
    "# Assuming vocab_size, embedding_dim, embedding_matrix, max_length, and num_classes are defined.\n",
    "\n",
    "# Initialize the model\n",
    "bi_lstm = BiLSTMModel(tokenizer_vocab_size, embedding_dim, embedding_matrix, max_length, len(label_encoder.classes_))\n",
    "\n",
    "# # Build the model\n",
    "# bi_lstm.build_model()\n",
    "\n",
    "# # Compile the model\n",
    "# bi_lstm.compile_model()\n",
    "\n",
    "# # Display the model summary\n",
    "# bi_lstm.summary()\n",
    "\n",
    "# # Train the model\n",
    "# bi_lstm.train_model(X_train, y_train, X_valid, y_valid, epochs=5, batch_size=64)\n",
    "\n",
    "# # Save the model and history\n",
    "# bi_lstm.save_model()\n",
    "\n"
   ],
   "metadata": {
    "colab": {
     "base_uri": "https://localhost:8080/",
     "height": 542
    },
    "id": "WsX8ecfXhZcJ",
    "outputId": "c223b611-961b-47aa-d47f-aa649be5fc20"
   },
   "execution_count": 60,
   "outputs": [
    {
     "output_type": "display_data",
     "data": {
      "text/plain": [
       "\u001B[1mModel: \"sequential\"\u001B[0m\n"
      ],
      "text/html": [
       "<pre style=\"white-space:pre;overflow-x:auto;line-height:normal;font-family:Menlo,'DejaVu Sans Mono',consolas,'Courier New',monospace\"><span style=\"font-weight: bold\">Model: \"sequential\"</span>\n",
       "</pre>\n"
      ]
     },
     "metadata": {}
    },
    {
     "output_type": "display_data",
     "data": {
      "text/plain": [
       "┏━━━━━━━━━━━━━━━━━━━━━━━━━━━━━━━━━━━━━━┳━━━━━━━━━━━━━━━━━━━━━━━━━━━━━┳━━━━━━━━━━━━━━━━━┓\n",
       "┃\u001B[1m \u001B[0m\u001B[1mLayer (type)                        \u001B[0m\u001B[1m \u001B[0m┃\u001B[1m \u001B[0m\u001B[1mOutput Shape               \u001B[0m\u001B[1m \u001B[0m┃\u001B[1m \u001B[0m\u001B[1m        Param #\u001B[0m\u001B[1m \u001B[0m┃\n",
       "┡━━━━━━━━━━━━━━━━━━━━━━━━━━━━━━━━━━━━━━╇━━━━━━━━━━━━━━━━━━━━━━━━━━━━━╇━━━━━━━━━━━━━━━━━┩\n",
       "│ embedding (\u001B[38;5;33mEmbedding\u001B[0m)                │ (\u001B[38;5;45mNone\u001B[0m, \u001B[38;5;34m540\u001B[0m, \u001B[38;5;34m100\u001B[0m)            │       \u001B[38;5;34m1,240,800\u001B[0m │\n",
       "├──────────────────────────────────────┼─────────────────────────────┼─────────────────┤\n",
       "│ bidirectional (\u001B[38;5;33mBidirectional\u001B[0m)        │ (\u001B[38;5;45mNone\u001B[0m, \u001B[38;5;34m540\u001B[0m, \u001B[38;5;34m256\u001B[0m)            │         \u001B[38;5;34m234,496\u001B[0m │\n",
       "├──────────────────────────────────────┼─────────────────────────────┼─────────────────┤\n",
       "│ dropout (\u001B[38;5;33mDropout\u001B[0m)                    │ (\u001B[38;5;45mNone\u001B[0m, \u001B[38;5;34m540\u001B[0m, \u001B[38;5;34m256\u001B[0m)            │               \u001B[38;5;34m0\u001B[0m │\n",
       "├──────────────────────────────────────┼─────────────────────────────┼─────────────────┤\n",
       "│ bidirectional_1 (\u001B[38;5;33mBidirectional\u001B[0m)      │ (\u001B[38;5;45mNone\u001B[0m, \u001B[38;5;34m256\u001B[0m)                 │         \u001B[38;5;34m394,240\u001B[0m │\n",
       "├──────────────────────────────────────┼─────────────────────────────┼─────────────────┤\n",
       "│ dense (\u001B[38;5;33mDense\u001B[0m)                        │ (\u001B[38;5;45mNone\u001B[0m, \u001B[38;5;34m128\u001B[0m)                 │          \u001B[38;5;34m32,896\u001B[0m │\n",
       "├──────────────────────────────────────┼─────────────────────────────┼─────────────────┤\n",
       "│ dropout_1 (\u001B[38;5;33mDropout\u001B[0m)                  │ (\u001B[38;5;45mNone\u001B[0m, \u001B[38;5;34m128\u001B[0m)                 │               \u001B[38;5;34m0\u001B[0m │\n",
       "├──────────────────────────────────────┼─────────────────────────────┼─────────────────┤\n",
       "│ dense_1 (\u001B[38;5;33mDense\u001B[0m)                      │ (\u001B[38;5;45mNone\u001B[0m, \u001B[38;5;34m6\u001B[0m)                   │             \u001B[38;5;34m774\u001B[0m │\n",
       "└──────────────────────────────────────┴─────────────────────────────┴─────────────────┘\n"
      ],
      "text/html": [
       "<pre style=\"white-space:pre;overflow-x:auto;line-height:normal;font-family:Menlo,'DejaVu Sans Mono',consolas,'Courier New',monospace\">┏━━━━━━━━━━━━━━━━━━━━━━━━━━━━━━━━━━━━━━┳━━━━━━━━━━━━━━━━━━━━━━━━━━━━━┳━━━━━━━━━━━━━━━━━┓\n",
       "┃<span style=\"font-weight: bold\"> Layer (type)                         </span>┃<span style=\"font-weight: bold\"> Output Shape                </span>┃<span style=\"font-weight: bold\">         Param # </span>┃\n",
       "┡━━━━━━━━━━━━━━━━━━━━━━━━━━━━━━━━━━━━━━╇━━━━━━━━━━━━━━━━━━━━━━━━━━━━━╇━━━━━━━━━━━━━━━━━┩\n",
       "│ embedding (<span style=\"color: #0087ff; text-decoration-color: #0087ff\">Embedding</span>)                │ (<span style=\"color: #00d7ff; text-decoration-color: #00d7ff\">None</span>, <span style=\"color: #00af00; text-decoration-color: #00af00\">540</span>, <span style=\"color: #00af00; text-decoration-color: #00af00\">100</span>)            │       <span style=\"color: #00af00; text-decoration-color: #00af00\">1,240,800</span> │\n",
       "├──────────────────────────────────────┼─────────────────────────────┼─────────────────┤\n",
       "│ bidirectional (<span style=\"color: #0087ff; text-decoration-color: #0087ff\">Bidirectional</span>)        │ (<span style=\"color: #00d7ff; text-decoration-color: #00d7ff\">None</span>, <span style=\"color: #00af00; text-decoration-color: #00af00\">540</span>, <span style=\"color: #00af00; text-decoration-color: #00af00\">256</span>)            │         <span style=\"color: #00af00; text-decoration-color: #00af00\">234,496</span> │\n",
       "├──────────────────────────────────────┼─────────────────────────────┼─────────────────┤\n",
       "│ dropout (<span style=\"color: #0087ff; text-decoration-color: #0087ff\">Dropout</span>)                    │ (<span style=\"color: #00d7ff; text-decoration-color: #00d7ff\">None</span>, <span style=\"color: #00af00; text-decoration-color: #00af00\">540</span>, <span style=\"color: #00af00; text-decoration-color: #00af00\">256</span>)            │               <span style=\"color: #00af00; text-decoration-color: #00af00\">0</span> │\n",
       "├──────────────────────────────────────┼─────────────────────────────┼─────────────────┤\n",
       "│ bidirectional_1 (<span style=\"color: #0087ff; text-decoration-color: #0087ff\">Bidirectional</span>)      │ (<span style=\"color: #00d7ff; text-decoration-color: #00d7ff\">None</span>, <span style=\"color: #00af00; text-decoration-color: #00af00\">256</span>)                 │         <span style=\"color: #00af00; text-decoration-color: #00af00\">394,240</span> │\n",
       "├──────────────────────────────────────┼─────────────────────────────┼─────────────────┤\n",
       "│ dense (<span style=\"color: #0087ff; text-decoration-color: #0087ff\">Dense</span>)                        │ (<span style=\"color: #00d7ff; text-decoration-color: #00d7ff\">None</span>, <span style=\"color: #00af00; text-decoration-color: #00af00\">128</span>)                 │          <span style=\"color: #00af00; text-decoration-color: #00af00\">32,896</span> │\n",
       "├──────────────────────────────────────┼─────────────────────────────┼─────────────────┤\n",
       "│ dropout_1 (<span style=\"color: #0087ff; text-decoration-color: #0087ff\">Dropout</span>)                  │ (<span style=\"color: #00d7ff; text-decoration-color: #00d7ff\">None</span>, <span style=\"color: #00af00; text-decoration-color: #00af00\">128</span>)                 │               <span style=\"color: #00af00; text-decoration-color: #00af00\">0</span> │\n",
       "├──────────────────────────────────────┼─────────────────────────────┼─────────────────┤\n",
       "│ dense_1 (<span style=\"color: #0087ff; text-decoration-color: #0087ff\">Dense</span>)                      │ (<span style=\"color: #00d7ff; text-decoration-color: #00d7ff\">None</span>, <span style=\"color: #00af00; text-decoration-color: #00af00\">6</span>)                   │             <span style=\"color: #00af00; text-decoration-color: #00af00\">774</span> │\n",
       "└──────────────────────────────────────┴─────────────────────────────┴─────────────────┘\n",
       "</pre>\n"
      ]
     },
     "metadata": {}
    },
    {
     "output_type": "display_data",
     "data": {
      "text/plain": [
       "\u001B[1m Total params: \u001B[0m\u001B[38;5;34m1,903,206\u001B[0m (7.26 MB)\n"
      ],
      "text/html": [
       "<pre style=\"white-space:pre;overflow-x:auto;line-height:normal;font-family:Menlo,'DejaVu Sans Mono',consolas,'Courier New',monospace\"><span style=\"font-weight: bold\"> Total params: </span><span style=\"color: #00af00; text-decoration-color: #00af00\">1,903,206</span> (7.26 MB)\n",
       "</pre>\n"
      ]
     },
     "metadata": {}
    },
    {
     "output_type": "display_data",
     "data": {
      "text/plain": [
       "\u001B[1m Trainable params: \u001B[0m\u001B[38;5;34m662,406\u001B[0m (2.53 MB)\n"
      ],
      "text/html": [
       "<pre style=\"white-space:pre;overflow-x:auto;line-height:normal;font-family:Menlo,'DejaVu Sans Mono',consolas,'Courier New',monospace\"><span style=\"font-weight: bold\"> Trainable params: </span><span style=\"color: #00af00; text-decoration-color: #00af00\">662,406</span> (2.53 MB)\n",
       "</pre>\n"
      ]
     },
     "metadata": {}
    },
    {
     "output_type": "display_data",
     "data": {
      "text/plain": [
       "\u001B[1m Non-trainable params: \u001B[0m\u001B[38;5;34m1,240,800\u001B[0m (4.73 MB)\n"
      ],
      "text/html": [
       "<pre style=\"white-space:pre;overflow-x:auto;line-height:normal;font-family:Menlo,'DejaVu Sans Mono',consolas,'Courier New',monospace\"><span style=\"font-weight: bold\"> Non-trainable params: </span><span style=\"color: #00af00; text-decoration-color: #00af00\">1,240,800</span> (4.73 MB)\n",
       "</pre>\n"
      ]
     },
     "metadata": {}
    },
    {
     "output_type": "stream",
     "name": "stdout",
     "text": [
      "Epoch 1/5\n",
      "\u001B[1m160/160\u001B[0m \u001B[32m━━━━━━━━━━━━━━━━━━━━\u001B[0m\u001B[37m\u001B[0m \u001B[1m17s\u001B[0m 71ms/step - accuracy: 0.2089 - loss: 1.7627 - val_accuracy: 0.2299 - val_loss: 1.7427\n",
      "Epoch 2/5\n",
      "\u001B[1m160/160\u001B[0m \u001B[32m━━━━━━━━━━━━━━━━━━━━\u001B[0m\u001B[37m\u001B[0m \u001B[1m11s\u001B[0m 68ms/step - accuracy: 0.2102 - loss: 1.7422 - val_accuracy: 0.2362 - val_loss: 1.7390\n",
      "Epoch 3/5\n",
      "\u001B[1m160/160\u001B[0m \u001B[32m━━━━━━━━━━━━━━━━━━━━\u001B[0m\u001B[37m\u001B[0m \u001B[1m11s\u001B[0m 68ms/step - accuracy: 0.2216 - loss: 1.7427 - val_accuracy: 0.2385 - val_loss: 1.7295\n",
      "Epoch 4/5\n",
      "\u001B[1m160/160\u001B[0m \u001B[32m━━━━━━━━━━━━━━━━━━━━\u001B[0m\u001B[37m\u001B[0m \u001B[1m11s\u001B[0m 68ms/step - accuracy: 0.2367 - loss: 1.7337 - val_accuracy: 0.2330 - val_loss: 1.7231\n",
      "Epoch 5/5\n",
      "\u001B[1m160/160\u001B[0m \u001B[32m━━━━━━━━━━━━━━━━━━━━\u001B[0m\u001B[37m\u001B[0m \u001B[1m11s\u001B[0m 67ms/step - accuracy: 0.2259 - loss: 1.7318 - val_accuracy: 0.2455 - val_loss: 1.7227\n"
     ]
    }
   ]
  },
  {
   "cell_type": "code",
   "source": [
    "# Later, load the model and history\n",
    "bi_lstm.load_model()\n",
    "\n",
    "# Evaluate the model\n",
    "test_loss, test_accuracy = bi_lstm.evaluate_model(X_test, y_test)\n",
    "print(f'Test Accuracy: {test_accuracy:.4f}')\n",
    "\n",
    "# Make predictions\n",
    "predictions = bi_lstm.predict(X_test)\n"
   ],
   "metadata": {
    "colab": {
     "base_uri": "https://localhost:8080/"
    },
    "id": "dnM_w_Y0igRW",
    "outputId": "01bb6c9c-9835-4a49-8de5-8ea05fe8632a"
   },
   "execution_count": 65,
   "outputs": [
    {
     "output_type": "stream",
     "name": "stdout",
     "text": [
      "Test Accuracy: 0.2354\n",
      "\u001B[1m40/40\u001B[0m \u001B[32m━━━━━━━━━━━━━━━━━━━━\u001B[0m\u001B[37m\u001B[0m \u001B[1m2s\u001B[0m 43ms/step\n"
     ]
    }
   ]
  },
  {
   "cell_type": "code",
   "source": [
    "# Predict on the test set\n",
    "y_test_pred = bi_lstm.predict(X_test)\n",
    "\n",
    "# Generate classification report\n",
    "print(\"Test Set Classification Report:\\n\", classification_report(y_test, y_test_pred, target_names=label_encoder.classes_))"
   ],
   "metadata": {
    "colab": {
     "base_uri": "https://localhost:8080/"
    },
    "id": "RqDv760PkYGn",
    "outputId": "f8affc61-c27c-4c9c-a351-8db260f78aab"
   },
   "execution_count": 66,
   "outputs": [
    {
     "output_type": "stream",
     "name": "stdout",
     "text": [
      "\u001B[1m40/40\u001B[0m \u001B[32m━━━━━━━━━━━━━━━━━━━━\u001B[0m\u001B[37m\u001B[0m \u001B[1m1s\u001B[0m 26ms/step\n",
      "Test Set Classification Report:\n",
      "               precision    recall  f1-score   support\n",
      "\n",
      " barely-true       1.00      0.00      0.01       212\n",
      "       false       0.23      0.63      0.33       249\n",
      "   half-true       0.24      0.26      0.25       265\n",
      " mostly-true       0.25      0.30      0.27       241\n",
      "  pants-fire       0.00      0.00      0.00        92\n",
      "        true       0.00      0.00      0.00       207\n",
      "\n",
      "    accuracy                           0.24      1266\n",
      "   macro avg       0.29      0.20      0.14      1266\n",
      "weighted avg       0.31      0.24      0.17      1266\n",
      "\n"
     ]
    },
    {
     "output_type": "stream",
     "name": "stderr",
     "text": [
      "/usr/local/lib/python3.10/dist-packages/sklearn/metrics/_classification.py:1471: UndefinedMetricWarning: Precision and F-score are ill-defined and being set to 0.0 in labels with no predicted samples. Use `zero_division` parameter to control this behavior.\n",
      "  _warn_prf(average, modifier, msg_start, len(result))\n",
      "/usr/local/lib/python3.10/dist-packages/sklearn/metrics/_classification.py:1471: UndefinedMetricWarning: Precision and F-score are ill-defined and being set to 0.0 in labels with no predicted samples. Use `zero_division` parameter to control this behavior.\n",
      "  _warn_prf(average, modifier, msg_start, len(result))\n",
      "/usr/local/lib/python3.10/dist-packages/sklearn/metrics/_classification.py:1471: UndefinedMetricWarning: Precision and F-score are ill-defined and being set to 0.0 in labels with no predicted samples. Use `zero_division` parameter to control this behavior.\n",
      "  _warn_prf(average, modifier, msg_start, len(result))\n"
     ]
    }
   ]
  },
  {
   "cell_type": "code",
   "source": [],
   "metadata": {
    "id": "jAfHANltkWGN"
   },
   "execution_count": null,
   "outputs": []
  },
  {
   "cell_type": "markdown",
   "metadata": {
    "id": "rFYSfqaseWdh"
   },
   "source": [
    "### CNNs"
   ]
  },
  {
   "cell_type": "code",
   "execution_count": null,
   "metadata": {
    "id": "ybL07Sf9eWdi"
   },
   "outputs": [],
   "source": []
  },
  {
   "cell_type": "markdown",
   "metadata": {
    "id": "biRHUldIeWdi"
   },
   "source": [
    "## Transformer Model"
   ]
  },
  {
   "cell_type": "code",
   "execution_count": null,
   "metadata": {
    "id": "uccpjHo0eWdi"
   },
   "outputs": [],
   "source": []
  }
 ],
 "metadata": {
  "kernelspec": {
   "display_name": "Python 3",
   "name": "python3"
  },
  "language_info": {
   "codemirror_mode": {
    "name": "ipython",
    "version": 3
   },
   "file_extension": ".py",
   "mimetype": "text/x-python",
   "name": "python",
   "nbconvert_exporter": "python",
   "pygments_lexer": "ipython3",
   "version": "3.10.14"
  },
  "colab": {
   "provenance": [],
   "machine_shape": "hm",
   "gpuType": "A100"
  },
  "accelerator": "GPU",
  "widgets": {
   "application/vnd.jupyter.widget-state+json": {
    "e18d03717b354620946cd5d6742bf976": {
     "model_module": "@jupyter-widgets/controls",
     "model_name": "HBoxModel",
     "model_module_version": "1.5.0",
     "state": {
      "_dom_classes": [],
      "_model_module": "@jupyter-widgets/controls",
      "_model_module_version": "1.5.0",
      "_model_name": "HBoxModel",
      "_view_count": null,
      "_view_module": "@jupyter-widgets/controls",
      "_view_module_version": "1.5.0",
      "_view_name": "HBoxView",
      "box_style": "",
      "children": [
       "IPY_MODEL_6b8d482e378c4a448a029297e04ee79a",
       "IPY_MODEL_74f8d057ec83486e81b85a1cd65b187c",
       "IPY_MODEL_b979af53113344f394314fcc276644a0"
      ],
      "layout": "IPY_MODEL_081bf948c62a4708a6ad1d7de8c21276"
     }
    },
    "6b8d482e378c4a448a029297e04ee79a": {
     "model_module": "@jupyter-widgets/controls",
     "model_name": "HTMLModel",
     "model_module_version": "1.5.0",
     "state": {
      "_dom_classes": [],
      "_model_module": "@jupyter-widgets/controls",
      "_model_module_version": "1.5.0",
      "_model_name": "HTMLModel",
      "_view_count": null,
      "_view_module": "@jupyter-widgets/controls",
      "_view_module_version": "1.5.0",
      "_view_name": "HTMLView",
      "description": "",
      "description_tooltip": null,
      "layout": "IPY_MODEL_d196fc3acefc4811a74d1aa985c22310",
      "placeholder": "​",
      "style": "IPY_MODEL_51b59138588346f6a28adba21fbd9dea",
      "value": "tokenizer_config.json: 100%"
     }
    },
    "74f8d057ec83486e81b85a1cd65b187c": {
     "model_module": "@jupyter-widgets/controls",
     "model_name": "FloatProgressModel",
     "model_module_version": "1.5.0",
     "state": {
      "_dom_classes": [],
      "_model_module": "@jupyter-widgets/controls",
      "_model_module_version": "1.5.0",
      "_model_name": "FloatProgressModel",
      "_view_count": null,
      "_view_module": "@jupyter-widgets/controls",
      "_view_module_version": "1.5.0",
      "_view_name": "ProgressView",
      "bar_style": "success",
      "description": "",
      "description_tooltip": null,
      "layout": "IPY_MODEL_caa476d29f754824aec3405b6b0f3cdb",
      "max": 48,
      "min": 0,
      "orientation": "horizontal",
      "style": "IPY_MODEL_6d34bc05958b4241b7efd4b7fbdcd56e",
      "value": 48
     }
    },
    "b979af53113344f394314fcc276644a0": {
     "model_module": "@jupyter-widgets/controls",
     "model_name": "HTMLModel",
     "model_module_version": "1.5.0",
     "state": {
      "_dom_classes": [],
      "_model_module": "@jupyter-widgets/controls",
      "_model_module_version": "1.5.0",
      "_model_name": "HTMLModel",
      "_view_count": null,
      "_view_module": "@jupyter-widgets/controls",
      "_view_module_version": "1.5.0",
      "_view_name": "HTMLView",
      "description": "",
      "description_tooltip": null,
      "layout": "IPY_MODEL_391b5d01d46e4c17a215ccc9587196a6",
      "placeholder": "​",
      "style": "IPY_MODEL_205be89b75574241bf2361d2f3649eff",
      "value": " 48.0/48.0 [00:00&lt;00:00, 3.14kB/s]"
     }
    },
    "081bf948c62a4708a6ad1d7de8c21276": {
     "model_module": "@jupyter-widgets/base",
     "model_name": "LayoutModel",
     "model_module_version": "1.2.0",
     "state": {
      "_model_module": "@jupyter-widgets/base",
      "_model_module_version": "1.2.0",
      "_model_name": "LayoutModel",
      "_view_count": null,
      "_view_module": "@jupyter-widgets/base",
      "_view_module_version": "1.2.0",
      "_view_name": "LayoutView",
      "align_content": null,
      "align_items": null,
      "align_self": null,
      "border": null,
      "bottom": null,
      "display": null,
      "flex": null,
      "flex_flow": null,
      "grid_area": null,
      "grid_auto_columns": null,
      "grid_auto_flow": null,
      "grid_auto_rows": null,
      "grid_column": null,
      "grid_gap": null,
      "grid_row": null,
      "grid_template_areas": null,
      "grid_template_columns": null,
      "grid_template_rows": null,
      "height": null,
      "justify_content": null,
      "justify_items": null,
      "left": null,
      "margin": null,
      "max_height": null,
      "max_width": null,
      "min_height": null,
      "min_width": null,
      "object_fit": null,
      "object_position": null,
      "order": null,
      "overflow": null,
      "overflow_x": null,
      "overflow_y": null,
      "padding": null,
      "right": null,
      "top": null,
      "visibility": null,
      "width": null
     }
    },
    "d196fc3acefc4811a74d1aa985c22310": {
     "model_module": "@jupyter-widgets/base",
     "model_name": "LayoutModel",
     "model_module_version": "1.2.0",
     "state": {
      "_model_module": "@jupyter-widgets/base",
      "_model_module_version": "1.2.0",
      "_model_name": "LayoutModel",
      "_view_count": null,
      "_view_module": "@jupyter-widgets/base",
      "_view_module_version": "1.2.0",
      "_view_name": "LayoutView",
      "align_content": null,
      "align_items": null,
      "align_self": null,
      "border": null,
      "bottom": null,
      "display": null,
      "flex": null,
      "flex_flow": null,
      "grid_area": null,
      "grid_auto_columns": null,
      "grid_auto_flow": null,
      "grid_auto_rows": null,
      "grid_column": null,
      "grid_gap": null,
      "grid_row": null,
      "grid_template_areas": null,
      "grid_template_columns": null,
      "grid_template_rows": null,
      "height": null,
      "justify_content": null,
      "justify_items": null,
      "left": null,
      "margin": null,
      "max_height": null,
      "max_width": null,
      "min_height": null,
      "min_width": null,
      "object_fit": null,
      "object_position": null,
      "order": null,
      "overflow": null,
      "overflow_x": null,
      "overflow_y": null,
      "padding": null,
      "right": null,
      "top": null,
      "visibility": null,
      "width": null
     }
    },
    "51b59138588346f6a28adba21fbd9dea": {
     "model_module": "@jupyter-widgets/controls",
     "model_name": "DescriptionStyleModel",
     "model_module_version": "1.5.0",
     "state": {
      "_model_module": "@jupyter-widgets/controls",
      "_model_module_version": "1.5.0",
      "_model_name": "DescriptionStyleModel",
      "_view_count": null,
      "_view_module": "@jupyter-widgets/base",
      "_view_module_version": "1.2.0",
      "_view_name": "StyleView",
      "description_width": ""
     }
    },
    "caa476d29f754824aec3405b6b0f3cdb": {
     "model_module": "@jupyter-widgets/base",
     "model_name": "LayoutModel",
     "model_module_version": "1.2.0",
     "state": {
      "_model_module": "@jupyter-widgets/base",
      "_model_module_version": "1.2.0",
      "_model_name": "LayoutModel",
      "_view_count": null,
      "_view_module": "@jupyter-widgets/base",
      "_view_module_version": "1.2.0",
      "_view_name": "LayoutView",
      "align_content": null,
      "align_items": null,
      "align_self": null,
      "border": null,
      "bottom": null,
      "display": null,
      "flex": null,
      "flex_flow": null,
      "grid_area": null,
      "grid_auto_columns": null,
      "grid_auto_flow": null,
      "grid_auto_rows": null,
      "grid_column": null,
      "grid_gap": null,
      "grid_row": null,
      "grid_template_areas": null,
      "grid_template_columns": null,
      "grid_template_rows": null,
      "height": null,
      "justify_content": null,
      "justify_items": null,
      "left": null,
      "margin": null,
      "max_height": null,
      "max_width": null,
      "min_height": null,
      "min_width": null,
      "object_fit": null,
      "object_position": null,
      "order": null,
      "overflow": null,
      "overflow_x": null,
      "overflow_y": null,
      "padding": null,
      "right": null,
      "top": null,
      "visibility": null,
      "width": null
     }
    },
    "6d34bc05958b4241b7efd4b7fbdcd56e": {
     "model_module": "@jupyter-widgets/controls",
     "model_name": "ProgressStyleModel",
     "model_module_version": "1.5.0",
     "state": {
      "_model_module": "@jupyter-widgets/controls",
      "_model_module_version": "1.5.0",
      "_model_name": "ProgressStyleModel",
      "_view_count": null,
      "_view_module": "@jupyter-widgets/base",
      "_view_module_version": "1.2.0",
      "_view_name": "StyleView",
      "bar_color": null,
      "description_width": ""
     }
    },
    "391b5d01d46e4c17a215ccc9587196a6": {
     "model_module": "@jupyter-widgets/base",
     "model_name": "LayoutModel",
     "model_module_version": "1.2.0",
     "state": {
      "_model_module": "@jupyter-widgets/base",
      "_model_module_version": "1.2.0",
      "_model_name": "LayoutModel",
      "_view_count": null,
      "_view_module": "@jupyter-widgets/base",
      "_view_module_version": "1.2.0",
      "_view_name": "LayoutView",
      "align_content": null,
      "align_items": null,
      "align_self": null,
      "border": null,
      "bottom": null,
      "display": null,
      "flex": null,
      "flex_flow": null,
      "grid_area": null,
      "grid_auto_columns": null,
      "grid_auto_flow": null,
      "grid_auto_rows": null,
      "grid_column": null,
      "grid_gap": null,
      "grid_row": null,
      "grid_template_areas": null,
      "grid_template_columns": null,
      "grid_template_rows": null,
      "height": null,
      "justify_content": null,
      "justify_items": null,
      "left": null,
      "margin": null,
      "max_height": null,
      "max_width": null,
      "min_height": null,
      "min_width": null,
      "object_fit": null,
      "object_position": null,
      "order": null,
      "overflow": null,
      "overflow_x": null,
      "overflow_y": null,
      "padding": null,
      "right": null,
      "top": null,
      "visibility": null,
      "width": null
     }
    },
    "205be89b75574241bf2361d2f3649eff": {
     "model_module": "@jupyter-widgets/controls",
     "model_name": "DescriptionStyleModel",
     "model_module_version": "1.5.0",
     "state": {
      "_model_module": "@jupyter-widgets/controls",
      "_model_module_version": "1.5.0",
      "_model_name": "DescriptionStyleModel",
      "_view_count": null,
      "_view_module": "@jupyter-widgets/base",
      "_view_module_version": "1.2.0",
      "_view_name": "StyleView",
      "description_width": ""
     }
    },
    "94c965ba3214400cb005b9a48cc259eb": {
     "model_module": "@jupyter-widgets/controls",
     "model_name": "HBoxModel",
     "model_module_version": "1.5.0",
     "state": {
      "_dom_classes": [],
      "_model_module": "@jupyter-widgets/controls",
      "_model_module_version": "1.5.0",
      "_model_name": "HBoxModel",
      "_view_count": null,
      "_view_module": "@jupyter-widgets/controls",
      "_view_module_version": "1.5.0",
      "_view_name": "HBoxView",
      "box_style": "",
      "children": [
       "IPY_MODEL_79e8269c490245388f1c3ceba0de8327",
       "IPY_MODEL_6596861d3f1b4e7a9d5de2fdbd04b701",
       "IPY_MODEL_9d6b279d37314f82ba894dede7845a87"
      ],
      "layout": "IPY_MODEL_a8145ff746ac4339bf17535fbe8b9b1a"
     }
    },
    "79e8269c490245388f1c3ceba0de8327": {
     "model_module": "@jupyter-widgets/controls",
     "model_name": "HTMLModel",
     "model_module_version": "1.5.0",
     "state": {
      "_dom_classes": [],
      "_model_module": "@jupyter-widgets/controls",
      "_model_module_version": "1.5.0",
      "_model_name": "HTMLModel",
      "_view_count": null,
      "_view_module": "@jupyter-widgets/controls",
      "_view_module_version": "1.5.0",
      "_view_name": "HTMLView",
      "description": "",
      "description_tooltip": null,
      "layout": "IPY_MODEL_572c6cbbb1224c7da1c27aca4c06ff94",
      "placeholder": "​",
      "style": "IPY_MODEL_2c3afbfa023543c198b67eeb7406d386",
      "value": "vocab.txt: 100%"
     }
    },
    "6596861d3f1b4e7a9d5de2fdbd04b701": {
     "model_module": "@jupyter-widgets/controls",
     "model_name": "FloatProgressModel",
     "model_module_version": "1.5.0",
     "state": {
      "_dom_classes": [],
      "_model_module": "@jupyter-widgets/controls",
      "_model_module_version": "1.5.0",
      "_model_name": "FloatProgressModel",
      "_view_count": null,
      "_view_module": "@jupyter-widgets/controls",
      "_view_module_version": "1.5.0",
      "_view_name": "ProgressView",
      "bar_style": "success",
      "description": "",
      "description_tooltip": null,
      "layout": "IPY_MODEL_0007a1053cdb48319641cba91648d84f",
      "max": 231508,
      "min": 0,
      "orientation": "horizontal",
      "style": "IPY_MODEL_fb9ea4e3395b4deab25fb9b83e4cadac",
      "value": 231508
     }
    },
    "9d6b279d37314f82ba894dede7845a87": {
     "model_module": "@jupyter-widgets/controls",
     "model_name": "HTMLModel",
     "model_module_version": "1.5.0",
     "state": {
      "_dom_classes": [],
      "_model_module": "@jupyter-widgets/controls",
      "_model_module_version": "1.5.0",
      "_model_name": "HTMLModel",
      "_view_count": null,
      "_view_module": "@jupyter-widgets/controls",
      "_view_module_version": "1.5.0",
      "_view_name": "HTMLView",
      "description": "",
      "description_tooltip": null,
      "layout": "IPY_MODEL_d71a8ba05b854dd68f75e12753b748e4",
      "placeholder": "​",
      "style": "IPY_MODEL_379d1211b6e74ce3bf1db0a9fe1ef917",
      "value": " 232k/232k [00:00&lt;00:00, 533kB/s]"
     }
    },
    "a8145ff746ac4339bf17535fbe8b9b1a": {
     "model_module": "@jupyter-widgets/base",
     "model_name": "LayoutModel",
     "model_module_version": "1.2.0",
     "state": {
      "_model_module": "@jupyter-widgets/base",
      "_model_module_version": "1.2.0",
      "_model_name": "LayoutModel",
      "_view_count": null,
      "_view_module": "@jupyter-widgets/base",
      "_view_module_version": "1.2.0",
      "_view_name": "LayoutView",
      "align_content": null,
      "align_items": null,
      "align_self": null,
      "border": null,
      "bottom": null,
      "display": null,
      "flex": null,
      "flex_flow": null,
      "grid_area": null,
      "grid_auto_columns": null,
      "grid_auto_flow": null,
      "grid_auto_rows": null,
      "grid_column": null,
      "grid_gap": null,
      "grid_row": null,
      "grid_template_areas": null,
      "grid_template_columns": null,
      "grid_template_rows": null,
      "height": null,
      "justify_content": null,
      "justify_items": null,
      "left": null,
      "margin": null,
      "max_height": null,
      "max_width": null,
      "min_height": null,
      "min_width": null,
      "object_fit": null,
      "object_position": null,
      "order": null,
      "overflow": null,
      "overflow_x": null,
      "overflow_y": null,
      "padding": null,
      "right": null,
      "top": null,
      "visibility": null,
      "width": null
     }
    },
    "572c6cbbb1224c7da1c27aca4c06ff94": {
     "model_module": "@jupyter-widgets/base",
     "model_name": "LayoutModel",
     "model_module_version": "1.2.0",
     "state": {
      "_model_module": "@jupyter-widgets/base",
      "_model_module_version": "1.2.0",
      "_model_name": "LayoutModel",
      "_view_count": null,
      "_view_module": "@jupyter-widgets/base",
      "_view_module_version": "1.2.0",
      "_view_name": "LayoutView",
      "align_content": null,
      "align_items": null,
      "align_self": null,
      "border": null,
      "bottom": null,
      "display": null,
      "flex": null,
      "flex_flow": null,
      "grid_area": null,
      "grid_auto_columns": null,
      "grid_auto_flow": null,
      "grid_auto_rows": null,
      "grid_column": null,
      "grid_gap": null,
      "grid_row": null,
      "grid_template_areas": null,
      "grid_template_columns": null,
      "grid_template_rows": null,
      "height": null,
      "justify_content": null,
      "justify_items": null,
      "left": null,
      "margin": null,
      "max_height": null,
      "max_width": null,
      "min_height": null,
      "min_width": null,
      "object_fit": null,
      "object_position": null,
      "order": null,
      "overflow": null,
      "overflow_x": null,
      "overflow_y": null,
      "padding": null,
      "right": null,
      "top": null,
      "visibility": null,
      "width": null
     }
    },
    "2c3afbfa023543c198b67eeb7406d386": {
     "model_module": "@jupyter-widgets/controls",
     "model_name": "DescriptionStyleModel",
     "model_module_version": "1.5.0",
     "state": {
      "_model_module": "@jupyter-widgets/controls",
      "_model_module_version": "1.5.0",
      "_model_name": "DescriptionStyleModel",
      "_view_count": null,
      "_view_module": "@jupyter-widgets/base",
      "_view_module_version": "1.2.0",
      "_view_name": "StyleView",
      "description_width": ""
     }
    },
    "0007a1053cdb48319641cba91648d84f": {
     "model_module": "@jupyter-widgets/base",
     "model_name": "LayoutModel",
     "model_module_version": "1.2.0",
     "state": {
      "_model_module": "@jupyter-widgets/base",
      "_model_module_version": "1.2.0",
      "_model_name": "LayoutModel",
      "_view_count": null,
      "_view_module": "@jupyter-widgets/base",
      "_view_module_version": "1.2.0",
      "_view_name": "LayoutView",
      "align_content": null,
      "align_items": null,
      "align_self": null,
      "border": null,
      "bottom": null,
      "display": null,
      "flex": null,
      "flex_flow": null,
      "grid_area": null,
      "grid_auto_columns": null,
      "grid_auto_flow": null,
      "grid_auto_rows": null,
      "grid_column": null,
      "grid_gap": null,
      "grid_row": null,
      "grid_template_areas": null,
      "grid_template_columns": null,
      "grid_template_rows": null,
      "height": null,
      "justify_content": null,
      "justify_items": null,
      "left": null,
      "margin": null,
      "max_height": null,
      "max_width": null,
      "min_height": null,
      "min_width": null,
      "object_fit": null,
      "object_position": null,
      "order": null,
      "overflow": null,
      "overflow_x": null,
      "overflow_y": null,
      "padding": null,
      "right": null,
      "top": null,
      "visibility": null,
      "width": null
     }
    },
    "fb9ea4e3395b4deab25fb9b83e4cadac": {
     "model_module": "@jupyter-widgets/controls",
     "model_name": "ProgressStyleModel",
     "model_module_version": "1.5.0",
     "state": {
      "_model_module": "@jupyter-widgets/controls",
      "_model_module_version": "1.5.0",
      "_model_name": "ProgressStyleModel",
      "_view_count": null,
      "_view_module": "@jupyter-widgets/base",
      "_view_module_version": "1.2.0",
      "_view_name": "StyleView",
      "bar_color": null,
      "description_width": ""
     }
    },
    "d71a8ba05b854dd68f75e12753b748e4": {
     "model_module": "@jupyter-widgets/base",
     "model_name": "LayoutModel",
     "model_module_version": "1.2.0",
     "state": {
      "_model_module": "@jupyter-widgets/base",
      "_model_module_version": "1.2.0",
      "_model_name": "LayoutModel",
      "_view_count": null,
      "_view_module": "@jupyter-widgets/base",
      "_view_module_version": "1.2.0",
      "_view_name": "LayoutView",
      "align_content": null,
      "align_items": null,
      "align_self": null,
      "border": null,
      "bottom": null,
      "display": null,
      "flex": null,
      "flex_flow": null,
      "grid_area": null,
      "grid_auto_columns": null,
      "grid_auto_flow": null,
      "grid_auto_rows": null,
      "grid_column": null,
      "grid_gap": null,
      "grid_row": null,
      "grid_template_areas": null,
      "grid_template_columns": null,
      "grid_template_rows": null,
      "height": null,
      "justify_content": null,
      "justify_items": null,
      "left": null,
      "margin": null,
      "max_height": null,
      "max_width": null,
      "min_height": null,
      "min_width": null,
      "object_fit": null,
      "object_position": null,
      "order": null,
      "overflow": null,
      "overflow_x": null,
      "overflow_y": null,
      "padding": null,
      "right": null,
      "top": null,
      "visibility": null,
      "width": null
     }
    },
    "379d1211b6e74ce3bf1db0a9fe1ef917": {
     "model_module": "@jupyter-widgets/controls",
     "model_name": "DescriptionStyleModel",
     "model_module_version": "1.5.0",
     "state": {
      "_model_module": "@jupyter-widgets/controls",
      "_model_module_version": "1.5.0",
      "_model_name": "DescriptionStyleModel",
      "_view_count": null,
      "_view_module": "@jupyter-widgets/base",
      "_view_module_version": "1.2.0",
      "_view_name": "StyleView",
      "description_width": ""
     }
    },
    "d03c95daf73e413886e326a31231bc1a": {
     "model_module": "@jupyter-widgets/controls",
     "model_name": "HBoxModel",
     "model_module_version": "1.5.0",
     "state": {
      "_dom_classes": [],
      "_model_module": "@jupyter-widgets/controls",
      "_model_module_version": "1.5.0",
      "_model_name": "HBoxModel",
      "_view_count": null,
      "_view_module": "@jupyter-widgets/controls",
      "_view_module_version": "1.5.0",
      "_view_name": "HBoxView",
      "box_style": "",
      "children": [
       "IPY_MODEL_e8cd67caeb4c4939bd47567a3e0df8e0",
       "IPY_MODEL_ee7235fe3e584617939bc68c5869c603",
       "IPY_MODEL_69f204c1acfc45838a6f1354429cb25c"
      ],
      "layout": "IPY_MODEL_f8dc8959c22841d0a9472563328ec47d"
     }
    },
    "e8cd67caeb4c4939bd47567a3e0df8e0": {
     "model_module": "@jupyter-widgets/controls",
     "model_name": "HTMLModel",
     "model_module_version": "1.5.0",
     "state": {
      "_dom_classes": [],
      "_model_module": "@jupyter-widgets/controls",
      "_model_module_version": "1.5.0",
      "_model_name": "HTMLModel",
      "_view_count": null,
      "_view_module": "@jupyter-widgets/controls",
      "_view_module_version": "1.5.0",
      "_view_name": "HTMLView",
      "description": "",
      "description_tooltip": null,
      "layout": "IPY_MODEL_ac562277df744fe0baed9b00b4b18e2e",
      "placeholder": "​",
      "style": "IPY_MODEL_706510e4b24b4fcba42c2296b5aacb06",
      "value": "tokenizer.json: 100%"
     }
    },
    "ee7235fe3e584617939bc68c5869c603": {
     "model_module": "@jupyter-widgets/controls",
     "model_name": "FloatProgressModel",
     "model_module_version": "1.5.0",
     "state": {
      "_dom_classes": [],
      "_model_module": "@jupyter-widgets/controls",
      "_model_module_version": "1.5.0",
      "_model_name": "FloatProgressModel",
      "_view_count": null,
      "_view_module": "@jupyter-widgets/controls",
      "_view_module_version": "1.5.0",
      "_view_name": "ProgressView",
      "bar_style": "success",
      "description": "",
      "description_tooltip": null,
      "layout": "IPY_MODEL_2a5632ac5ed1400498335fe0d47b8b00",
      "max": 466062,
      "min": 0,
      "orientation": "horizontal",
      "style": "IPY_MODEL_2976bde61d2e462087379efa23c59f95",
      "value": 466062
     }
    },
    "69f204c1acfc45838a6f1354429cb25c": {
     "model_module": "@jupyter-widgets/controls",
     "model_name": "HTMLModel",
     "model_module_version": "1.5.0",
     "state": {
      "_dom_classes": [],
      "_model_module": "@jupyter-widgets/controls",
      "_model_module_version": "1.5.0",
      "_model_name": "HTMLModel",
      "_view_count": null,
      "_view_module": "@jupyter-widgets/controls",
      "_view_module_version": "1.5.0",
      "_view_name": "HTMLView",
      "description": "",
      "description_tooltip": null,
      "layout": "IPY_MODEL_a245d4f60fa5437d8c15c07176d6203b",
      "placeholder": "​",
      "style": "IPY_MODEL_1ab55a2fda9a49909b0870826720c339",
      "value": " 466k/466k [00:00&lt;00:00, 2.16MB/s]"
     }
    },
    "f8dc8959c22841d0a9472563328ec47d": {
     "model_module": "@jupyter-widgets/base",
     "model_name": "LayoutModel",
     "model_module_version": "1.2.0",
     "state": {
      "_model_module": "@jupyter-widgets/base",
      "_model_module_version": "1.2.0",
      "_model_name": "LayoutModel",
      "_view_count": null,
      "_view_module": "@jupyter-widgets/base",
      "_view_module_version": "1.2.0",
      "_view_name": "LayoutView",
      "align_content": null,
      "align_items": null,
      "align_self": null,
      "border": null,
      "bottom": null,
      "display": null,
      "flex": null,
      "flex_flow": null,
      "grid_area": null,
      "grid_auto_columns": null,
      "grid_auto_flow": null,
      "grid_auto_rows": null,
      "grid_column": null,
      "grid_gap": null,
      "grid_row": null,
      "grid_template_areas": null,
      "grid_template_columns": null,
      "grid_template_rows": null,
      "height": null,
      "justify_content": null,
      "justify_items": null,
      "left": null,
      "margin": null,
      "max_height": null,
      "max_width": null,
      "min_height": null,
      "min_width": null,
      "object_fit": null,
      "object_position": null,
      "order": null,
      "overflow": null,
      "overflow_x": null,
      "overflow_y": null,
      "padding": null,
      "right": null,
      "top": null,
      "visibility": null,
      "width": null
     }
    },
    "ac562277df744fe0baed9b00b4b18e2e": {
     "model_module": "@jupyter-widgets/base",
     "model_name": "LayoutModel",
     "model_module_version": "1.2.0",
     "state": {
      "_model_module": "@jupyter-widgets/base",
      "_model_module_version": "1.2.0",
      "_model_name": "LayoutModel",
      "_view_count": null,
      "_view_module": "@jupyter-widgets/base",
      "_view_module_version": "1.2.0",
      "_view_name": "LayoutView",
      "align_content": null,
      "align_items": null,
      "align_self": null,
      "border": null,
      "bottom": null,
      "display": null,
      "flex": null,
      "flex_flow": null,
      "grid_area": null,
      "grid_auto_columns": null,
      "grid_auto_flow": null,
      "grid_auto_rows": null,
      "grid_column": null,
      "grid_gap": null,
      "grid_row": null,
      "grid_template_areas": null,
      "grid_template_columns": null,
      "grid_template_rows": null,
      "height": null,
      "justify_content": null,
      "justify_items": null,
      "left": null,
      "margin": null,
      "max_height": null,
      "max_width": null,
      "min_height": null,
      "min_width": null,
      "object_fit": null,
      "object_position": null,
      "order": null,
      "overflow": null,
      "overflow_x": null,
      "overflow_y": null,
      "padding": null,
      "right": null,
      "top": null,
      "visibility": null,
      "width": null
     }
    },
    "706510e4b24b4fcba42c2296b5aacb06": {
     "model_module": "@jupyter-widgets/controls",
     "model_name": "DescriptionStyleModel",
     "model_module_version": "1.5.0",
     "state": {
      "_model_module": "@jupyter-widgets/controls",
      "_model_module_version": "1.5.0",
      "_model_name": "DescriptionStyleModel",
      "_view_count": null,
      "_view_module": "@jupyter-widgets/base",
      "_view_module_version": "1.2.0",
      "_view_name": "StyleView",
      "description_width": ""
     }
    },
    "2a5632ac5ed1400498335fe0d47b8b00": {
     "model_module": "@jupyter-widgets/base",
     "model_name": "LayoutModel",
     "model_module_version": "1.2.0",
     "state": {
      "_model_module": "@jupyter-widgets/base",
      "_model_module_version": "1.2.0",
      "_model_name": "LayoutModel",
      "_view_count": null,
      "_view_module": "@jupyter-widgets/base",
      "_view_module_version": "1.2.0",
      "_view_name": "LayoutView",
      "align_content": null,
      "align_items": null,
      "align_self": null,
      "border": null,
      "bottom": null,
      "display": null,
      "flex": null,
      "flex_flow": null,
      "grid_area": null,
      "grid_auto_columns": null,
      "grid_auto_flow": null,
      "grid_auto_rows": null,
      "grid_column": null,
      "grid_gap": null,
      "grid_row": null,
      "grid_template_areas": null,
      "grid_template_columns": null,
      "grid_template_rows": null,
      "height": null,
      "justify_content": null,
      "justify_items": null,
      "left": null,
      "margin": null,
      "max_height": null,
      "max_width": null,
      "min_height": null,
      "min_width": null,
      "object_fit": null,
      "object_position": null,
      "order": null,
      "overflow": null,
      "overflow_x": null,
      "overflow_y": null,
      "padding": null,
      "right": null,
      "top": null,
      "visibility": null,
      "width": null
     }
    },
    "2976bde61d2e462087379efa23c59f95": {
     "model_module": "@jupyter-widgets/controls",
     "model_name": "ProgressStyleModel",
     "model_module_version": "1.5.0",
     "state": {
      "_model_module": "@jupyter-widgets/controls",
      "_model_module_version": "1.5.0",
      "_model_name": "ProgressStyleModel",
      "_view_count": null,
      "_view_module": "@jupyter-widgets/base",
      "_view_module_version": "1.2.0",
      "_view_name": "StyleView",
      "bar_color": null,
      "description_width": ""
     }
    },
    "a245d4f60fa5437d8c15c07176d6203b": {
     "model_module": "@jupyter-widgets/base",
     "model_name": "LayoutModel",
     "model_module_version": "1.2.0",
     "state": {
      "_model_module": "@jupyter-widgets/base",
      "_model_module_version": "1.2.0",
      "_model_name": "LayoutModel",
      "_view_count": null,
      "_view_module": "@jupyter-widgets/base",
      "_view_module_version": "1.2.0",
      "_view_name": "LayoutView",
      "align_content": null,
      "align_items": null,
      "align_self": null,
      "border": null,
      "bottom": null,
      "display": null,
      "flex": null,
      "flex_flow": null,
      "grid_area": null,
      "grid_auto_columns": null,
      "grid_auto_flow": null,
      "grid_auto_rows": null,
      "grid_column": null,
      "grid_gap": null,
      "grid_row": null,
      "grid_template_areas": null,
      "grid_template_columns": null,
      "grid_template_rows": null,
      "height": null,
      "justify_content": null,
      "justify_items": null,
      "left": null,
      "margin": null,
      "max_height": null,
      "max_width": null,
      "min_height": null,
      "min_width": null,
      "object_fit": null,
      "object_position": null,
      "order": null,
      "overflow": null,
      "overflow_x": null,
      "overflow_y": null,
      "padding": null,
      "right": null,
      "top": null,
      "visibility": null,
      "width": null
     }
    },
    "1ab55a2fda9a49909b0870826720c339": {
     "model_module": "@jupyter-widgets/controls",
     "model_name": "DescriptionStyleModel",
     "model_module_version": "1.5.0",
     "state": {
      "_model_module": "@jupyter-widgets/controls",
      "_model_module_version": "1.5.0",
      "_model_name": "DescriptionStyleModel",
      "_view_count": null,
      "_view_module": "@jupyter-widgets/base",
      "_view_module_version": "1.2.0",
      "_view_name": "StyleView",
      "description_width": ""
     }
    },
    "edc376a33a304fbd9eb4b80b6d1bfcb1": {
     "model_module": "@jupyter-widgets/controls",
     "model_name": "HBoxModel",
     "model_module_version": "1.5.0",
     "state": {
      "_dom_classes": [],
      "_model_module": "@jupyter-widgets/controls",
      "_model_module_version": "1.5.0",
      "_model_name": "HBoxModel",
      "_view_count": null,
      "_view_module": "@jupyter-widgets/controls",
      "_view_module_version": "1.5.0",
      "_view_name": "HBoxView",
      "box_style": "",
      "children": [
       "IPY_MODEL_5b0c4c23ce2f4dccb7aa5f0d490f42d0",
       "IPY_MODEL_c906f28585f34ec3b0476ff747ebccf6",
       "IPY_MODEL_b6336f44312443888e246fd020b612a8"
      ],
      "layout": "IPY_MODEL_211d169d98d94b9cb518994b426b812f"
     }
    },
    "5b0c4c23ce2f4dccb7aa5f0d490f42d0": {
     "model_module": "@jupyter-widgets/controls",
     "model_name": "HTMLModel",
     "model_module_version": "1.5.0",
     "state": {
      "_dom_classes": [],
      "_model_module": "@jupyter-widgets/controls",
      "_model_module_version": "1.5.0",
      "_model_name": "HTMLModel",
      "_view_count": null,
      "_view_module": "@jupyter-widgets/controls",
      "_view_module_version": "1.5.0",
      "_view_name": "HTMLView",
      "description": "",
      "description_tooltip": null,
      "layout": "IPY_MODEL_40cf847e0311422eba0ad07abde81e3c",
      "placeholder": "​",
      "style": "IPY_MODEL_c27b5606001149a481c632f7b35f5c3a",
      "value": "config.json: 100%"
     }
    },
    "c906f28585f34ec3b0476ff747ebccf6": {
     "model_module": "@jupyter-widgets/controls",
     "model_name": "FloatProgressModel",
     "model_module_version": "1.5.0",
     "state": {
      "_dom_classes": [],
      "_model_module": "@jupyter-widgets/controls",
      "_model_module_version": "1.5.0",
      "_model_name": "FloatProgressModel",
      "_view_count": null,
      "_view_module": "@jupyter-widgets/controls",
      "_view_module_version": "1.5.0",
      "_view_name": "ProgressView",
      "bar_style": "success",
      "description": "",
      "description_tooltip": null,
      "layout": "IPY_MODEL_f8eba3bfe61b40bb91618b273eb60317",
      "max": 570,
      "min": 0,
      "orientation": "horizontal",
      "style": "IPY_MODEL_e17492ddcb084710b2a4db0209cb84e9",
      "value": 570
     }
    },
    "b6336f44312443888e246fd020b612a8": {
     "model_module": "@jupyter-widgets/controls",
     "model_name": "HTMLModel",
     "model_module_version": "1.5.0",
     "state": {
      "_dom_classes": [],
      "_model_module": "@jupyter-widgets/controls",
      "_model_module_version": "1.5.0",
      "_model_name": "HTMLModel",
      "_view_count": null,
      "_view_module": "@jupyter-widgets/controls",
      "_view_module_version": "1.5.0",
      "_view_name": "HTMLView",
      "description": "",
      "description_tooltip": null,
      "layout": "IPY_MODEL_945bc6f7c2b14faaa292fb51f0c4f361",
      "placeholder": "​",
      "style": "IPY_MODEL_3b971fdc9a7742aeb5aac892ee0ad11e",
      "value": " 570/570 [00:00&lt;00:00, 48.0kB/s]"
     }
    },
    "211d169d98d94b9cb518994b426b812f": {
     "model_module": "@jupyter-widgets/base",
     "model_name": "LayoutModel",
     "model_module_version": "1.2.0",
     "state": {
      "_model_module": "@jupyter-widgets/base",
      "_model_module_version": "1.2.0",
      "_model_name": "LayoutModel",
      "_view_count": null,
      "_view_module": "@jupyter-widgets/base",
      "_view_module_version": "1.2.0",
      "_view_name": "LayoutView",
      "align_content": null,
      "align_items": null,
      "align_self": null,
      "border": null,
      "bottom": null,
      "display": null,
      "flex": null,
      "flex_flow": null,
      "grid_area": null,
      "grid_auto_columns": null,
      "grid_auto_flow": null,
      "grid_auto_rows": null,
      "grid_column": null,
      "grid_gap": null,
      "grid_row": null,
      "grid_template_areas": null,
      "grid_template_columns": null,
      "grid_template_rows": null,
      "height": null,
      "justify_content": null,
      "justify_items": null,
      "left": null,
      "margin": null,
      "max_height": null,
      "max_width": null,
      "min_height": null,
      "min_width": null,
      "object_fit": null,
      "object_position": null,
      "order": null,
      "overflow": null,
      "overflow_x": null,
      "overflow_y": null,
      "padding": null,
      "right": null,
      "top": null,
      "visibility": null,
      "width": null
     }
    },
    "40cf847e0311422eba0ad07abde81e3c": {
     "model_module": "@jupyter-widgets/base",
     "model_name": "LayoutModel",
     "model_module_version": "1.2.0",
     "state": {
      "_model_module": "@jupyter-widgets/base",
      "_model_module_version": "1.2.0",
      "_model_name": "LayoutModel",
      "_view_count": null,
      "_view_module": "@jupyter-widgets/base",
      "_view_module_version": "1.2.0",
      "_view_name": "LayoutView",
      "align_content": null,
      "align_items": null,
      "align_self": null,
      "border": null,
      "bottom": null,
      "display": null,
      "flex": null,
      "flex_flow": null,
      "grid_area": null,
      "grid_auto_columns": null,
      "grid_auto_flow": null,
      "grid_auto_rows": null,
      "grid_column": null,
      "grid_gap": null,
      "grid_row": null,
      "grid_template_areas": null,
      "grid_template_columns": null,
      "grid_template_rows": null,
      "height": null,
      "justify_content": null,
      "justify_items": null,
      "left": null,
      "margin": null,
      "max_height": null,
      "max_width": null,
      "min_height": null,
      "min_width": null,
      "object_fit": null,
      "object_position": null,
      "order": null,
      "overflow": null,
      "overflow_x": null,
      "overflow_y": null,
      "padding": null,
      "right": null,
      "top": null,
      "visibility": null,
      "width": null
     }
    },
    "c27b5606001149a481c632f7b35f5c3a": {
     "model_module": "@jupyter-widgets/controls",
     "model_name": "DescriptionStyleModel",
     "model_module_version": "1.5.0",
     "state": {
      "_model_module": "@jupyter-widgets/controls",
      "_model_module_version": "1.5.0",
      "_model_name": "DescriptionStyleModel",
      "_view_count": null,
      "_view_module": "@jupyter-widgets/base",
      "_view_module_version": "1.2.0",
      "_view_name": "StyleView",
      "description_width": ""
     }
    },
    "f8eba3bfe61b40bb91618b273eb60317": {
     "model_module": "@jupyter-widgets/base",
     "model_name": "LayoutModel",
     "model_module_version": "1.2.0",
     "state": {
      "_model_module": "@jupyter-widgets/base",
      "_model_module_version": "1.2.0",
      "_model_name": "LayoutModel",
      "_view_count": null,
      "_view_module": "@jupyter-widgets/base",
      "_view_module_version": "1.2.0",
      "_view_name": "LayoutView",
      "align_content": null,
      "align_items": null,
      "align_self": null,
      "border": null,
      "bottom": null,
      "display": null,
      "flex": null,
      "flex_flow": null,
      "grid_area": null,
      "grid_auto_columns": null,
      "grid_auto_flow": null,
      "grid_auto_rows": null,
      "grid_column": null,
      "grid_gap": null,
      "grid_row": null,
      "grid_template_areas": null,
      "grid_template_columns": null,
      "grid_template_rows": null,
      "height": null,
      "justify_content": null,
      "justify_items": null,
      "left": null,
      "margin": null,
      "max_height": null,
      "max_width": null,
      "min_height": null,
      "min_width": null,
      "object_fit": null,
      "object_position": null,
      "order": null,
      "overflow": null,
      "overflow_x": null,
      "overflow_y": null,
      "padding": null,
      "right": null,
      "top": null,
      "visibility": null,
      "width": null
     }
    },
    "e17492ddcb084710b2a4db0209cb84e9": {
     "model_module": "@jupyter-widgets/controls",
     "model_name": "ProgressStyleModel",
     "model_module_version": "1.5.0",
     "state": {
      "_model_module": "@jupyter-widgets/controls",
      "_model_module_version": "1.5.0",
      "_model_name": "ProgressStyleModel",
      "_view_count": null,
      "_view_module": "@jupyter-widgets/base",
      "_view_module_version": "1.2.0",
      "_view_name": "StyleView",
      "bar_color": null,
      "description_width": ""
     }
    },
    "945bc6f7c2b14faaa292fb51f0c4f361": {
     "model_module": "@jupyter-widgets/base",
     "model_name": "LayoutModel",
     "model_module_version": "1.2.0",
     "state": {
      "_model_module": "@jupyter-widgets/base",
      "_model_module_version": "1.2.0",
      "_model_name": "LayoutModel",
      "_view_count": null,
      "_view_module": "@jupyter-widgets/base",
      "_view_module_version": "1.2.0",
      "_view_name": "LayoutView",
      "align_content": null,
      "align_items": null,
      "align_self": null,
      "border": null,
      "bottom": null,
      "display": null,
      "flex": null,
      "flex_flow": null,
      "grid_area": null,
      "grid_auto_columns": null,
      "grid_auto_flow": null,
      "grid_auto_rows": null,
      "grid_column": null,
      "grid_gap": null,
      "grid_row": null,
      "grid_template_areas": null,
      "grid_template_columns": null,
      "grid_template_rows": null,
      "height": null,
      "justify_content": null,
      "justify_items": null,
      "left": null,
      "margin": null,
      "max_height": null,
      "max_width": null,
      "min_height": null,
      "min_width": null,
      "object_fit": null,
      "object_position": null,
      "order": null,
      "overflow": null,
      "overflow_x": null,
      "overflow_y": null,
      "padding": null,
      "right": null,
      "top": null,
      "visibility": null,
      "width": null
     }
    },
    "3b971fdc9a7742aeb5aac892ee0ad11e": {
     "model_module": "@jupyter-widgets/controls",
     "model_name": "DescriptionStyleModel",
     "model_module_version": "1.5.0",
     "state": {
      "_model_module": "@jupyter-widgets/controls",
      "_model_module_version": "1.5.0",
      "_model_name": "DescriptionStyleModel",
      "_view_count": null,
      "_view_module": "@jupyter-widgets/base",
      "_view_module_version": "1.2.0",
      "_view_name": "StyleView",
      "description_width": ""
     }
    }
   }
  }
 },
 "nbformat": 4,
 "nbformat_minor": 0
}
